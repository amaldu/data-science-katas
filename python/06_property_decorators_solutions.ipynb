{
 "cells": [
  {
   "cell_type": "markdown",
   "metadata": {},
   "source": [
    "## 1. Create a class Employee with:\n",
    "- attributes first, last, email (first.last@example.com)\n",
    "- full_name method that returns the full name\n",
    "\n",
    "Instantiate it under the name emp_1 and print:\n",
    "- emp_1 first name\n",
    "- emp_1 last name\n",
    "- emp_1 email\n",
    "- emp_1 full name"
   ]
  },
  {
   "cell_type": "code",
   "execution_count": null,
   "metadata": {},
   "outputs": [],
   "source": [
    "class Employee:\n",
    "    def __init__(self,first, last):\n",
    "        self.first = first\n",
    "        self.last = last\n",
    "        self.email = f\"{first.lower()}.{last.lower()}@example.com\"\n",
    "        \n",
    "    def full_name(self):\n",
    "        return f\"{self.first} {self.last}\"\n",
    "    \n",
    "emp_1 = Employee(\"John\", \"Schmidt\")\n",
    "\n",
    "print(emp_1.first)\n",
    "print(emp_1.last)\n",
    "print(emp_1.email)\n",
    "print(emp_1.full_name())"
   ]
  },
  {
   "cell_type": "markdown",
   "metadata": {},
   "source": [
    "## 2.  Change first name to \"Jim\" and print:\n",
    "- emp_1 first name\n",
    "- emp_1 last name\n",
    "- emp_1 email\n",
    "- emp_1 full name\n",
    "\n",
    "what happens with the email? what happens with the full name?"
   ]
  },
  {
   "cell_type": "code",
   "execution_count": null,
   "metadata": {},
   "outputs": [],
   "source": [
    "emp_1.first = \"Jim\"\n",
    "\n",
    "print(emp_1.first)\n",
    "print(emp_1.last)\n",
    "print(emp_1.email)\n",
    "print(emp_1.full_name())\n",
    "\n",
    "# the email stays the same but the full name changes"
   ]
  },
  {
   "cell_type": "markdown",
   "metadata": {},
   "source": [
    "## 3. Find a solution to also update the email every time that the first name or last name are changed. \n",
    "\n",
    "Hint: turn email attribute into a method and add the @property decorator"
   ]
  },
  {
   "cell_type": "code",
   "execution_count": null,
   "metadata": {},
   "outputs": [],
   "source": [
    "class Employee:\n",
    "    def __init__(self,first, last):\n",
    "        self.first = first\n",
    "        self.last = last\n",
    "    @property # we are defining email as a method inside the class but now we can access it as if it was an attribute\n",
    "    def email(self):\n",
    "        return f\"{self.first.lower()}.{self.last.lower()}@example.com\"\n",
    "    def full_name(self):\n",
    "        return f\"{self.first} {self.last}\"\n",
    "    \n",
    "emp_1 = Employee(\"John\", \"Schmidt\")\n",
    "\n",
    "print(emp_1.first)\n",
    "print(emp_1.last)\n",
    "print(emp_1.email)\n",
    "print(emp_1.full_name())\n",
    "\n",
    "print(\"\\n\")\n",
    "\n",
    "emp_1.first = \"Jim\"\n",
    "\n",
    "print(emp_1.first)\n",
    "print(emp_1.last)\n",
    "print(emp_1.email)\n",
    "print(emp_1.full_name())\n"
   ]
  },
  {
   "cell_type": "markdown",
   "metadata": {},
   "source": [
    "## 4. We want to change the full name of the emp_1, how can we make everything else change too without changing the code too much so there is no need to check the rest of the code?\n",
    "\n",
    "Hint: use @function.setter"
   ]
  },
  {
   "cell_type": "code",
   "execution_count": null,
   "metadata": {},
   "outputs": [],
   "source": [
    "class Employee:\n",
    "    def __init__(self,first, last):\n",
    "        self.first = first\n",
    "        self.last = last\n",
    "    @property # we are defining email as a method inside the class but now we can access it as if it was an attribute\n",
    "    def email(self):\n",
    "        return f\"{self.first.lower()}.{self.last.lower()}@example.com\"\n",
    "    \n",
    "    @property \n",
    "    def full_name(self):\n",
    "        return f\"{self.first} {self.last}\"\n",
    "    \n",
    "    @full_name.setter\n",
    "    def full_name(self, name):\n",
    "        first, last = name.split(' ')\n",
    "        self.first = first\n",
    "        self.last = last\n",
    "    \n",
    "emp_1 = Employee(\"John\", \"Schmidt\")\n",
    "\n",
    "print(emp_1.first)\n",
    "print(emp_1.last)\n",
    "print(emp_1.email)\n",
    "print(emp_1.full_name)\n",
    "\n",
    "print(\"\\n\")\n",
    "\n",
    "emp_1.full_name = \"Corina Lampiaggio\"\n",
    "\n",
    "print(emp_1.first)\n",
    "print(emp_1.last)\n",
    "print(emp_1.email)\n",
    "print(emp_1.full_name)"
   ]
  },
  {
   "cell_type": "markdown",
   "metadata": {},
   "source": [
    "## 5. Now we want to delete the employee full name in the same way, modify the class accordingly \n",
    "\n",
    "Hint: use @function.deleter"
   ]
  },
  {
   "cell_type": "code",
   "execution_count": null,
   "metadata": {},
   "outputs": [],
   "source": [
    "class Employee:\n",
    "    def __init__(self,first, last):\n",
    "        self.first = first\n",
    "        self.last = last\n",
    "    @property # we are defining email as a method inside the class but now we can access it as if it was an attribute\n",
    "    def email(self):\n",
    "        return f\"{self.first.lower()}.{self.last.lower()}@example.com\"\n",
    "    @property \n",
    "    def full_name(self):\n",
    "        return f\"{self.first} {self.last}\"\n",
    "    \n",
    "    @full_name.setter\n",
    "    def full_name(self, name):\n",
    "        first, last = name.split(' ')\n",
    "        self.first = first\n",
    "        self.last = last\n",
    "    \n",
    "    @full_name.deleter\n",
    "    def full_name(self):\n",
    "        print(\"Delete Name!\")\n",
    "        self.first = None\n",
    "        self.last = None\n",
    "    \n",
    "emp_1 = Employee(\"John\", \"Schmidt\")\n",
    "\n",
    "print(emp_1.first)\n",
    "print(emp_1.last)\n",
    "print(emp_1.email)\n",
    "print(emp_1.full_name)\n",
    "\n",
    "print(\"\\n\")\n",
    "del emp_1.full_name\n",
    "\n",
    "print(emp_1.first)\n",
    "print(emp_1.last)\n"
   ]
  }
 ],
 "metadata": {
  "kernelspec": {
   "display_name": "data-science-katas",
   "language": "python",
   "name": "ds-katas"
  },
  "language_info": {
   "codemirror_mode": {
    "name": "ipython",
    "version": 3
   },
   "file_extension": ".py",
   "mimetype": "text/x-python",
   "name": "python",
   "nbconvert_exporter": "python",
   "pygments_lexer": "ipython3",
   "version": "3.10.12"
  }
 },
 "nbformat": 4,
 "nbformat_minor": 2
}
