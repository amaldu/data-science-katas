{
 "cells": [
  {
   "cell_type": "markdown",
   "metadata": {},
   "source": [
    "Inheritance allows us to inherit attributes and methods from a parent class. This is useful because we can create subclasses and get all the functionalities from the parent class, overwrite them or add completely new functionalities without affecting the parent class at all"
   ]
  },
  {
   "cell_type": "markdown",
   "metadata": {},
   "source": [
    "## 1. Write an Employee class with:\n",
    "- class variable raise_amt = 1.05\n",
    "- constructor with first, last, email and salary variables, email is created as first.last@example.com\n",
    "- full_name method that returns the full name separted by spaces\n",
    "- method called apply_raise that returns the updated salary as the product of the salary by the raise_amt\n",
    "Instantiate the Employee class twice under the names \"emp_1\" and \"emp_2\""
   ]
  },
  {
   "cell_type": "code",
   "execution_count": null,
   "metadata": {},
   "outputs": [],
   "source": []
  },
  {
   "cell_type": "markdown",
   "metadata": {},
   "source": [
    "## 2. The company wants to create different types of employees that are more specific. Create a Manager and a Developer class that inherit from Employee, leave them empty. \n",
    "\n",
    "Create dev_1 and dev_2 this time from Developer class. Print dev_1 full_name and dev_2 email. What happens?"
   ]
  },
  {
   "cell_type": "code",
   "execution_count": null,
   "metadata": {},
   "outputs": [],
   "source": []
  },
  {
   "cell_type": "markdown",
   "metadata": {},
   "source": [
    "## 3. Execute the command print(help(Developer)). What is the method resolution order?"
   ]
  },
  {
   "cell_type": "code",
   "execution_count": null,
   "metadata": {},
   "outputs": [],
   "source": []
  },
  {
   "cell_type": "markdown",
   "metadata": {},
   "source": [
    "## 4. Change the raise amount to an increase of 35% on the Developer class, then instantiate dev_1 from it. Finally instantiate emp_2 from the class Employee. Now print:\n",
    "- dev_1 salary\n",
    "- dev_1 apply raise\n",
    "- dev_1 salary \n",
    "- emp_2 salary\n",
    "- emp_2 apply raise\n",
    "- emp_2 salary\n",
    "\n",
    "What happens?"
   ]
  },
  {
   "cell_type": "code",
   "execution_count": null,
   "metadata": {},
   "outputs": [],
   "source": []
  },
  {
   "cell_type": "markdown",
   "metadata": {},
   "source": [
    "## 5. Rewrite the Developer class that inherits from the Employee class and add the argument \"prog_lang\". \n",
    "\n",
    "Instantiate dev_1 with python and dev_2 with java.\n",
    "\n",
    "Print: \n",
    "- dev_1 email\n",
    "- dev_2 programming language"
   ]
  },
  {
   "cell_type": "code",
   "execution_count": null,
   "metadata": {},
   "outputs": [],
   "source": []
  },
  {
   "cell_type": "markdown",
   "metadata": {},
   "source": [
    "## 6. Rewrite the subclass named manager that inherits from Employee. \n",
    "- Add as an attribute an empty list of developers that this manager has in his team.\n",
    "- Add a method called add_emp that adds employees\n",
    "- Add another method called remove_emp that removes employees\n",
    "- Add a final method called print_emps that prints the employee full name \n",
    "\n",
    "Instantiate the class Manager twice and save them inside manager_1 and manager_2. Manager_1 has a list of developers, manager_2 has it empty. \n",
    "\n",
    "Print :\n",
    "- manager_1 employees\n",
    "- manager 1 email"
   ]
  },
  {
   "cell_type": "code",
   "execution_count": null,
   "metadata": {},
   "outputs": [],
   "source": []
  },
  {
   "cell_type": "markdown",
   "metadata": {},
   "source": [
    "## 7. isinstace()\n",
    "\n",
    "isinstance() tells us if an object is an instance of a class. Check if manager_1 is an instance of Manager, then check if dev_1 is an instance of Manager\n"
   ]
  },
  {
   "cell_type": "code",
   "execution_count": null,
   "metadata": {},
   "outputs": [],
   "source": []
  },
  {
   "cell_type": "markdown",
   "metadata": {},
   "source": [
    "## 8. issubclass()\n",
    "\n",
    "issubclass() tells us if an object is a subclass of a class. Check if Manager is an subclass of Developer, then check if Manager is a subclass of Employee"
   ]
  },
  {
   "cell_type": "code",
   "execution_count": null,
   "metadata": {},
   "outputs": [],
   "source": []
  }
 ],
 "metadata": {
  "kernelspec": {
   "display_name": "data-science-katas",
   "language": "python",
   "name": "ds-katas"
  },
  "language_info": {
   "codemirror_mode": {
    "name": "ipython",
    "version": 3
   },
   "file_extension": ".py",
   "mimetype": "text/x-python",
   "name": "python",
   "nbconvert_exporter": "python",
   "pygments_lexer": "ipython3",
   "version": "3.10.12"
  }
 },
 "nbformat": 4,
 "nbformat_minor": 2
}
