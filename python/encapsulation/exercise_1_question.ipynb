{
 "cells": [
  {
   "cell_type": "markdown",
   "id": "945711b9",
   "metadata": {},
   "source": [
    "# Encapsulation\n",
    "\n",
    "## Encapsulation is about hiding the internal state and behaviour of an object and restricting the direct access to the components of the class, only exposing a controlled interface for interacting with it by using \"getters\" and \"setters\".\n",
    "## It's a good practise because it prevents external code from accidentally changing internal data, it helps keep your code modular and easier to maintain. \n",
    "\n",
    "## In order to access and work with these private variables we use two types of functions with a @property and @functionname.setter @functionname.getter\n",
    "\n",
    "----------------------------------------------------------------------------------------------------------------------------------------------------\n"
   ]
  },
  {
   "cell_type": "markdown",
   "id": "a17c86a1",
   "metadata": {},
   "source": [
    "## 1. Create a class called Person with a constructor to initialize name, age and gender, all private variables. \n",
    "### Instantiate the class and access name (print(instance.__name)). What happens?\n",
    "### Overwrite name with \"Mike\" and print. Access the dict of attributes of the instance (print(p.__dict__)) . What happens?"
   ]
  },
  {
   "cell_type": "code",
   "execution_count": null,
   "id": "ced03465",
   "metadata": {},
   "outputs": [],
   "source": []
  },
  {
   "cell_type": "code",
   "execution_count": null,
   "id": "6b00548c",
   "metadata": {},
   "outputs": [],
   "source": []
  },
  {
   "cell_type": "markdown",
   "id": "c12f578e",
   "metadata": {},
   "source": []
  },
  {
   "cell_type": "markdown",
   "id": "2f7d463b",
   "metadata": {},
   "source": [
    "## 2. Rewrite the function adding a function called Name that returns the instance attribute __name."
   ]
  },
  {
   "cell_type": "code",
   "execution_count": null,
   "id": "899dfa57",
   "metadata": {},
   "outputs": [],
   "source": []
  },
  {
   "cell_type": "markdown",
   "id": "a2d51a99",
   "metadata": {},
   "source": [
    "## 3. Add a setting function to modify the value of name. If name = \"Bob\" set \"Default name\", otherwise set the new name. \n",
    "## Instantiate the class, print name, change name to Bob, print name again"
   ]
  },
  {
   "cell_type": "code",
   "execution_count": null,
   "id": "ec2325f2",
   "metadata": {},
   "outputs": [],
   "source": []
  },
  {
   "cell_type": "code",
   "execution_count": null,
   "id": "ec039d1a",
   "metadata": {},
   "outputs": [],
   "source": []
  },
  {
   "cell_type": "markdown",
   "id": "ba383087",
   "metadata": {},
   "source": [
    "## Disclaimer! Python does not have real private variables like some other languages. Prefixing the attributes with double underscores triggers **name mangling**, making it harder to access it from outside. Python uses **name mangling** (variables with double underscore at the begining) to protect class-private attributes by internally changing the name of the variable."
   ]
  },
  {
   "cell_type": "code",
   "execution_count": null,
   "id": "577d8a37",
   "metadata": {},
   "outputs": [],
   "source": []
  },
  {
   "cell_type": "code",
   "execution_count": null,
   "id": "3cbeef3e",
   "metadata": {},
   "outputs": [],
   "source": []
  },
  {
   "cell_type": "code",
   "execution_count": null,
   "id": "e40472eb",
   "metadata": {},
   "outputs": [],
   "source": []
  }
 ],
 "metadata": {
  "kernelspec": {
   "display_name": "data-science-katas",
   "language": "python",
   "name": "ds-katas"
  },
  "language_info": {
   "codemirror_mode": {
    "name": "ipython",
    "version": 3
   },
   "file_extension": ".py",
   "mimetype": "text/x-python",
   "name": "python",
   "nbconvert_exporter": "python",
   "pygments_lexer": "ipython3",
   "version": "3.10.12"
  }
 },
 "nbformat": 4,
 "nbformat_minor": 5
}
