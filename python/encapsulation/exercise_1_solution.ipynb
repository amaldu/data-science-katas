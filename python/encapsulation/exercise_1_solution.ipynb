{
 "cells": [
  {
   "cell_type": "markdown",
   "id": "945711b9",
   "metadata": {},
   "source": [
    "# Encapsulation\n",
    "\n",
    "## Encapsulation is about hiding the internal state and behaviour of an object and restricting the direct access to the components of the class, only exposing a controlled interface for interacting with it by using \"getters\" and \"setters\".\n",
    "## It's a good practise because it prevents external code from accidentally changing internal data, it helps keep your code modular and easier to maintain. \n",
    "\n",
    "## In order to access and work with these private variables we use two types of functions with a @property and @functionname.setter @functionname.getter\n",
    "\n",
    "----------------------------------------------------------------------------------------------------------------------------------------------------\n"
   ]
  },
  {
   "cell_type": "markdown",
   "id": "a17c86a1",
   "metadata": {},
   "source": [
    "## 1. Create a class called Person with a constructor to initialize name, age and gender, all private variables. \n",
    "### Instantiate the class and access name (print(instance.__name)). What happens?\n",
    "### Overwrite name with \"Mike\" and print. Access the dict of attributes of the instance (print(p.__dict__)) . What happens?"
   ]
  },
  {
   "cell_type": "code",
   "execution_count": 1,
   "id": "ced03465",
   "metadata": {},
   "outputs": [
    {
     "ename": "AttributeError",
     "evalue": "'Person' object has no attribute '__name'",
     "output_type": "error",
     "traceback": [
      "\u001b[0;31m---------------------------------------------------------------------------\u001b[0m",
      "\u001b[0;31mAttributeError\u001b[0m                            Traceback (most recent call last)",
      "Cell \u001b[0;32mIn[1], line 9\u001b[0m\n\u001b[1;32m      5\u001b[0m         \u001b[38;5;28mself\u001b[39m\u001b[38;5;241m.\u001b[39m__gender \u001b[38;5;241m=\u001b[39m gender\n\u001b[1;32m      8\u001b[0m p \u001b[38;5;241m=\u001b[39m Person(\u001b[38;5;124m\"\u001b[39m\u001b[38;5;124mJames\u001b[39m\u001b[38;5;124m\"\u001b[39m, \u001b[38;5;241m19\u001b[39m, \u001b[38;5;124m\"\u001b[39m\u001b[38;5;124mM\u001b[39m\u001b[38;5;124m\"\u001b[39m)\n\u001b[0;32m----> 9\u001b[0m \u001b[38;5;28mprint\u001b[39m(\u001b[43mp\u001b[49m\u001b[38;5;241;43m.\u001b[39;49m\u001b[43m__name\u001b[49m)\n",
      "\u001b[0;31mAttributeError\u001b[0m: 'Person' object has no attribute '__name'"
     ]
    }
   ],
   "source": [
    "class Person:\n",
    "    def __init__(self, name, age, gender):\n",
    "        self.__name = name\n",
    "        self.__age = age\n",
    "        self.__gender = gender\n",
    "\n",
    "\n",
    "p = Person(\"James\", 19, \"M\")\n",
    "print(p.__name)\n"
   ]
  },
  {
   "cell_type": "code",
   "execution_count": null,
   "id": "6b00548c",
   "metadata": {},
   "outputs": [],
   "source": [
    "p.__name = \"Mike\"\n",
    "print(p.__dict__)"
   ]
  },
  {
   "cell_type": "markdown",
   "id": "c12f578e",
   "metadata": {},
   "source": [
    "None of them works"
   ]
  },
  {
   "cell_type": "markdown",
   "id": "2f7d463b",
   "metadata": {},
   "source": [
    "## 2. Rewrite the function adding a function called Name that returns the instance attribute __name."
   ]
  },
  {
   "cell_type": "code",
   "execution_count": 1,
   "id": "899dfa57",
   "metadata": {},
   "outputs": [
    {
     "name": "stdout",
     "output_type": "stream",
     "text": [
      "James\n"
     ]
    }
   ],
   "source": [
    "class Person:\n",
    "    def __init__(self, name, age, gender):\n",
    "        self.__name = name\n",
    "        self.__age = age\n",
    "        self.__gender = gender\n",
    "\n",
    "    # part to modify the private variable __name:\n",
    "    @property # converts the method to a property so we can call it as if it was an attribute, not as a function (no parenthesis)\n",
    "    def Name(self):\n",
    "        return self.__name\n",
    "    \n",
    "p1 = Person(\"James\", 19, \"M\")\n",
    "\n",
    "print(p1.Name)"
   ]
  },
  {
   "cell_type": "markdown",
   "id": "a2d51a99",
   "metadata": {},
   "source": [
    "## 3. Add a setting function to modify the value of name. If name = \"Bob\" set \"Default name\", otherwise set the new name. \n",
    "## Instantiate the class, print name, change name to Bob, print name again"
   ]
  },
  {
   "cell_type": "code",
   "execution_count": 2,
   "id": "ec2325f2",
   "metadata": {},
   "outputs": [
    {
     "name": "stdout",
     "output_type": "stream",
     "text": [
      "James\n",
      "Default name\n"
     ]
    }
   ],
   "source": [
    "class Person:\n",
    "    def __init__(self, name, age, gender):\n",
    "        self.__name = name\n",
    "        self.__age = age\n",
    "        self.__gender = gender\n",
    "\n",
    "    # part to modify the private variable __name:\n",
    "    @property # converts the method to a property so we can call it as if it was an attribute, not as a function (no parenthesis)\n",
    "    def Name(self):\n",
    "        return self.__name\n",
    "    \n",
    "    @Name.setter #this is the annotation needed to have a function with the same name as the \n",
    "    def Name(self,value):\n",
    "        if value == \"Bob\":\n",
    "            self.__name = \"Default name\"\n",
    "        else:    \n",
    "            self.__name = value\n",
    "    # ------------------------------------------\n",
    "\n",
    "p1 = Person(\"James\", 19, \"M\")\n",
    "\n",
    "print(p1.Name) # capital N because we are calling the funtion Name eventhough now it works as an attribute\n",
    "\n",
    "p1.Name = \"Bob\"\n",
    "\n",
    "print(p1.Name)"
   ]
  },
  {
   "cell_type": "code",
   "execution_count": null,
   "id": "ec039d1a",
   "metadata": {},
   "outputs": [],
   "source": []
  },
  {
   "cell_type": "markdown",
   "id": "ba383087",
   "metadata": {},
   "source": [
    "## Disclaimer! Python does not have real private variables like some other languages. Prefixing the attributes with double underscores triggers **name mangling**, making it harder to access it from outside. Python uses **name mangling** (variables with double underscore at the begining) to protect class-private attributes by internally changing the name of the variable."
   ]
  },
  {
   "cell_type": "code",
   "execution_count": null,
   "id": "577d8a37",
   "metadata": {},
   "outputs": [],
   "source": [
    "class Test:\n",
    "    def __init__(self):\n",
    "        self.__secret = \"hidden\"\n",
    "\n",
    "t = Test()\n",
    "print(t.__secret)  # ❌ This will raise an AttributeError\n"
   ]
  },
  {
   "cell_type": "code",
   "execution_count": null,
   "id": "3cbeef3e",
   "metadata": {},
   "outputs": [],
   "source": [
    "print(t._Test__secret)"
   ]
  },
  {
   "cell_type": "code",
   "execution_count": null,
   "id": "e40472eb",
   "metadata": {},
   "outputs": [],
   "source": []
  }
 ],
 "metadata": {
  "kernelspec": {
   "display_name": "data-science-katas",
   "language": "python",
   "name": "ds-katas"
  },
  "language_info": {
   "codemirror_mode": {
    "name": "ipython",
    "version": 3
   },
   "file_extension": ".py",
   "mimetype": "text/x-python",
   "name": "python",
   "nbconvert_exporter": "python",
   "pygments_lexer": "ipython3",
   "version": "3.10.12"
  }
 },
 "nbformat": 4,
 "nbformat_minor": 5
}
