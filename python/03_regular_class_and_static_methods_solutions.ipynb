{
 "cells": [
  {
   "cell_type": "markdown",
   "metadata": {},
   "source": [
    "## 1. Create a class Employee with:\n",
    "- 2 class variables: num_of_emps = 0, raise_amt = 1.08. The variable num_of_emps has to increase by 1 every time the class is instantiated\n",
    "- constructor with the attributes: first, last, email, salary. email is created as first.last@emaple.com.\n",
    "- method called full_name that returns first and last name separated by a space\n",
    "- method called apply_raise that returns the update salary as the product of the salary by the raise_amt\n",
    "\n",
    "Instantiate every required class under emp_1 and emp_2 in each step from now on\n"
   ]
  },
  {
   "cell_type": "code",
   "execution_count": 7,
   "metadata": {},
   "outputs": [],
   "source": [
    "class Employee:\n",
    "    num_of_emps = 0\n",
    "    raise_amt = 1.08\n",
    "    def __init__ (self, first, last, salary):\n",
    "        self.first = first\n",
    "        self.last = last\n",
    "        self.email = f\"{first.lower()}.{last.lower()}@emaple.com\"\n",
    "        self.salary = salary\n",
    "        Employee.num_of_emps += 1\n",
    "        \n",
    "    def full_name(self):\n",
    "        return f\"{self.first} {self.last}\"\n",
    "    \n",
    "    def apply_raise(self):\n",
    "        self.salary =  int(self.salary * self.raise_amt)\n",
    "        return self.salary\n",
    "    \n",
    "emp_1 = Employee(\"Martin\", \"Schmidt\", 50000)\n",
    "emp_2 = Employee(\"Maria\", \"Johnson\", 60000)"
   ]
  },
  {
   "cell_type": "markdown",
   "metadata": {},
   "source": [
    "The methods we have seen so far are called \"regular methods\". Regular methods in a class automatically take the instance as the first argument and by convention we were calling this (self). Class methods take the class as the first argument and work with the whole class.\n",
    "\n",
    "## 2. Rewrite the class by adding an empty class method inside called set_raised_amt, as attributes add the class itself and \"amount\". "
   ]
  },
  {
   "cell_type": "code",
   "execution_count": null,
   "metadata": {},
   "outputs": [],
   "source": [
    "class Employee:\n",
    "    num_of_emps = 0\n",
    "    raise_amt = 1.08\n",
    "    def __init__ (self, first, last, salary):\n",
    "        self.first = first\n",
    "        self.last = last\n",
    "        self.email = f\"{first.lower()}.{last.lower()}@emaple.com\"\n",
    "        self.salary = salary\n",
    "        Employee.num_of_emps += 1\n",
    "        \n",
    "    def full_name(self):\n",
    "        return f\"{self.first} {self.last}\"\n",
    "    \n",
    "    def apply_raise(self):\n",
    "        self.salary =  int(self.salary * self.raise_amt)\n",
    "        return self.salary\n",
    "    \n",
    "    @classmethod\n",
    "    def set_raised_amt(cls, amount):\n",
    "        pass\n",
    "    \n",
    "    \n",
    "emp_1 = Employee(\"Martin\", \"Schmidt\", 50000)\n",
    "emp_2 = Employee(\"Maria\", \"Johnson\", 60000)\n"
   ]
  },
  {
   "cell_type": "markdown",
   "metadata": {},
   "source": [
    "## 3. Fill the class method \"set_raised_amt\" with code to modify the class variable named \"raise_amt\" set at the begining. Print:\n",
    "- class raise_amt\n",
    "- emp_1 raise_amt\n",
    "- emp_2 raise_amt\n",
    "\n",
    "Then use the class method to modify raise_amt value to an increase of 12% and print:\n",
    "\n",
    "- class raise_amt\n",
    "- emp_1 raise_amt\n",
    "- emp_2 raise_amt\n",
    "\n"
   ]
  },
  {
   "cell_type": "code",
   "execution_count": 9,
   "metadata": {},
   "outputs": [
    {
     "name": "stdout",
     "output_type": "stream",
     "text": [
      "1.08\n",
      "1.08\n",
      "1.08\n",
      "1.12\n",
      "1.12\n",
      "1.12\n"
     ]
    }
   ],
   "source": [
    "class Employee:\n",
    "    num_of_emps = 0\n",
    "    raise_amt = 1.08\n",
    "    def __init__ (self, first, last, salary):\n",
    "        self.first = first\n",
    "        self.last = last\n",
    "        self.email = f\"{first.lower()}.{last.lower()}@emaple.com\"\n",
    "        self.salary = salary\n",
    "        Employee.num_of_emps += 1\n",
    "        \n",
    "    def full_name(self):\n",
    "        return f\"{self.first} {self.last}\"\n",
    "    \n",
    "    def apply_raise(self):\n",
    "        self.salary =  int(self.salary * self.raise_amt)\n",
    "        return self.salary\n",
    "    \n",
    "    @classmethod\n",
    "    def set_raised_amt(cls, amount):\n",
    "        cls.raise_amt = amount\n",
    "    \n",
    "    \n",
    "emp_1 = Employee(\"Martin\", \"Schmidt\", 50000)\n",
    "emp_2 = Employee(\"Maria\", \"Johnson\", 60000)\n",
    "\n",
    "print(Employee.raise_amt)\n",
    "print(emp_1.raise_amt)\n",
    "print(emp_2.raise_amt)\n",
    "\n",
    "Employee.set_raised_amt(1.12)\n",
    "\n",
    "print(Employee.raise_amt)\n",
    "print(emp_1.raise_amt)\n",
    "print(emp_2.raise_amt)\n"
   ]
  },
  {
   "cell_type": "markdown",
   "metadata": {},
   "source": [
    "## 4. Class method as alternative constructions use case: \n",
    "\n",
    "The data we are receiving in the company has chaged and not it comes in string format separated by hyphens:\n",
    "\n",
    "* emp_str_1 = \"John-Doe-60000\"\n",
    "* emp_str_2 = \"Jane-Smith-50000\"\n",
    "* emp_str_3 = \"Mathilda-Brucks-90000\"\n",
    "\n",
    "We don't want to parse them every time before using our class. Create a class method that manages this new format and creates new employees.\n",
    "\n",
    "Create the three new employees and print:\n",
    "- emp_4 full name\n",
    "- emp_5 email\n",
    "- emp_6 salary"
   ]
  },
  {
   "cell_type": "code",
   "execution_count": null,
   "metadata": {},
   "outputs": [
    {
     "name": "stdout",
     "output_type": "stream",
     "text": [
      "The emp_4 full name is John Doe\n",
      "The emp_5 email address is jane.smith@emaple.com\n",
      "The emp_6 has a new salary of 100800\n"
     ]
    }
   ],
   "source": [
    "class Employee:\n",
    "    num_of_emps = 0\n",
    "    raise_amt = 1.08\n",
    "    def __init__ (self, first, last, salary):\n",
    "        self.first = first\n",
    "        self.last = last\n",
    "        self.email = f\"{first.lower()}.{last.lower()}@emaple.com\"\n",
    "        self.salary = salary\n",
    "        Employee.num_of_emps += 1\n",
    "        \n",
    "    def full_name(self):\n",
    "        return f\"{self.first} {self.last}\"\n",
    "    \n",
    "    def apply_raise(self):\n",
    "        self.salary =  int(self.salary * self.raise_amt)\n",
    "        return self.salary\n",
    "    \n",
    "    @classmethod\n",
    "    def set_raised_amt(cls, amount):\n",
    "        cls.raise_amt = amount\n",
    "        \n",
    "    @classmethod\n",
    "    def from_string(cls, emp_str):\n",
    "        first, last, salary = emp_str.split(\"-\")\n",
    "        return cls(first, last, int(salary))\n",
    "    \n",
    "emp_str_1 = \"John-Doe-60000\"\n",
    "emp_str_2 = \"Jane-Smith-50000\"\n",
    "emp_str_3 = \"Mathilda-Brucks-90000\"\n",
    "\n",
    "emp_4 = Employee.from_string(emp_str_1)\n",
    "emp_5 = Employee.from_string(emp_str_2)\n",
    "emp_6 = Employee.from_string(emp_str_3)\n",
    "\n",
    "print(f\"The emp_4 full name is {emp_4.full_name()}\")\n",
    "print(f\"The emp_5 email address is {emp_5.email}\")\n",
    "print(f\"The emp_6 has a new salary of {emp_6.apply_raise()}\")"
   ]
  },
  {
   "cell_type": "markdown",
   "metadata": {},
   "source": [
    "Static methods don't pass the instance nor the class in the attributes. The behave like regular functions but we include them inside of our classes because they have some logical connection with the class.\n",
    "\n",
    "## 5.Create a simple function inide the class that would take in a date and return whether or not that was a work day.\n",
    "\n",
    "This function has a logical connection to Employee but it does not depend on any instance or class variable, that's why they are called static method "
   ]
  },
  {
   "cell_type": "code",
   "execution_count": 15,
   "metadata": {},
   "outputs": [
    {
     "name": "stdout",
     "output_type": "stream",
     "text": [
      "True\n"
     ]
    }
   ],
   "source": [
    "class Employee:\n",
    "    num_of_emps = 0\n",
    "    raise_amt = 1.08\n",
    "    def __init__ (self, first, last, salary):\n",
    "        self.first = first\n",
    "        self.last = last\n",
    "        self.email = f\"{first.lower()}.{last.lower()}@emaple.com\"\n",
    "        self.salary = salary\n",
    "        Employee.num_of_emps += 1\n",
    "        \n",
    "    def full_name(self):\n",
    "        return f\"{self.first} {self.last}\"\n",
    "    \n",
    "    def apply_raise(self):\n",
    "        self.salary =  int(self.salary * self.raise_amt)\n",
    "        return self.salary\n",
    "    \n",
    "    @classmethod\n",
    "    def set_raised_amt(cls, amount):\n",
    "        cls.raise_amt = amount\n",
    "        \n",
    "    @classmethod\n",
    "    def from_string(cls, emp_str):\n",
    "        first, last, salary = emp_str.split(\"-\")\n",
    "        return cls(first, last, int(salary))\n",
    "    \n",
    "    @staticmethod\n",
    "    def is_workday(day): # Monday is equal to 0 and Sunday is equal to 6\n",
    "        if day.weekday() == 5 or day.weekday() == 6:\n",
    "            return False\n",
    "        return True\n",
    "\n",
    "import datetime\n",
    "my_date = datetime.date(2023, 8, 10)\n",
    "\n",
    "print(Employee.is_workday(my_date))\n",
    "    "
   ]
  }
 ],
 "metadata": {
  "kernelspec": {
   "display_name": "data-science-katas",
   "language": "python",
   "name": "ds-katas"
  },
  "language_info": {
   "codemirror_mode": {
    "name": "ipython",
    "version": 3
   },
   "file_extension": ".py",
   "mimetype": "text/x-python",
   "name": "python",
   "nbconvert_exporter": "python",
   "pygments_lexer": "ipython3",
   "version": "3.10.12"
  }
 },
 "nbformat": 4,
 "nbformat_minor": 2
}
