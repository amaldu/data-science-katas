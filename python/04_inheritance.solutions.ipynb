{
 "cells": [
  {
   "cell_type": "markdown",
   "metadata": {},
   "source": [
    "Inheritance allows us to inherit attributes and methods from a parent class. This is useful because we can create subclasses and get all the functionalities from the parent class, overwrite them or add completely new functionalities without affecting the parent class at all"
   ]
  },
  {
   "cell_type": "markdown",
   "metadata": {},
   "source": [
    "## 1. Write an Employee class with:\n",
    "- class variable raise_amt = 1.05\n",
    "- constructor with first, last, email and salary variables, email is created as first.last@example.com\n",
    "- full_name method that returns the full name separted by spaces\n",
    "- method called apply_raise that returns the updated salary as the product of the salary by the raise_amt\n",
    "Instantiate the Employee class twice under the names \"emp_1\" and \"emp_2\""
   ]
  },
  {
   "cell_type": "code",
   "execution_count": 1,
   "metadata": {},
   "outputs": [],
   "source": [
    "class Employee:\n",
    "    raise_amt = 1.05\n",
    "    def __init__(self, first, last, salary):\n",
    "        self.first = first\n",
    "        self.last = last\n",
    "        self.email = f\"{first.lower()}.{last.lower()}@example.com\"\n",
    "        self.salary = salary\n",
    "\n",
    "    def full_name(self):\n",
    "        return f\"{self.first} {self.last}\"\n",
    "    \n",
    "    def apply_raise(self):\n",
    "        self.salary = int(self.salary * self.raise_amt)\n",
    "        return self.salary\n",
    "    \n",
    "emp_1 = Employee(\"Lucas\", \"Mann\", 100000)\n",
    "emp_2 = Employee(\"Sophia\", \"Williams\", 80000)\n"
   ]
  },
  {
   "cell_type": "markdown",
   "metadata": {},
   "source": [
    "## 2. The company wants to create different types of employees that are more specific. Create a Manager and a Developer class that inherit from Employee, leave them empty. \n",
    "\n",
    "Create dev_1 and dev_2 this time from Developer class. Print dev_1 full_name and dev_2 email. What happens?"
   ]
  },
  {
   "cell_type": "code",
   "execution_count": null,
   "metadata": {},
   "outputs": [
    {
     "name": "stdout",
     "output_type": "stream",
     "text": [
      "The dev_1 full name is Lucas Mann\n",
      "The dev_2 email is sophia.williams@example.com\n"
     ]
    }
   ],
   "source": [
    " \n",
    "class Developer(Employee):\n",
    "    pass\n",
    "\n",
    "class Manager(Employee):\n",
    "    pass\n",
    " \n",
    "    \n",
    "dev_1 = Developer(\"Lucas\", \"Mann\", 100000)\n",
    "dev_2 = Developer(\"Sophia\", \"Williams\", 80000)\n",
    "\n",
    "print(f\"The dev_1 full name is {dev_1.full_name()}\")\n",
    "print(f\"The dev_2 email is {dev_2.email}\")\n",
    "\n",
    "# if the Developer class does not have the attributes, they search for them in the parent class"
   ]
  },
  {
   "cell_type": "markdown",
   "metadata": {},
   "source": [
    "## 3. Execute the command print(help(Developer)). What is the method resolution order?"
   ]
  },
  {
   "cell_type": "code",
   "execution_count": null,
   "metadata": {},
   "outputs": [
    {
     "name": "stdout",
     "output_type": "stream",
     "text": [
      "Help on class Developer in module __main__:\n",
      "\n",
      "class Developer(Employee)\n",
      " |  Developer(first, last, salary)\n",
      " |  \n",
      " |  Method resolution order:\n",
      " |      Developer\n",
      " |      Employee\n",
      " |      builtins.object\n",
      " |  \n",
      " |  Methods inherited from Employee:\n",
      " |  \n",
      " |  __init__(self, first, last, salary)\n",
      " |      Initialize self.  See help(type(self)) for accurate signature.\n",
      " |  \n",
      " |  apply_raise(self)\n",
      " |  \n",
      " |  full_name(self)\n",
      " |  \n",
      " |  ----------------------------------------------------------------------\n",
      " |  Data descriptors inherited from Employee:\n",
      " |  \n",
      " |  __dict__\n",
      " |      dictionary for instance variables (if defined)\n",
      " |  \n",
      " |  __weakref__\n",
      " |      list of weak references to the object (if defined)\n",
      " |  \n",
      " |  ----------------------------------------------------------------------\n",
      " |  Data and other attributes inherited from Employee:\n",
      " |  \n",
      " |  raise_amt = 1.05\n",
      "\n",
      "None\n"
     ]
    }
   ],
   "source": [
    "print(help(Developer))\n",
    "\n",
    "# The method resolution order is Developer --> Employee --> builtins.object (object class)"
   ]
  },
  {
   "cell_type": "markdown",
   "metadata": {},
   "source": [
    "## 4. Change the raise amount to an increase of 35% on the Developer class, then instantiate dev_1 from it. Finally instantiate emp_2 from the class Employee. Now print:\n",
    "- dev_1 salary\n",
    "- dev_1 apply raise\n",
    "- dev_1 salary \n",
    "- emp_2 salary\n",
    "- emp_2 apply raise\n",
    "- emp_2 salary\n",
    "\n",
    "What happens?"
   ]
  },
  {
   "cell_type": "code",
   "execution_count": 5,
   "metadata": {},
   "outputs": [
    {
     "name": "stdout",
     "output_type": "stream",
     "text": [
      "The dev_1 salary is 100000\n",
      "The dev_1 raise amount is 1.35\n",
      "The dev_1 new salary is 135000\n",
      "\n",
      "\n",
      "The emp_2 salary is 80000\n",
      "The emp_2 raise amount is 1.05\n",
      "The emp_2 new salary is 84000\n"
     ]
    }
   ],
   "source": [
    "class Developer(Employee):\n",
    "    raise_amt = 1.35\n",
    "    \n",
    "dev_1 = Developer(\"Lucas\", \"Mann\", 100000)\n",
    "emp_2 = Employee(\"Sophia\", \"Williams\", 80000)\n",
    "\n",
    "print(f\"The dev_1 salary is {dev_1.salary}\")\n",
    "print(f\"The dev_1 raise amount is {dev_1.raise_amt}\")\n",
    "print(f\"The dev_1 new salary is {dev_1.apply_raise()}\")\n",
    "print(\"\\n\")\n",
    "print(f\"The emp_2 salary is {emp_2.salary}\")\n",
    "print(f\"The emp_2 raise amount is {emp_2.raise_amt}\")\n",
    "print(f\"The emp_2 new salary is {emp_2.apply_raise()}\")\n",
    "\n",
    "# raise_amt in Developer class is overwritten so it takes the value from there, not from the Employee class"
   ]
  },
  {
   "cell_type": "markdown",
   "metadata": {},
   "source": [
    "## 5. Rewrite the Developer class that inherits from the Employee class and add the argument \"prog_lang\". \n",
    "\n",
    "Instantiate dev_1 with python and dev_2 with java.\n",
    "\n",
    "Print: \n",
    "- dev_1 email\n",
    "- dev_2 programming language"
   ]
  },
  {
   "cell_type": "code",
   "execution_count": null,
   "metadata": {},
   "outputs": [
    {
     "name": "stdout",
     "output_type": "stream",
     "text": [
      "The dev_1 email is lucas.mann@example.com and the dev_2 programming language is java\n"
     ]
    }
   ],
   "source": [
    "class Developer(Employee):\n",
    "    raise_amt = 1.35\n",
    "    \n",
    "    def __init__(self, first, last, salary, prog_lang):\n",
    "        super().__init__(first, last, salary) # the arguments coming from Employee\n",
    "        self.prog_lang = prog_lang\n",
    "        \n",
    "\n",
    "dev_1 = Developer(\"Lucas\", \"Mann\", 100000, \"python\")\n",
    "dev_2 = Developer(\"Sophia\", \"Williams\", 80000, \"java\")\n",
    "\n",
    "print(f\"The dev_1 email is {dev_1.email} and the dev_2 programming language is {dev_2.prog_lang}\")"
   ]
  },
  {
   "cell_type": "markdown",
   "metadata": {},
   "source": [
    "## 6. Rewrite the subclass named manager that inherits from Employee. \n",
    "- Add as an attribute an empty list of developers that this manager has in his team.\n",
    "- Add a method called add_emp that adds employees\n",
    "- Add another method called remove_emp that removes employees\n",
    "- Add a final method called print_emps that prints the employee full name \n",
    "\n",
    "Instantiate the class Manager twice and save them inside manager_1 and manager_2. Manager_1 has a list of developers, manager_2 has it empty. \n",
    "\n",
    "Print :\n",
    "- manager_1 employees\n",
    "- manager 1 email"
   ]
  },
  {
   "cell_type": "code",
   "execution_count": null,
   "metadata": {},
   "outputs": [
    {
     "name": "stdout",
     "output_type": "stream",
     "text": [
      "--> Maria Salamer\n",
      "--> Robert Jamison\n",
      "\n",
      "\n",
      "--> Maria Salamer\n",
      "--> Robert Jamison\n",
      "--> Sophia Williams\n",
      "\n",
      "\n",
      "--> Maria Salamer\n",
      "--> Sophia Williams\n"
     ]
    }
   ],
   "source": [
    "class Manager(Employee):\n",
    "    \n",
    "    def __init__(self, first, last, salary, employees = None): # never pass a mutable object as argument, instead do None \n",
    "        super().__init__(first, last, salary)\n",
    "        if employees is None:\n",
    "            self.employees = []\n",
    "        else:\n",
    "            self.employees = employees\n",
    "            \n",
    "    def add_emp(self, emp):\n",
    "        if emp not in self.employees:\n",
    "            self.employees.append(emp)\n",
    "            \n",
    "    def remove_emp (self, emp):\n",
    "        if emp in self.employees:\n",
    "            self.employees.remove(emp)\n",
    "            \n",
    "    def print_emps(self):\n",
    "        for emp in self.employees:\n",
    "            print(\"-->\", emp.full_name())\n",
    "            \n",
    "dev_1 = Employee(\"Maria\", \"Salamer\", 80000)\n",
    "dev_2 = Employee(\"Robert\", \"Jamison\", 90000)\n",
    "\n",
    "\n",
    "manager_1 = Manager(\"James\", \"Weiss\", 232000, [dev_1, dev_2])\n",
    "manager_2 = Manager(\"Samuel\", \"Berg\", 450000, [])\n",
    "\n",
    "manager_1.print_emps()\n",
    "manager_1.email\n",
    "print(\"\\n\")\n",
    "\n",
    "manager_1.add_emp(emp_2)\n",
    "manager_1.print_emps()\n",
    "print(\"\\n\")\n",
    "\n",
    "manager_1.remove_emp(dev_2)\n",
    "manager_1.print_emps()\n",
    "            "
   ]
  },
  {
   "cell_type": "markdown",
   "metadata": {},
   "source": [
    "## 7. isinstace()\n",
    "\n",
    "isinstance() tells us if an object is an instance of a class. Check if manager_1 is an instance of Manager, then check if dev_1 is an instance of Manager\n"
   ]
  },
  {
   "cell_type": "code",
   "execution_count": null,
   "metadata": {},
   "outputs": [
    {
     "name": "stdout",
     "output_type": "stream",
     "text": [
      "True\n",
      "False\n"
     ]
    }
   ],
   "source": [
    "print(isinstance(manager_1, Manager))\n",
    "print(isinstance(dev_1, Manager))"
   ]
  },
  {
   "cell_type": "markdown",
   "metadata": {},
   "source": [
    "## 8. issubclass()\n",
    "\n",
    "issubclass() tells us if an object is a subclass of a class. Check if Manager is an subclass of Developer, then check if Manager is a subclass of Employee"
   ]
  },
  {
   "cell_type": "code",
   "execution_count": null,
   "metadata": {},
   "outputs": [
    {
     "name": "stdout",
     "output_type": "stream",
     "text": [
      "False\n",
      "True\n"
     ]
    }
   ],
   "source": [
    "print(issubclass(Manager, Developer))\n",
    "print(issubclass(Manager, Employee))"
   ]
  }
 ],
 "metadata": {
  "kernelspec": {
   "display_name": "data-science-katas",
   "language": "python",
   "name": "ds-katas"
  },
  "language_info": {
   "codemirror_mode": {
    "name": "ipython",
    "version": 3
   },
   "file_extension": ".py",
   "mimetype": "text/x-python",
   "name": "python",
   "nbconvert_exporter": "python",
   "pygments_lexer": "ipython3",
   "version": "3.10.12"
  }
 },
 "nbformat": 4,
 "nbformat_minor": 2
}
