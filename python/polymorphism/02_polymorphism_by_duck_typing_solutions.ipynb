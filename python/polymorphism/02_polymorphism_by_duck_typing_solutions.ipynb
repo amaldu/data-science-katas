{
 "cells": [
  {
   "cell_type": "markdown",
   "id": "88c13361",
   "metadata": {},
   "source": [
    "# Polymorfphism by duck typing\n",
    "\n",
    "This is another way to achieve polymorphism besides inheritances. An object must have the minimum necessary attributes/methods. \n",
    "\n",
    "\"If it looks like a duck and quacks like a duck, it must be a duck\""
   ]
  },
  {
   "cell_type": "markdown",
   "id": "0d0e5d31",
   "metadata": {},
   "source": [
    "## 1. Create the following classes:\n",
    "\n",
    "- Animal with a class attribute called \"alive\" that is boolean and True by default\n",
    "- Dog class that inherits from Animal with method called \"speak\" that returns \"Woof\"\n",
    "- Cat class that inherits from Animal with method called \"speak\" that returns \"Meow\"\n",
    "\n",
    "Create a list of animals with Dog and Cat objects\n",
    "\n",
    "Create a loop that uses the speak method and prints what they say"
   ]
  },
  {
   "cell_type": "code",
   "execution_count": 3,
   "id": "5e2f7be7",
   "metadata": {},
   "outputs": [
    {
     "name": "stdout",
     "output_type": "stream",
     "text": [
      "Woof!\n",
      "Meooow!\n"
     ]
    }
   ],
   "source": [
    "class Animal:\n",
    "    alive = True\n",
    "\n",
    "class Dog(Animal):\n",
    "    def speak(self):\n",
    "        print(\"Woof!\")\n",
    "\n",
    "class Cat(Animal):\n",
    "    def speak(self):\n",
    "        print(\"Meooow!\")\n",
    "\n",
    "animals = [Dog(), Cat()]\n",
    "\n",
    "for animal in animals:\n",
    "    animal.speak()\n",
    "\n",
    "\n",
    "    "
   ]
  },
  {
   "cell_type": "markdown",
   "id": "8c60091e",
   "metadata": {},
   "source": [
    "## 2. Add a class named Car with a method called \"horn\" that prints how the car honks. Add the Car object to the list animals and run the loop. What happens?"
   ]
  },
  {
   "cell_type": "code",
   "execution_count": 6,
   "id": "992058a9",
   "metadata": {},
   "outputs": [
    {
     "name": "stdout",
     "output_type": "stream",
     "text": [
      "Woof!\n",
      "Meooow!\n"
     ]
    },
    {
     "ename": "AttributeError",
     "evalue": "'Car' object has no attribute 'speak'",
     "output_type": "error",
     "traceback": [
      "\u001b[0;31m---------------------------------------------------------------------------\u001b[0m",
      "\u001b[0;31mAttributeError\u001b[0m                            Traceback (most recent call last)",
      "Cell \u001b[0;32mIn[6], line 21\u001b[0m\n\u001b[1;32m     18\u001b[0m animals \u001b[38;5;241m=\u001b[39m [Dog(), Cat(), Car()]\n\u001b[1;32m     20\u001b[0m \u001b[38;5;28;01mfor\u001b[39;00m animal \u001b[38;5;129;01min\u001b[39;00m animals:\n\u001b[0;32m---> 21\u001b[0m     \u001b[43manimal\u001b[49m\u001b[38;5;241;43m.\u001b[39;49m\u001b[43mspeak\u001b[49m()\n",
      "\u001b[0;31mAttributeError\u001b[0m: 'Car' object has no attribute 'speak'"
     ]
    }
   ],
   "source": [
    "class Animal:\n",
    "    alive = True\n",
    "\n",
    "class Dog(Animal):\n",
    "    def speak(self):\n",
    "        print(\"Woof!\")\n",
    "\n",
    "class Cat(Animal):\n",
    "    def speak(self):\n",
    "        print(\"Meooow!\")\n",
    "\n",
    "class Car:\n",
    "    def horn(self):\n",
    "        print(\"Hoooooooonk hooooonk!\")\n",
    "        \n",
    "\n",
    "\n",
    "animals = [Dog(), Cat(), Car()]\n",
    "\n",
    "for animal in animals:\n",
    "    animal.speak()"
   ]
  },
  {
   "cell_type": "markdown",
   "id": "478f016f",
   "metadata": {},
   "source": [
    "---------------------------------------------------------------------------\n",
    "AttributeError                            Traceback (most recent call last)\n",
    "Cell In[6], line 21\n",
    "     18 animals = [Dog(), Cat(), Car()]\n",
    "     20 for animal in animals:\n",
    "---> 21     animal.speak()\n",
    "\n",
    "AttributeError: 'Car' object has no attribute 'speak'\n",
    "\n",
    "The loop makes every class to use the method \"speak\" but \"speak\" does not exist in Car"
   ]
  },
  {
   "cell_type": "markdown",
   "id": "3a9bf64e",
   "metadata": {},
   "source": [
    "## 3. Modify the Car method name, call it \"speak\" and run the loop. What happens?"
   ]
  },
  {
   "cell_type": "code",
   "execution_count": 7,
   "id": "a3def937",
   "metadata": {},
   "outputs": [
    {
     "name": "stdout",
     "output_type": "stream",
     "text": [
      "Woof!\n",
      "Meooow!\n",
      "Hoooooooonk hooooonk!\n"
     ]
    }
   ],
   "source": [
    "class Animal:\n",
    "    alive = True\n",
    "\n",
    "class Dog(Animal):\n",
    "    def speak(self):\n",
    "        print(\"Woof!\")\n",
    "\n",
    "class Cat(Animal):\n",
    "    def speak(self):\n",
    "        print(\"Meooow!\")\n",
    "\n",
    "class Car:\n",
    "    def speak(self):\n",
    "        print(\"Hoooooooonk hooooonk!\")\n",
    "        \n",
    "\n",
    "\n",
    "animals = [Dog(), Cat(), Car()]\n",
    "\n",
    "for animal in animals:\n",
    "    animal.speak()"
   ]
  },
  {
   "cell_type": "markdown",
   "id": "463e1527",
   "metadata": {},
   "source": [
    "The car object has the minimum necessary methods to be considered \"Animal\""
   ]
  },
  {
   "cell_type": "markdown",
   "id": "08d8bca1",
   "metadata": {},
   "source": [
    "## 4. Rewrite the loop by adding to see if the objects of the list are alive. What happens? "
   ]
  },
  {
   "cell_type": "code",
   "execution_count": 9,
   "id": "f001ab64",
   "metadata": {},
   "outputs": [
    {
     "name": "stdout",
     "output_type": "stream",
     "text": [
      "Woof!\n",
      "True\n",
      "Meooow!\n",
      "True\n",
      "Hoooooooonk hooooonk!\n"
     ]
    },
    {
     "ename": "AttributeError",
     "evalue": "'Car' object has no attribute 'alive'",
     "output_type": "error",
     "traceback": [
      "\u001b[0;31m---------------------------------------------------------------------------\u001b[0m",
      "\u001b[0;31mAttributeError\u001b[0m                            Traceback (most recent call last)",
      "Cell \u001b[0;32mIn[9], line 3\u001b[0m\n\u001b[1;32m      1\u001b[0m \u001b[38;5;28;01mfor\u001b[39;00m animal \u001b[38;5;129;01min\u001b[39;00m animals:\n\u001b[1;32m      2\u001b[0m     animal\u001b[38;5;241m.\u001b[39mspeak()\n\u001b[0;32m----> 3\u001b[0m     \u001b[38;5;28mprint\u001b[39m(\u001b[43manimal\u001b[49m\u001b[38;5;241;43m.\u001b[39;49m\u001b[43malive\u001b[49m)\n",
      "\u001b[0;31mAttributeError\u001b[0m: 'Car' object has no attribute 'alive'"
     ]
    }
   ],
   "source": [
    "for animal in animals:\n",
    "    animal.speak()\n",
    "    print(animal.alive)"
   ]
  },
  {
   "cell_type": "markdown",
   "id": "8c863dde",
   "metadata": {},
   "source": [
    "---------------------------------------------------------------------------\n",
    "AttributeError                            Traceback (most recent call last)\n",
    "Cell In[9], line 3\n",
    "      1 for animal in animals:\n",
    "      2     animal.speak()\n",
    "----> 3     print(animal.alive)\n",
    "\n",
    "AttributeError: 'Car' object has no attribute 'alive'\n",
    "\n",
    "My car does not inherit the attribute from Animal"
   ]
  },
  {
   "cell_type": "markdown",
   "id": "f90a4f28",
   "metadata": {},
   "source": [
    "## 5. Set the class variable inside Car class and set it to False"
   ]
  },
  {
   "cell_type": "code",
   "execution_count": 10,
   "id": "d6f657f8",
   "metadata": {},
   "outputs": [
    {
     "name": "stdout",
     "output_type": "stream",
     "text": [
      "Woof!\n",
      "True\n",
      "Meooow!\n",
      "True\n",
      "Hoooooooonk hooooonk!\n",
      "False\n"
     ]
    }
   ],
   "source": [
    "class Animal:\n",
    "    alive = True\n",
    "\n",
    "class Dog(Animal):\n",
    "    def speak(self):\n",
    "        print(\"Woof!\")\n",
    "\n",
    "class Cat(Animal):\n",
    "    def speak(self):\n",
    "        print(\"Meooow!\")\n",
    "\n",
    "class Car:\n",
    "\n",
    "    alive = False\n",
    "    def speak(self):\n",
    "        print(\"Hoooooooonk hooooonk!\")\n",
    "        \n",
    "\n",
    "\n",
    "animals = [Dog(), Cat(), Car()]\n",
    "\n",
    "for animal in animals:\n",
    "    animal.speak()\n",
    "    print(animal.alive)"
   ]
  },
  {
   "cell_type": "markdown",
   "id": "a8e05578",
   "metadata": {},
   "source": [
    "Conclusion: \n",
    "\n",
    "Now Car has the minimum requirements to be considered an Animal (class attribute and method in this case).\n",
    "\n",
    "Duck typing is another way to reach polymorphism as long as the object has the minimum necessary set of attributes and methods, we can treat it as a different type of object (looks and quacks like a duck? It's a duck)"
   ]
  },
  {
   "cell_type": "code",
   "execution_count": null,
   "id": "f4a7bbca",
   "metadata": {},
   "outputs": [],
   "source": []
  }
 ],
 "metadata": {
  "kernelspec": {
   "display_name": "data-science-katas",
   "language": "python",
   "name": "ds-katas"
  },
  "language_info": {
   "codemirror_mode": {
    "name": "ipython",
    "version": 3
   },
   "file_extension": ".py",
   "mimetype": "text/x-python",
   "name": "python",
   "nbconvert_exporter": "python",
   "pygments_lexer": "ipython3",
   "version": "3.10.12"
  }
 },
 "nbformat": 4,
 "nbformat_minor": 5
}
