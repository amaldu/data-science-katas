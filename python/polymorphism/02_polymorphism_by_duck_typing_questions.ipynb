{
 "cells": [
  {
   "cell_type": "markdown",
   "id": "88c13361",
   "metadata": {},
   "source": [
    "# Polymorfphism by duck typing\n",
    "\n",
    "This is another way to achieve polymorphism besides inheritances. An object must have the minimum necessary attributes/methods. \n",
    "\n",
    "\"If it looks like a duck and quacks like a duck, it must be a duck\""
   ]
  },
  {
   "cell_type": "markdown",
   "id": "0d0e5d31",
   "metadata": {},
   "source": [
    "## 1. Create the following classes:\n",
    "\n",
    "- Animal with a class attribute called \"alive\" that is boolean and True by default\n",
    "- Dog class that inherits from Animal with method called \"speak\" that returns \"Woof\"\n",
    "- Cat class that inherits from Animal with method called \"speak\" that returns \"Meow\"\n",
    "\n",
    "Create a list of animals with Dog and Cat objects\n",
    "\n",
    "Create a loop that uses the speak method and prints what they say"
   ]
  },
  {
   "cell_type": "code",
   "execution_count": null,
   "id": "5e2f7be7",
   "metadata": {},
   "outputs": [],
   "source": []
  },
  {
   "cell_type": "markdown",
   "id": "8c60091e",
   "metadata": {},
   "source": [
    "## 2. Add a class named Car with a method called \"horn\" that prints how the car honks. Add the Car object to the list animals and run the loop. What happens?"
   ]
  },
  {
   "cell_type": "code",
   "execution_count": null,
   "id": "992058a9",
   "metadata": {},
   "outputs": [],
   "source": []
  },
  {
   "cell_type": "markdown",
   "id": "478f016f",
   "metadata": {},
   "source": []
  },
  {
   "cell_type": "markdown",
   "id": "3a9bf64e",
   "metadata": {},
   "source": [
    "## 3. Modify the Car method name, call it \"speak\" and run the loop. What happens?"
   ]
  },
  {
   "cell_type": "code",
   "execution_count": null,
   "id": "a3def937",
   "metadata": {},
   "outputs": [],
   "source": []
  },
  {
   "cell_type": "markdown",
   "id": "463e1527",
   "metadata": {},
   "source": []
  },
  {
   "cell_type": "markdown",
   "id": "08d8bca1",
   "metadata": {},
   "source": [
    "## 4. Rewrite the loop by adding to see if the objects of the list are alive. What happens? "
   ]
  },
  {
   "cell_type": "code",
   "execution_count": null,
   "id": "f001ab64",
   "metadata": {},
   "outputs": [],
   "source": []
  },
  {
   "cell_type": "markdown",
   "id": "8c863dde",
   "metadata": {},
   "source": []
  },
  {
   "cell_type": "markdown",
   "id": "f90a4f28",
   "metadata": {},
   "source": [
    "## 5. Set the class variable inside Car class and set it to False"
   ]
  },
  {
   "cell_type": "code",
   "execution_count": null,
   "id": "d6f657f8",
   "metadata": {},
   "outputs": [],
   "source": []
  },
  {
   "cell_type": "markdown",
   "id": "a8e05578",
   "metadata": {},
   "source": [
    "Conclusion: \n",
    "\n",
    "Now Car has the minimum requirements to be considered an Animal (class attribute and method in this case).\n",
    "\n",
    "Duck typing is another way to reach polymorphism as long as the object has the minimum necessary set of attributes and methods, we can treat it as a different type of object (looks and quacks like a duck? It's a duck)"
   ]
  },
  {
   "cell_type": "code",
   "execution_count": null,
   "id": "f4a7bbca",
   "metadata": {},
   "outputs": [],
   "source": []
  }
 ],
 "metadata": {
  "kernelspec": {
   "display_name": "data-science-katas",
   "language": "python",
   "name": "ds-katas"
  },
  "language_info": {
   "codemirror_mode": {
    "name": "ipython",
    "version": 3
   },
   "file_extension": ".py",
   "mimetype": "text/x-python",
   "name": "python",
   "nbconvert_exporter": "python",
   "pygments_lexer": "ipython3",
   "version": "3.10.12"
  }
 },
 "nbformat": 4,
 "nbformat_minor": 5
}
