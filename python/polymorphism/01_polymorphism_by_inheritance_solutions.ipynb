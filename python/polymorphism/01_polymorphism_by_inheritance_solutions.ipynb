{
 "cells": [
  {
   "cell_type": "markdown",
   "metadata": {},
   "source": [
    "Polymorhism  = greek word that means to have many forms or faces. There are two ways to achieve polymorphysm.\n",
    "\n",
    "1. Inheritane= an object could be trated of the same type as a parent class\n",
    "2. Duck typing = object must have necessary attributes /methods\n",
    "\n",
    "# Polymorphism by inheritance"
   ]
  },
  {
   "cell_type": "markdown",
   "metadata": {},
   "source": [
    "## 1. Define 4 classes with the following characteristics:\n",
    "\n",
    "- Shape\n",
    "- Circle that inherits from Shape\n",
    "- Triangle that inherits from Shape\n",
    "- Square that inherits from Shape\n",
    "\n",
    "### Create a circle object. Which are the forms of Circle? \n"
   ]
  },
  {
   "cell_type": "code",
   "execution_count": 6,
   "metadata": {},
   "outputs": [],
   "source": [
    "class Shape:\n",
    "    pass\n",
    "\n",
    "class Circle(Shape):\n",
    "    pass\n",
    "\n",
    "class Triangle(Shape):\n",
    "    pass\n",
    "\n",
    "class Square(Shape):\n",
    "    pass\n",
    "\n",
    "circle = Circle()\n",
    "\n",
    "# circle has the form of Circle and Shape"
   ]
  },
  {
   "cell_type": "markdown",
   "metadata": {},
   "source": [
    "## 2. Create a list of shapes and instantiate the three objects. How many forms or faces has each of these objects?"
   ]
  },
  {
   "cell_type": "code",
   "execution_count": 7,
   "metadata": {},
   "outputs": [],
   "source": [
    "shapes = [Circle(), Square(), Triangle()]\n",
    "\n",
    "# each of them has two, itself and Shape"
   ]
  },
  {
   "cell_type": "markdown",
   "metadata": {},
   "source": [
    "## 3. Rewrite the classes with the following changes:\n",
    "\n",
    "### - Shape: create an abstract method called area\n",
    "### - Circle: define constructor with argument = radius, create method area as the result of the circle area\n",
    "### - Square: define constructor with argument = side, create method area as the result of the square area\n",
    "### - Triangle: define constructor with arguments = base,height, create a method are as the result of the triangle area\n",
    "\n",
    "### create list of shapes and instantiate the three objects with random values. Create a loop to iterate through our shapes and print for every shape call the area method\n"
   ]
  },
  {
   "cell_type": "code",
   "execution_count": 10,
   "metadata": {},
   "outputs": [
    {
     "name": "stdout",
     "output_type": "stream",
     "text": [
      " 12.56 cm²\n",
      " 16 cm²\n",
      " 21.0 cm²\n"
     ]
    }
   ],
   "source": [
    "from abc import ABC, abstractmethod\n",
    "\n",
    "class Shape:\n",
    "    @abstractmethod\n",
    "    def area(self):\n",
    "        pass\n",
    "\n",
    "class Circle(Shape):\n",
    "    def __init__(self, radius):\n",
    "        self.radius = radius\n",
    "\n",
    "    def area(self):\n",
    "        return 3.14 * self.radius **2\n",
    "\n",
    "class Square(Shape):\n",
    "    def __init__(self, side):\n",
    "        self.side = side\n",
    "    \n",
    "    def area(self):\n",
    "        return self.side **2\n",
    "\n",
    "class Triangle(Shape):\n",
    "    def __init__(self, height, base):\n",
    "        self.height = height\n",
    "        self.base = base\n",
    "\n",
    "    def area(self):\n",
    "        return self.base * self.height * 0.5\n",
    "    \n",
    "shapes = [Circle(2), Square(4), Triangle(7,6)]\n",
    "\n",
    "for shape in shapes:\n",
    "    print(f\" {shape.area()} cm²\")"
   ]
  },
  {
   "cell_type": "markdown",
   "metadata": {},
   "source": [
    "## 4. Create a class that is completely unrelated to shapes. Create a pizza class that needs the radius and the topping of the pizza. Rewrite the list of shapes to include the Pizza and run the same loop. What happens? Why? "
   ]
  },
  {
   "cell_type": "code",
   "execution_count": 12,
   "metadata": {},
   "outputs": [
    {
     "name": "stdout",
     "output_type": "stream",
     "text": [
      " 12.56 cm²\n",
      " 16 cm²\n",
      " 21.0 cm²\n"
     ]
    },
    {
     "ename": "AttributeError",
     "evalue": "'Pizza' object has no attribute 'area'",
     "output_type": "error",
     "traceback": [
      "\u001b[0;31m---------------------------------------------------------------------------\u001b[0m",
      "\u001b[0;31mAttributeError\u001b[0m                            Traceback (most recent call last)",
      "Cell \u001b[0;32mIn[12], line 10\u001b[0m\n\u001b[1;32m      6\u001b[0m shapes \u001b[38;5;241m=\u001b[39m [Circle(\u001b[38;5;241m2\u001b[39m), Square(\u001b[38;5;241m4\u001b[39m), Triangle(\u001b[38;5;241m7\u001b[39m,\u001b[38;5;241m6\u001b[39m), Pizza(\u001b[38;5;241m15\u001b[39m, \u001b[38;5;124m\"\u001b[39m\u001b[38;5;124mPeperonni\u001b[39m\u001b[38;5;124m\"\u001b[39m)]\n\u001b[1;32m      9\u001b[0m \u001b[38;5;28;01mfor\u001b[39;00m shape \u001b[38;5;129;01min\u001b[39;00m shapes:\n\u001b[0;32m---> 10\u001b[0m     \u001b[38;5;28mprint\u001b[39m(\u001b[38;5;124mf\u001b[39m\u001b[38;5;124m\"\u001b[39m\u001b[38;5;124m \u001b[39m\u001b[38;5;132;01m{\u001b[39;00m\u001b[43mshape\u001b[49m\u001b[38;5;241;43m.\u001b[39;49m\u001b[43marea\u001b[49m()\u001b[38;5;132;01m}\u001b[39;00m\u001b[38;5;124m cm²\u001b[39m\u001b[38;5;124m\"\u001b[39m)\n",
      "\u001b[0;31mAttributeError\u001b[0m: 'Pizza' object has no attribute 'area'"
     ]
    }
   ],
   "source": [
    "class Pizza:\n",
    "    def __init__(self, radius, topping):\n",
    "        self.radius = radius\n",
    "        self.topping = topping\n",
    "\n",
    "shapes = [Circle(2), Square(4), Triangle(7,6), Pizza(15, \"Peperonni\")]\n",
    "\n",
    "\n",
    "for shape in shapes:\n",
    "    print(f\" {shape.area()} cm²\")"
   ]
  },
  {
   "cell_type": "markdown",
   "metadata": {},
   "source": [
    "---------------------------------------------------------------------------\n",
    "AttributeError                            Traceback (most recent call last)\n",
    "Cell In[12], line 10\n",
    "      6 shapes = [Circle(2), Square(4), Triangle(7,6), Pizza(15, \"Peperonni\")]\n",
    "      9 for shape in shapes:\n",
    "---> 10     print(f\" {shape.area()} cm²\")\n",
    "\n",
    "AttributeError: 'Pizza' object has no attribute 'area'"
   ]
  },
  {
   "cell_type": "markdown",
   "metadata": {},
   "source": [
    "Pizza object is considered a Pizza but not a Shape because it does not inherit. "
   ]
  },
  {
   "cell_type": "markdown",
   "metadata": {},
   "source": [
    "## 5. Copy paste the code from the last exercise and make Pizza inherit from Circle. Which are the forms of pizza?"
   ]
  },
  {
   "cell_type": "code",
   "execution_count": 13,
   "metadata": {},
   "outputs": [
    {
     "name": "stdout",
     "output_type": "stream",
     "text": [
      " 12.56 cm²\n",
      " 16 cm²\n",
      " 21.0 cm²\n",
      " 706.5 cm²\n"
     ]
    }
   ],
   "source": [
    "from abc import ABC, abstractmethod\n",
    "\n",
    "class Shape:\n",
    "    @abstractmethod\n",
    "    def area(self):\n",
    "        pass\n",
    "\n",
    "class Circle(Shape):\n",
    "    def __init__(self, radius):\n",
    "        self.radius = radius\n",
    "\n",
    "    def area(self):\n",
    "        return 3.14 * self.radius **2\n",
    "\n",
    "class Square(Shape):\n",
    "    def __init__(self, side):\n",
    "        self.side = side\n",
    "    \n",
    "    def area(self):\n",
    "        return self.side **2\n",
    "\n",
    "class Triangle(Shape):\n",
    "    def __init__(self, height, base):\n",
    "        self.height = height\n",
    "        self.base = base\n",
    "\n",
    "    def area(self):\n",
    "        return self.base * self.height * 0.5\n",
    "    \n",
    "class Pizza(Circle): # add Circle here\n",
    "    def __init__(self, radius, topping):\n",
    "        super().__init__(radius) # pass super constructor to inherit radius from Circle\n",
    "        self.radius = radius\n",
    "        self.topping = topping\n",
    "\n",
    "shapes = [Circle(2), Square(4), Triangle(7,6), Pizza(15, \"Peperonni\")]\n",
    "\n",
    "\n",
    "for shape in shapes:\n",
    "    print(f\" {shape.area()} cm²\")"
   ]
  },
  {
   "cell_type": "markdown",
   "metadata": {},
   "source": [
    "Pizza inherits from the Circle class so it's also considered a circle and Circle class inherits from Shape class\n",
    "\n",
    "Pizza has 3 forms: Pizza, Circle, Shape"
   ]
  },
  {
   "cell_type": "markdown",
   "metadata": {},
   "source": [
    "## 6. "
   ]
  },
  {
   "cell_type": "code",
   "execution_count": null,
   "metadata": {},
   "outputs": [],
   "source": []
  },
  {
   "cell_type": "markdown",
   "metadata": {},
   "source": [
    "## 7. "
   ]
  },
  {
   "cell_type": "code",
   "execution_count": null,
   "metadata": {},
   "outputs": [],
   "source": []
  },
  {
   "cell_type": "markdown",
   "metadata": {},
   "source": [
    "## 8. "
   ]
  },
  {
   "cell_type": "code",
   "execution_count": null,
   "metadata": {},
   "outputs": [],
   "source": []
  },
  {
   "cell_type": "markdown",
   "metadata": {},
   "source": [
    "## 9. "
   ]
  },
  {
   "cell_type": "code",
   "execution_count": null,
   "metadata": {},
   "outputs": [],
   "source": []
  },
  {
   "cell_type": "markdown",
   "metadata": {},
   "source": [
    "## 10."
   ]
  },
  {
   "cell_type": "code",
   "execution_count": null,
   "metadata": {},
   "outputs": [],
   "source": []
  }
 ],
 "metadata": {
  "kernelspec": {
   "display_name": "data-science-katas",
   "language": "python",
   "name": "ds-katas"
  },
  "language_info": {
   "codemirror_mode": {
    "name": "ipython",
    "version": 3
   },
   "file_extension": ".py",
   "mimetype": "text/x-python",
   "name": "python",
   "nbconvert_exporter": "python",
   "pygments_lexer": "ipython3",
   "version": "3.10.12"
  }
 },
 "nbformat": 4,
 "nbformat_minor": 2
}
