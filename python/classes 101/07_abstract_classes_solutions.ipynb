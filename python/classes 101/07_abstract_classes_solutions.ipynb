{
 "cells": [
  {
   "cell_type": "markdown",
   "id": "842f44c7",
   "metadata": {},
   "source": [
    "## Abstract methods\n",
    "\n",
    "These methods are used in abstract classes, that are blue prints for other classes\n",
    "\n",
    "To create abstract methods we need to import abc and use the decorator as it follows:\n",
    "\n"
   ]
  },
  {
   "cell_type": "code",
   "execution_count": null,
   "id": "c6e7b128",
   "metadata": {},
   "outputs": [],
   "source": [
    "from abc import ABC, abstractmethod "
   ]
  },
  {
   "cell_type": "code",
   "execution_count": null,
   "id": "4c07a747",
   "metadata": {},
   "outputs": [],
   "source": [
    "class AbstractClass1(ABC):\n",
    "\n",
    "    @abstractmethod\n",
    "    def function(self) -> None:\n",
    "        \"\"\" \n",
    "        Here goes nothing because the logic will be implemented in the children classes \n",
    "        It can be raise NotImplementedError (not required for abstracts) or just ... \n",
    "        \"\"\""
   ]
  },
  {
   "cell_type": "markdown",
   "id": "0e43d1b6",
   "metadata": {},
   "source": [
    "## Abstract classes \n",
    "\n",
    "Abstract classes cannot be instantiated on their own. They are meant to be subclassed (parents to children classes). \n",
    "They can contain abstract methods which are declared but have no implementation\n",
    "\n",
    "Benefits:\n",
    "- Prevent instantiation of the class itself\n",
    "- Require children to use inherited abstract methods\n",
    "\n",
    "It's like having an unfinished car\n",
    "\n",
    "They need import: from abc import ABC, abstractmethod\n",
    "\n",
    "\n"
   ]
  },
  {
   "cell_type": "code",
   "execution_count": 2,
   "id": "0433daf2",
   "metadata": {},
   "outputs": [],
   "source": [
    "from abc import ABC, abstractmethod"
   ]
  },
  {
   "cell_type": "markdown",
   "id": "827d399c",
   "metadata": {},
   "source": [
    "## 1. Create a class named Vehicle (abstract ofc) with two empty methods: go and stop. Instantiate it. What happens? "
   ]
  },
  {
   "cell_type": "code",
   "execution_count": 3,
   "id": "ae284e17",
   "metadata": {},
   "outputs": [
    {
     "ename": "TypeError",
     "evalue": "Can't instantiate abstract class Vehicle with abstract methods go, stop",
     "output_type": "error",
     "traceback": [
      "\u001b[0;31m---------------------------------------------------------------------------\u001b[0m",
      "\u001b[0;31mTypeError\u001b[0m                                 Traceback (most recent call last)",
      "Cell \u001b[0;32mIn[3], line 10\u001b[0m\n\u001b[1;32m      6\u001b[0m     \u001b[38;5;129m@abstractmethod\u001b[39m\n\u001b[1;32m      7\u001b[0m     \u001b[38;5;28;01mdef\u001b[39;00m\u001b[38;5;250m \u001b[39m\u001b[38;5;21mstop\u001b[39m(\u001b[38;5;28mself\u001b[39m):\n\u001b[1;32m      8\u001b[0m         \u001b[38;5;28;01mpass\u001b[39;00m\n\u001b[0;32m---> 10\u001b[0m vehicle \u001b[38;5;241m=\u001b[39m \u001b[43mVehicle\u001b[49m\u001b[43m(\u001b[49m\u001b[43m)\u001b[49m\n",
      "\u001b[0;31mTypeError\u001b[0m: Can't instantiate abstract class Vehicle with abstract methods go, stop"
     ]
    }
   ],
   "source": [
    "class Vehicle(ABC):\n",
    "    @abstractmethod\n",
    "    def go(self):\n",
    "        pass # we create it but not define it here. We will define it in the children\n",
    "\n",
    "    @abstractmethod\n",
    "    def stop(self):\n",
    "        pass\n",
    "\n",
    "vehicle = Vehicle()\n",
    "\n",
    "\n"
   ]
  },
  {
   "cell_type": "markdown",
   "id": "a6180951",
   "metadata": {},
   "source": [
    "---------------------------------------------------------------------------\n",
    "TypeError                                 Traceback (most recent call last)\n",
    "Cell In[3], line 10\n",
    "      6     @abstractmethod\n",
    "      7     def stop(self):\n",
    "      8         pass\n",
    "---> 10 vehicle = Vehicle()\n",
    "\n",
    "TypeError: Can't instantiate abstract class Vehicle with abstract methods go, stop"
   ]
  },
  {
   "cell_type": "markdown",
   "id": "b9386380",
   "metadata": {},
   "source": [
    "## 2. Create a Car class that inherits from Vehicle, now you have to define the methods inside of it. Instantiate it\n",
    "## Now call the methods go and stop. What happens?"
   ]
  },
  {
   "cell_type": "code",
   "execution_count": 6,
   "id": "e73824b4",
   "metadata": {},
   "outputs": [
    {
     "name": "stdout",
     "output_type": "stream",
     "text": [
      "You drive the car\n",
      "You stop the car\n"
     ]
    }
   ],
   "source": [
    "class Vehicle(ABC):\n",
    "    @abstractmethod\n",
    "    def go(self):\n",
    "        pass \n",
    "\n",
    "    @abstractmethod\n",
    "    def stop(self):\n",
    "        pass\n",
    "\n",
    "class Car(Vehicle):\n",
    "    def go(self):\n",
    "        print(f\"You drive the car\")\n",
    "\n",
    "    def stop(self):\n",
    "        print(f\"You stop the car\")\n",
    "\n",
    "car = Car()\n",
    "car.go()\n",
    "car.stop()\n",
    "         "
   ]
  },
  {
   "cell_type": "markdown",
   "id": "3cc97d14",
   "metadata": {},
   "source": [
    "Everything works fine!"
   ]
  },
  {
   "cell_type": "markdown",
   "id": "7da96add",
   "metadata": {},
   "source": [
    "## 3. Create another child class named motorcycle that inherits from Vechicle class"
   ]
  },
  {
   "cell_type": "code",
   "execution_count": 7,
   "id": "6ec1781f",
   "metadata": {},
   "outputs": [
    {
     "name": "stdout",
     "output_type": "stream",
     "text": [
      "You drive the motorcyle\n",
      "You stop the motorcyle\n"
     ]
    }
   ],
   "source": [
    "class Vehicle(ABC):\n",
    "    @abstractmethod\n",
    "    def go(self):\n",
    "        pass \n",
    "\n",
    "    @abstractmethod\n",
    "    def stop(self):\n",
    "        pass\n",
    "\n",
    "class Car(Vehicle):\n",
    "    def go(self):\n",
    "        print(f\"You drive the car\")\n",
    "\n",
    "    def stop(self):\n",
    "        print(f\"You stop the car\")\n",
    "\n",
    "class Motorcycle(Vehicle):\n",
    "    def go(self):\n",
    "        print(f\"You drive the motorcyle\")\n",
    "\n",
    "    def stop(self):\n",
    "        print(f\"You stop the motorcyle\")\n",
    "\n",
    "\n",
    "moto = Motorcycle()\n",
    "moto.go()\n",
    "moto.stop()\n",
    "\n"
   ]
  },
  {
   "cell_type": "markdown",
   "id": "5afbe1e3",
   "metadata": {},
   "source": [
    "## 4. Create a boat class that inherits from Vehicle. Remember that every child class MUST have all abstract methods from the abstract class"
   ]
  },
  {
   "cell_type": "code",
   "execution_count": 8,
   "id": "17280c73",
   "metadata": {},
   "outputs": [
    {
     "name": "stdout",
     "output_type": "stream",
     "text": [
      "You sail the boat\n",
      "You anchor the boat\n"
     ]
    }
   ],
   "source": [
    "class Vehicle(ABC):\n",
    "    @abstractmethod\n",
    "    def go(self):\n",
    "        pass \n",
    "\n",
    "    @abstractmethod\n",
    "    def stop(self):\n",
    "        pass\n",
    "\n",
    "class Car(Vehicle):\n",
    "    def go(self):\n",
    "        print(f\"You drive the car\")\n",
    "\n",
    "    def stop(self):\n",
    "        print(f\"You stop the car\")\n",
    "\n",
    "class Motorcycle(Vehicle):\n",
    "    def go(self):\n",
    "        print(f\"You drive the motorcyle\")\n",
    "\n",
    "    def stop(self):\n",
    "        print(f\"You stop the motorcyle\")\n",
    "\n",
    "class Boat(Vehicle):\n",
    "    def go(self):\n",
    "        print(f\"You sail the boat\")\n",
    "\n",
    "    def stop(self):\n",
    "        print(f\"You anchor the boat\")\n",
    "\n",
    "boat = Boat()\n",
    "boat.go()\n",
    "boat.stop()\n"
   ]
  },
  {
   "cell_type": "markdown",
   "id": "f7e73932",
   "metadata": {},
   "source": [
    "## Conclusion\n",
    "\n",
    "Abstract classes are:\n",
    "\n",
    "- Classes that CANNOT be instantiated on their own\n",
    "- They are incomplete and meant to be subclass\n",
    "- They can contain abstract methods, which are declared but we don't finish defining them in the parent class, rather within the children. \n"
   ]
  },
  {
   "cell_type": "code",
   "execution_count": null,
   "id": "900e80be",
   "metadata": {},
   "outputs": [],
   "source": []
  }
 ],
 "metadata": {
  "kernelspec": {
   "display_name": "data-science-katas",
   "language": "python",
   "name": "ds-katas"
  },
  "language_info": {
   "codemirror_mode": {
    "name": "ipython",
    "version": 3
   },
   "file_extension": ".py",
   "mimetype": "text/x-python",
   "name": "python",
   "nbconvert_exporter": "python",
   "pygments_lexer": "ipython3",
   "version": "3.10.12"
  }
 },
 "nbformat": 4,
 "nbformat_minor": 5
}
