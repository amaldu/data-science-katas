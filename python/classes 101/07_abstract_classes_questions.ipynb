{
 "cells": [
  {
   "cell_type": "markdown",
   "id": "842f44c7",
   "metadata": {},
   "source": [
    "## Abstract methods\n",
    "\n",
    "These methods are used in abstract classes, that are blue prints for other classes\n",
    "\n",
    "To create abstract methods we need to import abc and use the decorator as it follows:\n",
    "\n"
   ]
  },
  {
   "cell_type": "code",
   "execution_count": 1,
   "id": "c6e7b128",
   "metadata": {},
   "outputs": [],
   "source": [
    "from abc import ABC, abstractmethod "
   ]
  },
  {
   "cell_type": "code",
   "execution_count": 2,
   "id": "4c07a747",
   "metadata": {},
   "outputs": [],
   "source": [
    "class AbstractClass1(ABC):\n",
    "\n",
    "    @abstractmethod\n",
    "    def function(self) -> None:\n",
    "        \"\"\" \n",
    "        Here goes nothing because the logic will be implemented in the children classes \n",
    "        It can be raise NotImplementedError (not required for abstracts) or just ... \n",
    "        \"\"\""
   ]
  },
  {
   "cell_type": "markdown",
   "id": "0e43d1b6",
   "metadata": {},
   "source": [
    "## Abstract classes \n",
    "\n",
    "Abstract classes cannot be instantiated on their own. They are meant to be subclassed (parents to children classes). \n",
    "They can contain abstract methods which are declared but have no implementation\n",
    "\n",
    "Benefits:\n",
    "- Prevent instantiation of the class itself\n",
    "- Require children to use inherited abstract methods\n",
    "\n",
    "It's like having an unfinished car\n",
    "\n",
    "They need import: from abc import ABC, abstractmethod\n",
    "\n",
    "\n"
   ]
  },
  {
   "cell_type": "code",
   "execution_count": 3,
   "id": "0433daf2",
   "metadata": {},
   "outputs": [],
   "source": [
    "from abc import ABC, abstractmethod"
   ]
  },
  {
   "cell_type": "markdown",
   "id": "827d399c",
   "metadata": {},
   "source": [
    "## 1. Create a class named Vehicle (abstract ofc) with two empty methods: go and stop. Instantiate it. What happens? "
   ]
  },
  {
   "cell_type": "code",
   "execution_count": null,
   "id": "ae284e17",
   "metadata": {},
   "outputs": [],
   "source": []
  },
  {
   "cell_type": "markdown",
   "id": "a6180951",
   "metadata": {},
   "source": []
  },
  {
   "cell_type": "markdown",
   "id": "b9386380",
   "metadata": {},
   "source": [
    "## 2. Create a Car class that inherits from Vehicle, now you have to define the methods inside of it. Instantiate it\n",
    "## Now call the methods go and stop. What happens?"
   ]
  },
  {
   "cell_type": "code",
   "execution_count": null,
   "id": "e73824b4",
   "metadata": {},
   "outputs": [],
   "source": []
  },
  {
   "cell_type": "markdown",
   "id": "3cc97d14",
   "metadata": {},
   "source": []
  },
  {
   "cell_type": "markdown",
   "id": "7da96add",
   "metadata": {},
   "source": [
    "## 3. Create another child class named motorcycle that inherits from Vechicle class"
   ]
  },
  {
   "cell_type": "code",
   "execution_count": null,
   "id": "6ec1781f",
   "metadata": {},
   "outputs": [],
   "source": []
  },
  {
   "cell_type": "markdown",
   "id": "5afbe1e3",
   "metadata": {},
   "source": [
    "## 4. Create a boat class that inherits from Vehicle. Remember that every child class MUST have all abstract methods from the abstract class"
   ]
  },
  {
   "cell_type": "code",
   "execution_count": null,
   "id": "17280c73",
   "metadata": {},
   "outputs": [],
   "source": []
  },
  {
   "cell_type": "markdown",
   "id": "f7e73932",
   "metadata": {},
   "source": [
    "## Conclusion\n",
    "\n",
    "Abstract classes are:\n",
    "\n",
    "- Classes that CANNOT be instantiated on their own\n",
    "- They are incomplete and meant to be subclass\n",
    "- They can contain abstract methods, which are declared but we don't finish defining them in the parent class, rather within the children. \n"
   ]
  },
  {
   "cell_type": "code",
   "execution_count": null,
   "id": "900e80be",
   "metadata": {},
   "outputs": [],
   "source": []
  }
 ],
 "metadata": {
  "kernelspec": {
   "display_name": "data-science-katas",
   "language": "python",
   "name": "ds-katas"
  },
  "language_info": {
   "codemirror_mode": {
    "name": "ipython",
    "version": 3
   },
   "file_extension": ".py",
   "mimetype": "text/x-python",
   "name": "python",
   "nbconvert_exporter": "python",
   "pygments_lexer": "ipython3",
   "version": "3.10.12"
  }
 },
 "nbformat": 4,
 "nbformat_minor": 5
}
