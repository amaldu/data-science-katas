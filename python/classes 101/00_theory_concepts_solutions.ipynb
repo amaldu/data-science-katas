{
 "cells": [
  {
   "cell_type": "markdown",
   "metadata": {},
   "source": [
    "# Basic concepts"
   ]
  },
  {
   "cell_type": "markdown",
   "metadata": {},
   "source": [
    "## What is a method? Create a class and a method inside"
   ]
  },
  {
   "cell_type": "markdown",
   "metadata": {},
   "source": [
    "A method is a function defined inside of a class"
   ]
  },
  {
   "cell_type": "code",
   "execution_count": 47,
   "metadata": {},
   "outputs": [],
   "source": [
    "class Dog:\n",
    "    def bark(self):  # this is a method\n",
    "        print(\"Woof!\")\n",
    "\n",
    "# bark is a method of the Dog class"
   ]
  },
  {
   "cell_type": "markdown",
   "metadata": {},
   "source": [
    "## What is an instance? How do you create one?"
   ]
  },
  {
   "cell_type": "markdown",
   "metadata": {},
   "source": [
    "An instance is an object created from a class"
   ]
  },
  {
   "cell_type": "code",
   "execution_count": 48,
   "metadata": {},
   "outputs": [],
   "source": [
    "dog1 = Dog()  # dog1 is an instance of Dog\n",
    "dog2 = Dog()  # dog2 is another instance\n"
   ]
  },
  {
   "cell_type": "markdown",
   "metadata": {},
   "source": [
    "## What is an instance method?"
   ]
  },
  {
   "cell_type": "markdown",
   "metadata": {},
   "source": [
    "An instance method is a method that works on one specific object (instance). It has access to the instance via self"
   ]
  },
  {
   "cell_type": "code",
   "execution_count": 49,
   "metadata": {},
   "outputs": [
    {
     "name": "stdout",
     "output_type": "stream",
     "text": [
      "Buddy says woof!\n"
     ]
    }
   ],
   "source": [
    "class Dog:\n",
    "    def __init__(self, name):\n",
    "        self.name = name  # instance variable\n",
    "\n",
    "    def bark(self):  # instance method\n",
    "        print(f\"{self.name} says woof!\")\n",
    "\n",
    "dog1 = Dog(\"Buddy\")\n",
    "# Use the instance method\n",
    "dog1.bark()  \n"
   ]
  },
  {
   "cell_type": "markdown",
   "metadata": {},
   "source": [
    "## What is a class method? How do you define it? Give an example"
   ]
  },
  {
   "cell_type": "markdown",
   "metadata": {},
   "source": [
    "A class method is different. It doesn't act on one specific object — it acts on the class itself."
   ]
  },
  {
   "cell_type": "code",
   "execution_count": 50,
   "metadata": {},
   "outputs": [],
   "source": [
    "class Dog:\n",
    "    species = \"Canis familiaris\"\n",
    "\n",
    "    # The decorator is needed to define the method\n",
    "    @classmethod\n",
    "    def change_species(cls, new_species):  # we need cls instead of self\n",
    "        cls.species = new_species\n"
   ]
  },
  {
   "cell_type": "markdown",
   "metadata": {},
   "source": [
    "# Instance methods\n",
    "\n",
    "## Given the following class\n",
    "\n",
    "### Create two instances of the Employees class emp_1 and emp_2\n"
   ]
  },
  {
   "cell_type": "code",
   "execution_count": 51,
   "metadata": {},
   "outputs": [],
   "source": [
    "class Employee:\n",
    "    raise_amount = 0.03\n",
    "    def __init__(self, first, last, salary):\n",
    "        self.first = first\n",
    "        self.last = last\n",
    "        self.email = f\"{first.lower()}.{last.lower()}@example.com\"\n",
    "        self.salary = salary\n",
    "        \n",
    "    def full_name(self):\n",
    "        return f\"{self.first} {self.last}\"\n",
    "    \n",
    "    def apply_raise(self):\n",
    "        self.salary = int(self.salary + self.salary * self.raise_amount)\n",
    "        return self.salary\n",
    "    \n",
    "emp_1 = Employee(\"John\", \"Doe\", 100000)\n",
    "emp_2 = Employee (\"Margarita\", \"Robles\", 400000)"
   ]
  },
  {
   "cell_type": "markdown",
   "metadata": {},
   "source": [
    "## 1. What is \"raise_amount\"? \n",
    "## How can you access it? \n",
    "## Does it belong to the class or the instance?"
   ]
  },
  {
   "cell_type": "code",
   "execution_count": 52,
   "metadata": {},
   "outputs": [
    {
     "name": "stdout",
     "output_type": "stream",
     "text": [
      "0.03\n",
      "0.03\n"
     ]
    }
   ],
   "source": [
    "# it's a class variablattribute \n",
    "\n",
    "# access from the class\n",
    "print(Employee.raise_amount)\n",
    "\n",
    "#access from the instance\n",
    "print(emp_1.raise_amount)\n",
    "\n",
    "# it is a class attribute, meaning it belongs to the class \"Employee\", not to individual instances"
   ]
  },
  {
   "cell_type": "markdown",
   "metadata": {},
   "source": [
    "## 2. What happens if you assign emp_2.raise_amount = 0.10? Does it affect other instances?\n",
    "\n",
    "## How would you change raise_amount for all instances of the class?\n"
   ]
  },
  {
   "cell_type": "code",
   "execution_count": 53,
   "metadata": {},
   "outputs": [
    {
     "name": "stdout",
     "output_type": "stream",
     "text": [
      " Raise amount of emp_1 before changing it is 0.03\n",
      " Raise amount of emp_2 before changing it is 0.03\n",
      "\n",
      " Raise amount of emp_1 after changing it is 0.03\n",
      " Raise amount of emp_2 after changing it is 0.1\n",
      "\n",
      " Raise amount of emp_1 after changing it is 0.08\n",
      " Raise amount of emp_2 after changing it is 0.1\n",
      "\n",
      " Raise amount of emp_1 after changing it is 0.08\n",
      " Raise amount of emp_2 after changing it is 0.08\n"
     ]
    }
   ],
   "source": [
    "# let's check. \n",
    "\n",
    "print(f\" Raise amount of emp_1 before changing it is {emp_1.raise_amount}\")\n",
    "print(f\" Raise amount of emp_2 before changing it is {emp_2.raise_amount}\\n\")\n",
    "\n",
    "emp_2.raise_amount = 0.1\n",
    "\n",
    "print(f\" Raise amount of emp_1 after changing it is {emp_1.raise_amount}\")\n",
    "print(f\" Raise amount of emp_2 after changing it is {emp_2.raise_amount}\\n\")\n",
    "\n",
    "# no, it just affects the raise amount of emp_1\n",
    "# to change raise_amount of all instances of the class?\n",
    "\n",
    "Employee.raise_amount = 0.08\n",
    "\n",
    "print(f\" Raise amount of emp_1 after changing it is {emp_1.raise_amount}\")\n",
    "print(f\" Raise amount of emp_2 after changing it is {emp_2.raise_amount}\\n\")\n",
    "\n",
    "# emp_2 does NOT change! Why? \n",
    "# Because whenever we have a class attribute defined for a certain instance, changing the class attribute\n",
    "# does not work. First we have to delete the attribute for that class and then define it again\n",
    "\n",
    "del emp_2.raise_amount\n",
    "Employee.raise_amount = 0.08\n",
    "\n",
    "print(f\" Raise amount of emp_1 after changing it is {emp_1.raise_amount}\")\n",
    "print(f\" Raise amount of emp_2 after changing it is {emp_2.raise_amount}\")\n"
   ]
  },
  {
   "cell_type": "markdown",
   "metadata": {},
   "source": [
    "## 3. What is an instance attribute in this class? Give examples from this class.\n",
    "\n",
    "## How do you access salary of the Employee object? \n",
    "## How can you modify the attribute \"first_name\" after the object is created?"
   ]
  },
  {
   "cell_type": "code",
   "execution_count": 54,
   "metadata": {},
   "outputs": [
    {
     "name": "stdout",
     "output_type": "stream",
     "text": [
      "100000\n",
      " The first name before the change is John\n",
      " The first name after the change is Magdalene\n"
     ]
    }
   ],
   "source": [
    "# An instance attribute is a variable that belongs to an object (instance). \n",
    "# Examples of this class: self.first, self.last, self.email, self.salary.\n",
    "\n",
    "print(emp_1.salary)\n",
    "\n",
    "# in order to modify the attribute of the object, we can directly overwrite it\n",
    "print(f\" The first name before the change is {emp_1.first}\")\n",
    "\n",
    "emp_1.first = \"Magdalene\"\n",
    "\n",
    "print(f\" The first name after the change is {emp_1.first}\")\n"
   ]
  },
  {
   "cell_type": "markdown",
   "metadata": {},
   "source": [
    "## 4. What is the purpose of the __init__() method?\n",
    "\n",
    "## what parameters does __init__ take and how are they used to initialize the object?\n",
    "\n",
    "## What happens if you create an instance without providing the 3 required arguments?"
   ]
  },
  {
   "cell_type": "markdown",
   "metadata": {},
   "source": [
    "it initializes new objects and sets initial values for attributes when an object is created. \n",
    "\n",
    "it takes first, last, salary and uses them to set the attributes self.first, self.last, self.salary\n",
    "\n",
    "if you create the instace without providing the arguments you will get TypeError"
   ]
  },
  {
   "cell_type": "markdown",
   "metadata": {},
   "source": [
    "## 5. What is full_name()? What does it return?"
   ]
  },
  {
   "cell_type": "markdown",
   "metadata": {},
   "source": [
    "full_name is a class method and returns the full name based on first and last instance attributes "
   ]
  },
  {
   "cell_type": "markdown",
   "metadata": {},
   "source": [
    "## 6. What is the difference between calling emp_1.full_name and emp_1.full_name()?"
   ]
  },
  {
   "cell_type": "code",
   "execution_count": 55,
   "metadata": {},
   "outputs": [
    {
     "name": "stdout",
     "output_type": "stream",
     "text": [
      "<bound method Employee.full_name of <__main__.Employee object at 0x7ed42cb37010>>\n",
      "Magdalene Doe\n"
     ]
    }
   ],
   "source": [
    "print(emp_1.full_name)\n",
    "# gives a reference to the method object. Needs to be printed to return it\n",
    "\n",
    "print(emp_1.full_name())\n",
    "# calls the method and returns the full name string"
   ]
  },
  {
   "cell_type": "markdown",
   "metadata": {},
   "source": [
    "## 7. What does apply_raise() do? \n",
    "\n",
    "## how can you use the apply_raise from outside the class?"
   ]
  },
  {
   "cell_type": "code",
   "execution_count": 56,
   "metadata": {},
   "outputs": [
    {
     "data": {
      "text/plain": [
       "108000"
      ]
     },
     "execution_count": 56,
     "metadata": {},
     "output_type": "execute_result"
    }
   ],
   "source": [
    "# It increases the salary by the % in raise_amount class attribute. \n",
    "# It actually modifies the salary instance attribute and returns the new value\n",
    "\n",
    "# to call it from outside the class\n",
    "emp_1.apply_raise()"
   ]
  },
  {
   "cell_type": "markdown",
   "metadata": {},
   "source": [
    "# Class methods"
   ]
  },
  {
   "cell_type": "markdown",
   "metadata": {},
   "source": [
    "##  1. Can class methods access instance variables?"
   ]
  },
  {
   "cell_type": "markdown",
   "metadata": {},
   "source": [
    "No, class methods can only access class variables or other class-level data. They don’t have access to instance-specific variables unless an instance is passed explicitly."
   ]
  },
  {
   "cell_type": "markdown",
   "metadata": {},
   "source": [
    "## 2. When class methods are needed? (Give 3)"
   ]
  },
  {
   "cell_type": "markdown",
   "metadata": {},
   "source": [
    "When you need to modify a class variable, need to write an alternative constructor (factory method) or you need functionality that logically relates to the class, not to individual instances."
   ]
  },
  {
   "cell_type": "markdown",
   "metadata": {},
   "source": [
    "## 3. Can class methods be overridden in subclasses?"
   ]
  },
  {
   "cell_type": "markdown",
   "metadata": {},
   "source": [
    "Yes, class methods can be inherited and overridden in subclasses like any other method."
   ]
  },
  {
   "cell_type": "markdown",
   "metadata": {},
   "source": [
    "## 4. Can you call a class method from an instance?"
   ]
  },
  {
   "cell_type": "markdown",
   "metadata": {},
   "source": [
    "Yes, class methods can be called both from the class and from an instance:"
   ]
  },
  {
   "cell_type": "code",
   "execution_count": 57,
   "metadata": {},
   "outputs": [
    {
     "name": "stdout",
     "output_type": "stream",
     "text": [
      "Hello from <class '__main__.MyClass'>\n",
      "Hello from <class '__main__.MyClass'>\n"
     ]
    }
   ],
   "source": [
    "class MyClass:\n",
    "    @classmethod\n",
    "    def greet(cls):\n",
    "        print(\"Hello from\", cls)\n",
    "\n",
    "obj = MyClass()\n",
    "MyClass.greet()  # works\n",
    "obj.greet()      # also works\n"
   ]
  },
  {
   "cell_type": "markdown",
   "metadata": {},
   "source": [
    "# Static methods"
   ]
  },
  {
   "cell_type": "markdown",
   "metadata": {},
   "source": [
    "## 1. What is a static method in Python?"
   ]
  },
  {
   "cell_type": "markdown",
   "metadata": {},
   "source": [
    "A static method is a method inside a class that does not take self or cls as its first argument. It behaves like a regular function but is grouped inside the class for logical organization."
   ]
  },
  {
   "cell_type": "markdown",
   "metadata": {},
   "source": [
    "## 2. Why we put it inside of the class if its behaviour is independent? "
   ]
  },
  {
   "cell_type": "markdown",
   "metadata": {},
   "source": [
    "Sometimes it's a good practise to use @staticmethods because we have some functions that even if they are not working together, they have some relationship with the nature of the class."
   ]
  },
  {
   "cell_type": "markdown",
   "metadata": {},
   "source": [
    "## 3. How do you define a static method?"
   ]
  },
  {
   "cell_type": "code",
   "execution_count": 58,
   "metadata": {},
   "outputs": [],
   "source": [
    "# You define a static method using the @staticmethod decorator above the method definition.\n",
    "\n",
    "class MyClass:\n",
    "    @staticmethod\n",
    "    def my_static_method():\n",
    "        pass\n"
   ]
  },
  {
   "cell_type": "markdown",
   "metadata": {},
   "source": [
    "## 4. Can static methods access instance (self) or class (cls) variables?"
   ]
  },
  {
   "cell_type": "markdown",
   "metadata": {},
   "source": [
    "No, static methods cannot access instance or class variables because they don't receive self or cls as arguments."
   ]
  },
  {
   "cell_type": "markdown",
   "metadata": {},
   "source": [
    "## 5. Why would you use a static method instead of a regular method?"
   ]
  },
  {
   "cell_type": "markdown",
   "metadata": {},
   "source": [
    "You use a static method when the logic doesn't need access to the instance or class, but still logically belongs to the class."
   ]
  },
  {
   "cell_type": "markdown",
   "metadata": {},
   "source": [
    "## 6. Can you call a static method without creating an instance of the class?"
   ]
  },
  {
   "cell_type": "code",
   "execution_count": 59,
   "metadata": {},
   "outputs": [],
   "source": [
    "# Yes, you can call a static method directly on the class without creating an object.\n",
    "\n",
    "MyClass.my_static_method()\n"
   ]
  },
  {
   "cell_type": "markdown",
   "metadata": {},
   "source": [
    "## 7. Can static methods return values?"
   ]
  },
  {
   "cell_type": "markdown",
   "metadata": {},
   "source": [
    "Yes, just like any regular function, static methods can return values."
   ]
  },
  {
   "cell_type": "markdown",
   "metadata": {},
   "source": [
    "## 8. What’s the difference between @staticmethod and @classmethod?"
   ]
  },
  {
   "cell_type": "markdown",
   "metadata": {},
   "source": [
    "@staticmethod does not receive any implicit first argument.\n",
    "\n",
    "@classmethod receives cls as the first argument and can modify class-level data."
   ]
  }
 ],
 "metadata": {
  "kernelspec": {
   "display_name": "data-science-katas",
   "language": "python",
   "name": "ds-katas"
  },
  "language_info": {
   "codemirror_mode": {
    "name": "ipython",
    "version": 3
   },
   "file_extension": ".py",
   "mimetype": "text/x-python",
   "name": "python",
   "nbconvert_exporter": "python",
   "pygments_lexer": "ipython3",
   "version": "3.10.12"
  }
 },
 "nbformat": 4,
 "nbformat_minor": 2
}
