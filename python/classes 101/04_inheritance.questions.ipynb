{
 "cells": [
  {
   "cell_type": "markdown",
   "metadata": {},
   "source": [
    "Inheritance allows us to inherit attributes and methods from a parent class. This is useful because we can create subclasses and get all the functionalities from the parent class, overwrite them or add completely new functionalities without affecting the parent class at all"
   ]
  },
  {
   "cell_type": "markdown",
   "metadata": {},
   "source": [
    "## 1. Write an Employee class with:\n",
    "- class variable raise_amt = 1.05\n",
    "- constructor with first, last, email and salary variables, email is created as first.last@example.com\n",
    "- full_name method that returns the full name separted by spaces\n",
    "- method called apply_raise that returns the updated salary as the product of the salary by the raise_amt\n",
    "Instantiate the Employee class twice under the names \"emp_1\" and \"emp_2\""
   ]
  },
  {
   "cell_type": "code",
   "execution_count": 37,
   "metadata": {},
   "outputs": [],
   "source": [
    "class Employee:\n",
    "    raise_amt = 1.05\n",
    "\n",
    "    def __init__(self, first, last, salary):\n",
    "        self.first = first\n",
    "        self.last = last\n",
    "        self.email = f\"{first.lower()}.{last.lower()}@example.com\"\n",
    "        self.salary = salary\n",
    "\n",
    "    def full_name_parser(self):\n",
    "        full_name = f\"{self.first} {self.last}\"\n",
    "        return full_name\n",
    "    \n",
    "    def apply_raise(self):\n",
    "        self.salary = self.salary * self.raise_amt\n",
    "        return self.salary\n",
    "    \n",
    "emp_1 = Employee(\"Lucas\", \"Mann\", 100000)\n",
    "emp_2 = Employee(\"Sophia\", \"Williams\", 80000)\n",
    "    "
   ]
  },
  {
   "cell_type": "markdown",
   "metadata": {},
   "source": [
    "## 2. The company wants to create different types of employees that are more specific. Create a Manager and a Developer class that inherit from Employee, leave them empty. \n",
    "\n",
    "### Create dev_1 and dev_2 this time from Developer class. Print dev_1 full_name and dev_2 email. What happens?"
   ]
  },
  {
   "cell_type": "code",
   "execution_count": 38,
   "metadata": {},
   "outputs": [
    {
     "name": "stdout",
     "output_type": "stream",
     "text": [
      "Lucas Mann\n",
      "sophia.williams@example.com\n"
     ]
    }
   ],
   "source": [
    "class Manager(Employee):\n",
    "    pass\n",
    "\n",
    "class Developer(Employee):\n",
    "    pass\n",
    "    \n",
    "dev_1 = Developer(\"Lucas\", \"Mann\", 100000)\n",
    "dev_2 = Developer(\"Sophia\", \"Williams\", 80000)\n",
    "\n",
    "print(dev_1.full_name_parser())\n",
    "print(dev_2.email)"
   ]
  },
  {
   "cell_type": "markdown",
   "metadata": {},
   "source": [
    "## 3. Execute the command print(help(Developer)). What is the method resolution order?"
   ]
  },
  {
   "cell_type": "code",
   "execution_count": 39,
   "metadata": {},
   "outputs": [
    {
     "name": "stdout",
     "output_type": "stream",
     "text": [
      "Help on class Developer in module __main__:\n",
      "\n",
      "class Developer(Employee)\n",
      " |  Developer(first, last, salary)\n",
      " |  \n",
      " |  Method resolution order:\n",
      " |      Developer\n",
      " |      Employee\n",
      " |      builtins.object\n",
      " |  \n",
      " |  Methods inherited from Employee:\n",
      " |  \n",
      " |  __init__(self, first, last, salary)\n",
      " |      Initialize self.  See help(type(self)) for accurate signature.\n",
      " |  \n",
      " |  apply_raise(self)\n",
      " |  \n",
      " |  full_name_parser(self)\n",
      " |  \n",
      " |  ----------------------------------------------------------------------\n",
      " |  Data descriptors inherited from Employee:\n",
      " |  \n",
      " |  __dict__\n",
      " |      dictionary for instance variables (if defined)\n",
      " |  \n",
      " |  __weakref__\n",
      " |      list of weak references to the object (if defined)\n",
      " |  \n",
      " |  ----------------------------------------------------------------------\n",
      " |  Data and other attributes inherited from Employee:\n",
      " |  \n",
      " |  raise_amt = 1.05\n",
      "\n",
      "None\n"
     ]
    }
   ],
   "source": [
    "print(help(Developer))"
   ]
  },
  {
   "cell_type": "markdown",
   "metadata": {},
   "source": [
    "## 4. Modify the Developer class by changing its varible called raise_amt to 1.35, then instantiate dev_1 from it. Finally instantiate emp_2 from the class Employee. Now print:\n",
    "- dev_1 salary\n",
    "- dev_1 apply raise\n",
    "- dev_1 salary \n",
    "- emp_2 salary\n",
    "- emp_2 apply raise\n",
    "- emp_2 salary\n",
    "\n",
    "What happens?"
   ]
  },
  {
   "cell_type": "code",
   "execution_count": 40,
   "metadata": {},
   "outputs": [],
   "source": [
    "class Developer(Employee):\n",
    "    raise_amt = 1.35"
   ]
  },
  {
   "cell_type": "markdown",
   "metadata": {},
   "source": [
    "## 5. Rewrite the Developer class that inherits from the Employee class and add the argument \"prog_lang\". \n",
    "\n",
    "Instantiate dev_1 with python and dev_2 with java.\n",
    "\n",
    "Print: \n",
    "- dev_1 email\n",
    "- dev_2 programming language"
   ]
  },
  {
   "cell_type": "code",
   "execution_count": 41,
   "metadata": {},
   "outputs": [],
   "source": [
    "class Developer(Employee):\n",
    "    raise_amt = 1.35\n",
    "    def __init__(self, first, last, salary, prog_lang):\n",
    "        super()._init__(first, last, salary)\n",
    "        self.prog_lang = prog_lang\n"
   ]
  },
  {
   "cell_type": "markdown",
   "metadata": {},
   "source": [
    "## 6. Rewrite the subclass named manager that inherits from Employee. \n",
    "- Add as an attribute an empty list of developers that this manager has in his team.\n",
    "- Add a method called add_emp that adds employees\n",
    "- Add another method called remove_emp that removes employees\n",
    "- Add a final method called print_emps that prints the list of  employee full names\n",
    "\n",
    "Instantiate the class Manager twice and save them inside manager_1 and manager_2. Manager_1 has a list of developers, manager_2 has it empty. \n",
    "\n",
    "Print :\n",
    "- manager_1 employees\n",
    "- manager 1 email"
   ]
  },
  {
   "cell_type": "code",
   "execution_count": 43,
   "metadata": {},
   "outputs": [],
   "source": [
    "class Manager(Employee):\n",
    "    def __init__(self, first, last, salary, developers = None):\n",
    "        super().__init__(first, last, salary)\n",
    "        if developers is None:\n",
    "            self.developers = []\n",
    "        else:\n",
    "            self.developers = developers\n",
    "\n",
    "    def add_emp(self,emp):\n",
    "        if emp not in self.developers:\n",
    "            self.developers.append(emp)\n",
    "\n",
    "    def remove_emp(self,emp):\n",
    "        if emp in self.developers:\n",
    "            self.developers.remove(emp)\n",
    "    \n",
    "    def print_emps(self):\n",
    "        for emp in self.developers:\n",
    "            print (f\"Employee full name: {emp.full_name_parser()}\")\n",
    "\n",
    "dev_1 = Employee(\"Maria\", \"Salamer\", 80000)\n",
    "dev_2 = Employee(\"Robert\", \"Jamison\", 90000)\n",
    "\n",
    "\n",
    "manager_1 = Manager(\"James\", \"Weiss\", 232000, [dev_1, dev_2])\n",
    "manager_2 = Manager(\"Samuel\", \"Berg\", 450000, [])\n"
   ]
  },
  {
   "cell_type": "code",
   "execution_count": 44,
   "metadata": {},
   "outputs": [
    {
     "name": "stdout",
     "output_type": "stream",
     "text": [
      "Help on class Manager in module __main__:\n",
      "\n",
      "class Manager(Employee)\n",
      " |  Manager(first, last, salary, developers=None)\n",
      " |  \n",
      " |  Method resolution order:\n",
      " |      Manager\n",
      " |      Employee\n",
      " |      builtins.object\n",
      " |  \n",
      " |  Methods defined here:\n",
      " |  \n",
      " |  __init__(self, first, last, salary, developers=None)\n",
      " |      Initialize self.  See help(type(self)) for accurate signature.\n",
      " |  \n",
      " |  add_emp(self, emp)\n",
      " |  \n",
      " |  print_emps(self)\n",
      " |  \n",
      " |  remove_emp(self, emp)\n",
      " |  \n",
      " |  ----------------------------------------------------------------------\n",
      " |  Methods inherited from Employee:\n",
      " |  \n",
      " |  apply_raise(self)\n",
      " |  \n",
      " |  full_name_parser(self)\n",
      " |  \n",
      " |  ----------------------------------------------------------------------\n",
      " |  Data descriptors inherited from Employee:\n",
      " |  \n",
      " |  __dict__\n",
      " |      dictionary for instance variables (if defined)\n",
      " |  \n",
      " |  __weakref__\n",
      " |      list of weak references to the object (if defined)\n",
      " |  \n",
      " |  ----------------------------------------------------------------------\n",
      " |  Data and other attributes inherited from Employee:\n",
      " |  \n",
      " |  raise_amt = 1.05\n",
      "\n",
      "None\n"
     ]
    }
   ],
   "source": [
    "print(help(Manager))"
   ]
  },
  {
   "cell_type": "markdown",
   "metadata": {},
   "source": [
    "## 7. isinstace()\n",
    "\n",
    "isinstance() tells us if an object is an instance of a class. Check if manager_1 is an instance of Manager, then check if dev_1 is an instance of Manager\n"
   ]
  },
  {
   "cell_type": "code",
   "execution_count": 45,
   "metadata": {},
   "outputs": [
    {
     "name": "stdout",
     "output_type": "stream",
     "text": [
      "True\n",
      "False\n"
     ]
    }
   ],
   "source": [
    "print(isinstance(manager_1, Manager))\n",
    "print(isinstance(dev_1, Manager))"
   ]
  },
  {
   "cell_type": "markdown",
   "metadata": {},
   "source": [
    "## 8. issubclass()\n",
    "\n",
    "issubclass() tells us if an object is a subclass of a class. Check if Manager is an subclass of Developer, then check if Manager is a subclass of Employee"
   ]
  },
  {
   "cell_type": "code",
   "execution_count": 46,
   "metadata": {},
   "outputs": [
    {
     "name": "stdout",
     "output_type": "stream",
     "text": [
      "False\n",
      "True\n"
     ]
    }
   ],
   "source": [
    "print(issubclass(Manager, Developer))\n",
    "print(issubclass(Manager, Employee))"
   ]
  },
  {
   "cell_type": "code",
   "execution_count": null,
   "metadata": {},
   "outputs": [],
   "source": []
  }
 ],
 "metadata": {
  "kernelspec": {
   "display_name": "data-science-katas",
   "language": "python",
   "name": "ds-katas"
  },
  "language_info": {
   "codemirror_mode": {
    "name": "ipython",
    "version": 3
   },
   "file_extension": ".py",
   "mimetype": "text/x-python",
   "name": "python",
   "nbconvert_exporter": "python",
   "pygments_lexer": "ipython3",
   "version": "3.10.12"
  }
 },
 "nbformat": 4,
 "nbformat_minor": 2
}
