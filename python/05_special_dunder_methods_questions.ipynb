{
 "cells": [
  {
   "cell_type": "markdown",
   "metadata": {},
   "source": [
    "## 1. `__repr__()` method:\n",
    "it's an unambiguous representation of the object and should be used for debugging, logging, etc. \n",
    "\n",
    "Write an Employee class with:\n",
    "- class variable raise_amt = 1.05\n",
    "- constructor with first, last, email and salary variables, email is created as first.last@example.com\n",
    "- full_name method that returns the full name\n",
    "- apply_raise method that applies the raise_amount to the current salary\n",
    "\n",
    "\n",
    "Instantiate the Employee class twice under the names \"emp_1\" and \"emp_2\" \n",
    "\n",
    "Print . What happens?"
   ]
  },
  {
   "cell_type": "code",
   "execution_count": null,
   "metadata": {},
   "outputs": [],
   "source": []
  },
  {
   "cell_type": "markdown",
   "metadata": {},
   "source": [
    "## 2. add  `__repr__()` method that returns a string that we can use to recreate the object\n",
    "\n",
    "Instantiate the Employee class twice under the names \"emp_1\" and \"emp_2\" \n",
    "\n",
    "Print emp_1. What happens?"
   ]
  },
  {
   "cell_type": "code",
   "execution_count": null,
   "metadata": {},
   "outputs": [],
   "source": []
  },
  {
   "cell_type": "markdown",
   "metadata": {},
   "source": [
    "## 3. `__str__()` method:\n",
    "\n",
    "it's very similar to __repr__() but it's meant to be a readable representation of an object and is used as a display to the end user in a pretty way.\n",
    "\n",
    "Rewrite the Employee class as in the last question and add __str__ method "
   ]
  },
  {
   "cell_type": "code",
   "execution_count": null,
   "metadata": {},
   "outputs": [],
   "source": []
  },
  {
   "cell_type": "markdown",
   "metadata": {},
   "source": [
    "## 4. `__add__()` method:\n",
    "\n",
    "This method is used to define how the operator \"+\" behaves when we use it with our own objects (Vector + Vector, Employee + Employee, Polynomy + Polynomy, etc.)\n",
    "\n",
    "There are other operators that we can define like:\n",
    "\n",
    "__sub__ → -\n",
    "\n",
    "__mul__ → *\n",
    "\n",
    "__eq__ → ==\n",
    "\n",
    "__lt__ → <\n",
    "\n",
    "\n",
    "First paste the class from the last question and try to execute print(emp_1 + emp_2), what happens?\n",
    "\n",
    "Create an __add__() method that adds the two salaries when we sum two employees, what happens?\n",
    "\n"
   ]
  },
  {
   "cell_type": "code",
   "execution_count": null,
   "metadata": {},
   "outputs": [],
   "source": []
  },
  {
   "cell_type": "markdown",
   "metadata": {},
   "source": []
  },
  {
   "cell_type": "markdown",
   "metadata": {},
   "source": [
    "## 5. `__len__()` method:\n",
    "\n",
    "This method defines what is the length of an bject when we use the function len() on it"
   ]
  },
  {
   "cell_type": "code",
   "execution_count": null,
   "metadata": {},
   "outputs": [],
   "source": []
  }
 ],
 "metadata": {
  "kernelspec": {
   "display_name": "data-science-katas",
   "language": "python",
   "name": "ds-katas"
  },
  "language_info": {
   "codemirror_mode": {
    "name": "ipython",
    "version": 3
   },
   "file_extension": ".py",
   "mimetype": "text/x-python",
   "name": "python",
   "nbconvert_exporter": "python",
   "pygments_lexer": "ipython3",
   "version": "3.10.12"
  }
 },
 "nbformat": 4,
 "nbformat_minor": 2
}
