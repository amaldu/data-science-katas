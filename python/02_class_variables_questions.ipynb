{
 "cells": [
  {
   "cell_type": "markdown",
   "metadata": {},
   "source": [
    "## 1. Create a class named Employee with:\n",
    "\n",
    "- constructor containing the following attributes:\n",
    "- first (name)\n",
    "- last (name)\n",
    "- email (should be automatically generated from the first and last name)\n",
    "- salary\n",
    "\n",
    " Create a method named full_name that returns the full name of the employee and instantiate the class under the names emp_1 and emp_2"
   ]
  },
  {
   "cell_type": "code",
   "execution_count": null,
   "metadata": {},
   "outputs": [],
   "source": []
  },
  {
   "cell_type": "markdown",
   "metadata": {},
   "source": [
    "## 2. The company creates annual raises of the 8% so create:\n",
    "- a method named apply_raise that multiplies the current salary and the annual raise (a number) and returns the salary updated\n",
    "- print the past salary\n",
    "- print the salary with the applied raise \n",
    "\n",
    "for both emp_1 and emp_2"
   ]
  },
  {
   "cell_type": "code",
   "execution_count": null,
   "metadata": {},
   "outputs": [],
   "source": []
  },
  {
   "cell_type": "markdown",
   "metadata": {},
   "source": [
    "## 3. Rewrite the class to:\n",
    "- use a class variable called raise_amount instead of a value\n",
    "- print the past salary\n",
    "- print the salary with the applied raise \n",
    "- print the raise amount\n",
    "\n",
    " for both emp_1 and emp_2\n",
    "\n",
    " - print the Employee class raise amount\n"
   ]
  },
  {
   "cell_type": "code",
   "execution_count": null,
   "metadata": {},
   "outputs": [],
   "source": []
  },
  {
   "cell_type": "markdown",
   "metadata": {},
   "source": [
    "## 4. How come raise amounts for emp_1 and emp_2 are shown if raise_amount is outside the constructor of the class?\n",
    "\n",
    "Stop for a second and try to answer this question inside your mind, if you need a hint do the following:\n",
    "- print the Employee dict\n",
    "- print the emp_1 dict"
   ]
  },
  {
   "cell_type": "code",
   "execution_count": null,
   "metadata": {},
   "outputs": [],
   "source": []
  },
  {
   "cell_type": "code",
   "execution_count": null,
   "metadata": {},
   "outputs": [],
   "source": []
  },
  {
   "cell_type": "markdown",
   "metadata": {},
   "source": [
    "When we access this attribute, the instance first checks if it has the attribute itself. If it doesn't, it looks for it within the class."
   ]
  },
  {
   "cell_type": "markdown",
   "metadata": {},
   "source": [
    "## 5. Modify the raise_amount ONLY for the emp_1 to the 5% and print:\n",
    "- emp_1 raise amount\n",
    "- emp_2 raise amount\n",
    "- Employee raise amount"
   ]
  },
  {
   "cell_type": "code",
   "execution_count": null,
   "metadata": {},
   "outputs": [],
   "source": []
  },
  {
   "cell_type": "code",
   "execution_count": null,
   "metadata": {},
   "outputs": [],
   "source": []
  },
  {
   "cell_type": "markdown",
   "metadata": {},
   "source": [
    "## 7. Apply section 4 again "
   ]
  },
  {
   "cell_type": "code",
   "execution_count": null,
   "metadata": {},
   "outputs": [],
   "source": []
  },
  {
   "cell_type": "code",
   "execution_count": null,
   "metadata": {},
   "outputs": [],
   "source": []
  },
  {
   "cell_type": "markdown",
   "metadata": {},
   "source": [
    "We can change the value of the attributes independently on each instance"
   ]
  },
  {
   "cell_type": "markdown",
   "metadata": {},
   "source": [
    "## 8. Rewrite the class to add a class variable called num_of_employees. This variable has to increase every time we create a new employee instance. Instance it under emp_1 and emp_2\n",
    "\n"
   ]
  },
  {
   "cell_type": "code",
   "execution_count": null,
   "metadata": {},
   "outputs": [],
   "source": []
  },
  {
   "cell_type": "markdown",
   "metadata": {},
   "source": [
    "## 9. Print the num of employees from the class (the current number of employees created so far)"
   ]
  },
  {
   "cell_type": "code",
   "execution_count": null,
   "metadata": {},
   "outputs": [],
   "source": []
  },
  {
   "cell_type": "code",
   "execution_count": null,
   "metadata": {},
   "outputs": [],
   "source": []
  }
 ],
 "metadata": {
  "kernelspec": {
   "display_name": "data-science-katas",
   "language": "python",
   "name": "ds-katas"
  },
  "language_info": {
   "codemirror_mode": {
    "name": "ipython",
    "version": 3
   },
   "file_extension": ".py",
   "mimetype": "text/x-python",
   "name": "python",
   "nbconvert_exporter": "python",
   "pygments_lexer": "ipython3",
   "version": "3.10.12"
  }
 },
 "nbformat": 4,
 "nbformat_minor": 2
}
