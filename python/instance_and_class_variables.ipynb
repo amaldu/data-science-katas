{
 "cells": [
  {
   "cell_type": "markdown",
   "metadata": {},
   "source": [
    "# 1. Create an empty class called employee"
   ]
  },
  {
   "cell_type": "code",
   "execution_count": 42,
   "metadata": {},
   "outputs": [],
   "source": [
    "class Employee:\n",
    "    pass"
   ]
  },
  {
   "cell_type": "markdown",
   "metadata": {},
   "source": [
    "# 2. Instantiate the class two times and assign them to the variables \"emp_1\" and \"emp_2\""
   ]
  },
  {
   "cell_type": "code",
   "execution_count": 43,
   "metadata": {},
   "outputs": [],
   "source": [
    "emp_1 = Employee()\n",
    "emp_2 = Employee()"
   ]
  },
  {
   "cell_type": "markdown",
   "metadata": {},
   "source": [
    "# 3. Print the emp_1, what is it?"
   ]
  },
  {
   "cell_type": "code",
   "execution_count": 44,
   "metadata": {},
   "outputs": [
    {
     "name": "stdout",
     "output_type": "stream",
     "text": [
      "<__main__.Employee object at 0x7c3fd57e9750>\n"
     ]
    }
   ],
   "source": [
    "print(emp_1)"
   ]
  },
  {
   "cell_type": "markdown",
   "metadata": {},
   "source": [
    "emp_1 is an Employee object"
   ]
  },
  {
   "cell_type": "markdown",
   "metadata": {},
   "source": [
    "# 4. Manually assign emp_1 and emp_2 a name, a last name, an e-mail and a salary"
   ]
  },
  {
   "cell_type": "code",
   "execution_count": 45,
   "metadata": {},
   "outputs": [],
   "source": [
    "emp_1.first = \"Martin\"\n",
    "emp_1.last = \"Smith\"\n",
    "emp_1.email = \"martin.smith@example.com\"\n",
    "emp_1.salary = 50000\n",
    "\n",
    "\n",
    "emp_2.first = \"Maria\"\n",
    "emp_2.last = \"Johnson\"\n",
    "emp_2.email = \"maria.johnson@example.com\"\n",
    "emp_2.salary = 60000"
   ]
  },
  {
   "cell_type": "markdown",
   "metadata": {},
   "source": [
    "# 5. Print the emp_1 email and the emp_2 salary"
   ]
  },
  {
   "cell_type": "code",
   "execution_count": 46,
   "metadata": {},
   "outputs": [
    {
     "name": "stdout",
     "output_type": "stream",
     "text": [
      "martin.smith@example.com\n",
      "60000\n"
     ]
    }
   ],
   "source": [
    "print(emp_1.email)\n",
    "print(emp_2.salary)"
   ]
  },
  {
   "cell_type": "markdown",
   "metadata": {},
   "source": [
    "Having to add the information about each employee every time does not make much sense, right? Now set it automatically.\n",
    "\n",
    "# 6. From now on, overwrite the class Employee with the instructions provided. This time create the init method and initialize the employee characteristics (attibutes). Create email based on first and last. "
   ]
  },
  {
   "cell_type": "code",
   "execution_count": 48,
   "metadata": {},
   "outputs": [],
   "source": [
    "class Employee:\n",
    "    def __init__(self, first, last, salary): # the email can be extracted from the first and last fields\n",
    "        self.first = first\n",
    "        self.last = last\n",
    "        self.email = f\"{first.lower()}.{last.lower()}@example.com\"\n",
    "        self.salary = salary\n",
    "        "
   ]
  },
  {
   "cell_type": "markdown",
   "metadata": {},
   "source": [
    "# 7. Instantiate the class under the names of emp_1 and emp_2 again but this time and the names, last names, emails and salaries you created manually for each employee in the question 4"
   ]
  },
  {
   "cell_type": "code",
   "execution_count": 32,
   "metadata": {},
   "outputs": [],
   "source": [
    "emp_1 = Employee(\"Martin\", \"Schmidt\", 50000)\n",
    "emp_2 = Employee(\"Maria\", \"Johnson\", 60000)\n"
   ]
  },
  {
   "cell_type": "markdown",
   "metadata": {},
   "source": [
    "# 8. Print the full name of the emp_1"
   ]
  },
  {
   "cell_type": "code",
   "execution_count": 33,
   "metadata": {},
   "outputs": [
    {
     "name": "stdout",
     "output_type": "stream",
     "text": [
      "Martin Schmidt\n"
     ]
    }
   ],
   "source": [
    "print(\"{} {}\".format(emp_1.first, emp_1.last))"
   ]
  },
  {
   "cell_type": "markdown",
   "metadata": {},
   "source": [
    "# 9. Create a method called full_name inside the Employee class"
   ]
  },
  {
   "cell_type": "code",
   "execution_count": 36,
   "metadata": {},
   "outputs": [],
   "source": [
    "class Employee:\n",
    "    def __init__(self, first, last, salary): # the email can be extracted from the first and last fields\n",
    "        self.first = first\n",
    "        self.last = last\n",
    "        self.email = f\"{first.lower()}.{last.lower()}@example.com\"\n",
    "        self.salary = salary\n",
    "        \n",
    "    def full_name(self):\n",
    "        return \"{} {}\".format(self.first, self.last)\n",
    "        \n",
    "emp_1 = Employee(\"Martin\", \"Schmidt\", 50000)"
   ]
  },
  {
   "cell_type": "markdown",
   "metadata": {},
   "source": [
    "# 10. Print the full name of the emp_1 using the instance "
   ]
  },
  {
   "cell_type": "code",
   "execution_count": 38,
   "metadata": {},
   "outputs": [
    {
     "name": "stdout",
     "output_type": "stream",
     "text": [
      "Martin Schmidt\n"
     ]
    }
   ],
   "source": [
    "print(emp_1.full_name())"
   ]
  },
  {
   "cell_type": "markdown",
   "metadata": {},
   "source": [
    "# 11. Print the full name of the emp_1 using the class name itself"
   ]
  },
  {
   "cell_type": "code",
   "execution_count": 40,
   "metadata": {},
   "outputs": [
    {
     "data": {
      "text/plain": [
       "'Martin Schmidt'"
      ]
     },
     "execution_count": 40,
     "metadata": {},
     "output_type": "execute_result"
    }
   ],
   "source": [
    "Employee.full_name(emp_1)"
   ]
  },
  {
   "cell_type": "code",
   "execution_count": null,
   "metadata": {},
   "outputs": [],
   "source": []
  }
 ],
 "metadata": {
  "kernelspec": {
   "display_name": "pandas_exercises-AUeGjsKc",
   "language": "python",
   "name": "python3"
  },
  "language_info": {
   "codemirror_mode": {
    "name": "ipython",
    "version": 3
   },
   "file_extension": ".py",
   "mimetype": "text/x-python",
   "name": "python",
   "nbconvert_exporter": "python",
   "pygments_lexer": "ipython3",
   "version": "3.10.12"
  }
 },
 "nbformat": 4,
 "nbformat_minor": 2
}
