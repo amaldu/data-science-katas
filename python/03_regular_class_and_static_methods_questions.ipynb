{
 "cells": [
  {
   "cell_type": "markdown",
   "metadata": {},
   "source": [
    "## 1. Create a class Employee with:\n",
    "- 2 class variables: num_of_emps = 0, raise_amt = 1.08. The variable num_of_emps has to increase by 1 every time the class is instantiated\n",
    "- constructor with the attributes: first, last, email, salary. email is created as first.last@emaple.com.\n",
    "- method called full_name that returns first and last name separated by a space\n",
    "- method called apply_raise that returns the updated salary as the product of the salary by the raise_amt\n",
    "\n",
    "Instantiate every required class under emp_1 and emp_2 in each step from now on\n"
   ]
  },
  {
   "cell_type": "code",
   "execution_count": null,
   "metadata": {},
   "outputs": [],
   "source": []
  },
  {
   "cell_type": "markdown",
   "metadata": {},
   "source": [
    "The methods we have seen so far are called \"regular methods\". Regular methods in a class automatically take the instance as the first argument and by convention we were calling this (self). Class methods take the class as the first argument and work with the whole class.\n",
    "\n",
    "## 2. Rewrite the class by adding an empty class method inside called set_raised_amt, as attributes add the class itself and \"amount\". "
   ]
  },
  {
   "cell_type": "code",
   "execution_count": null,
   "metadata": {},
   "outputs": [],
   "source": []
  },
  {
   "cell_type": "markdown",
   "metadata": {},
   "source": [
    "## 3. Fill the class method \"set_raised_amt\" with code to modify the class variable named \"raise_amt\" set at the begining. Print:\n",
    "- class raise_amt\n",
    "- emp_1 raise_amt\n",
    "- emp_2 raise_amt\n",
    "\n",
    "Then use the class method to modify raise_amt value to an increase of 12% and print:\n",
    "\n",
    "- class raise_amt\n",
    "- emp_1 raise_amt\n",
    "- emp_2 raise_amt\n",
    "\n"
   ]
  },
  {
   "cell_type": "code",
   "execution_count": null,
   "metadata": {},
   "outputs": [],
   "source": []
  },
  {
   "cell_type": "markdown",
   "metadata": {},
   "source": [
    "## 4. Class method as alternative constructions use case: \n",
    "\n",
    "The data we are receiving in the company has chaged and not it comes in string format separated by hyphens:\n",
    "\n",
    "* emp_str_1 = \"John-Doe-60000\"\n",
    "* emp_str_2 = \"Jane-Smith-50000\"\n",
    "* emp_str_3 = \"Mathilda-Brucks-90000\"\n",
    "\n",
    "We don't want to parse them every time before using our class. Create a class method that manages this new format and creates new employees.\n",
    "\n",
    "Create the three new employees and print:\n",
    "- emp_4 full name\n",
    "- emp_5 email\n",
    "- emp_6 salary"
   ]
  },
  {
   "cell_type": "code",
   "execution_count": null,
   "metadata": {},
   "outputs": [],
   "source": []
  },
  {
   "cell_type": "markdown",
   "metadata": {},
   "source": [
    "Static methods don't pass the instance nor the class in the attributes. The behave like regular functions but we include them inside of our classes because they have some logical connection with the class.\n",
    "\n",
    "## 5.Create a simple function inide the class that would take in a date and return whether or not that was a work day.\n",
    "\n",
    "This function has a logical connection to Employee but it does not depend on any instance or class variable, that's why they are called static method "
   ]
  },
  {
   "cell_type": "code",
   "execution_count": null,
   "metadata": {},
   "outputs": [],
   "source": []
  }
 ],
 "metadata": {
  "kernelspec": {
   "display_name": "data-science-katas",
   "language": "python",
   "name": "ds-katas"
  },
  "language_info": {
   "codemirror_mode": {
    "name": "ipython",
    "version": 3
   },
   "file_extension": ".py",
   "mimetype": "text/x-python",
   "name": "python",
   "nbconvert_exporter": "python",
   "pygments_lexer": "ipython3",
   "version": "3.10.12"
  }
 },
 "nbformat": 4,
 "nbformat_minor": 2
}
