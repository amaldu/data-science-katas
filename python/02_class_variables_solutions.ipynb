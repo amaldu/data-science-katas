{
 "cells": [
  {
   "cell_type": "markdown",
   "metadata": {},
   "source": [
    "## 1. Create a class named Employee with:\n",
    "\n",
    "- constructor containing the following attributes:\n",
    "- first (name)\n",
    "- last (name)\n",
    "- email (should be automatically generated from the first and last name)\n",
    "- salary\n",
    "\n",
    " Create a method named full_name that returns the full name of the employee and instantiate the class under the names emp_1 and emp_2"
   ]
  },
  {
   "cell_type": "code",
   "execution_count": 13,
   "metadata": {},
   "outputs": [],
   "source": [
    "class Employee:\n",
    "    def __init__(self, first, last, salary):\n",
    "        self.first = first\n",
    "        self.last = last\n",
    "        self.email = f\"{first.lower()}.{last.lower()}@example.com\"\n",
    "        self.salary = salary\n",
    "        \n",
    "    def full_name(self):\n",
    "        return f\"{self.first} {self.last}\"\n",
    "    \n",
    "    \n",
    "emp_1 = Employee(\"Martin\", \"Schmidt\", 50000)\n",
    "emp_2 = Employee(\"Maria\", \"Johnson\", 60000)"
   ]
  },
  {
   "cell_type": "markdown",
   "metadata": {},
   "source": [
    "## 2. The company creates annual raises of the 8% so create:\n",
    "- a method named apply_raise that multiplies the current salary and the annual raise (a number) and returns the salary updated\n",
    "- print the past salary\n",
    "- print the salary with the applied raise \n",
    "\n",
    "for both emp_1 and emp_2"
   ]
  },
  {
   "cell_type": "code",
   "execution_count": 14,
   "metadata": {},
   "outputs": [
    {
     "name": "stdout",
     "output_type": "stream",
     "text": [
      " The past salary of emp_1 is: 50000\n",
      " The salary with raise for emp_1 is: 54000\n",
      " The past salary of emp_2 is: 60000\n",
      " The salary with raise for emp_2 is: 64800\n"
     ]
    }
   ],
   "source": [
    "class Employee:\n",
    "    def __init__(self, first, last, salary):\n",
    "        self.first = first\n",
    "        self.last = last\n",
    "        self.email = f\"{first.lower()}.{last.lower()}@example.com\"\n",
    "        self.salary = salary\n",
    "        \n",
    "    def full_name(self):\n",
    "        return f\"{self.first} {self.last}\"\n",
    "    \n",
    "    def apply_raise(self):\n",
    "        self.salary = int(self.salary * 1.08)\n",
    "        return self.salary\n",
    "\n",
    "emp_1 = Employee(\"Martin\", \"Schmidt\", 50000)\n",
    "emp_2 = Employee(\"Maria\", \"Johnson\", 60000)\n",
    "\n",
    "print(f\" The past salary of emp_1 is: {emp_1.salary}\")\n",
    "print(f\" The salary with raise for emp_1 is: {emp_1.apply_raise()}\")\n",
    "print(f\" The past salary of emp_2 is: {emp_2.salary}\")\n",
    "print(f\" The salary with raise for emp_2 is: {emp_2.apply_raise()}\")\n",
    "        "
   ]
  },
  {
   "cell_type": "markdown",
   "metadata": {},
   "source": [
    "## 3. Rewrite the class to:\n",
    "- use a class variable called raise_amount instead of a value\n",
    "- print the past salary\n",
    "- print the salary with the applied raise \n",
    "- print the raise amount\n",
    "\n",
    " for both emp_1 and emp_2\n",
    "\n",
    " - print the Employee class raise amount\n"
   ]
  },
  {
   "cell_type": "code",
   "execution_count": 15,
   "metadata": {},
   "outputs": [
    {
     "name": "stdout",
     "output_type": "stream",
     "text": [
      " The current salary of emp_1 is: 50000\n",
      " The salary with raise for emp_1 is: 54000\n",
      " The raise amount for emp_1 is: 1.08\n",
      "\n",
      "\n",
      " The current salary of emp_2 is: 60000\n",
      " The salary with raise for emp_2 is: 64800\n",
      " The raise amount for emp_2 is: 1.08\n",
      "\n",
      "\n",
      " The Employee class raise amount is: 1.08\n"
     ]
    }
   ],
   "source": [
    "class Employee:\n",
    "    raise_amount = 1.08\n",
    "    def __init__(self, first, last, salary):\n",
    "        self.first = first\n",
    "        self.last = last\n",
    "        self.email = f\"{first.lower()}.{last.lower()}@example.com\"\n",
    "        self.salary = salary\n",
    "        \n",
    "    def full_name(self):\n",
    "        return f\"{self.first} {self.last}\"\n",
    "    \n",
    "    def apply_raise(self):\n",
    "        self.salary = int(self.salary * self.raise_amount)\n",
    "        return self.salary\n",
    "\n",
    "emp_1 = Employee(\"Martin\", \"Schmidt\", 50000)\n",
    "emp_2 = Employee(\"Maria\", \"Johnson\", 60000)\n",
    "\n",
    "print(f\" The current salary of emp_1 is: {emp_1.salary}\")\n",
    "print(f\" The salary with raise for emp_1 is: {emp_1.apply_raise()}\")\n",
    "print(f\" The raise amount for emp_1 is: {emp_1.raise_amount}\")\n",
    "print(\"\\n\")\n",
    "print(f\" The current salary of emp_2 is: {emp_2.salary}\")\n",
    "print(f\" The salary with raise for emp_2 is: {emp_2.apply_raise()}\")\n",
    "print(f\" The raise amount for emp_2 is: {emp_2.raise_amount}\")\n",
    "print(\"\\n\")\n",
    "print(f\" The Employee class raise amount is: {Employee.raise_amount}\")"
   ]
  },
  {
   "cell_type": "markdown",
   "metadata": {},
   "source": [
    "## 4. How come raise amounts for emp_1 and emp_2 are shown if raise_amount is outside the constructor of the class?\n",
    "\n",
    "Stop for a second and try to answer this question inside your mind, if you need a hint do the following:\n",
    "- print the Employee dict\n",
    "- print the emp_1 dict"
   ]
  },
  {
   "cell_type": "code",
   "execution_count": 16,
   "metadata": {},
   "outputs": [
    {
     "name": "stdout",
     "output_type": "stream",
     "text": [
      "{'first': 'Martin', 'last': 'Schmidt', 'email': 'martin.schmidt@example.com', 'salary': 54000}\n"
     ]
    }
   ],
   "source": [
    "print(emp_1.__dict__)"
   ]
  },
  {
   "cell_type": "code",
   "execution_count": 17,
   "metadata": {},
   "outputs": [
    {
     "name": "stdout",
     "output_type": "stream",
     "text": [
      "{'__module__': '__main__', 'raise_amount': 1.08, '__init__': <function Employee.__init__ at 0x7d5221397130>, 'full_name': <function Employee.full_name at 0x7d5220854820>, 'apply_raise': <function Employee.apply_raise at 0x7d5220854280>, '__dict__': <attribute '__dict__' of 'Employee' objects>, '__weakref__': <attribute '__weakref__' of 'Employee' objects>, '__doc__': None}\n"
     ]
    }
   ],
   "source": [
    "print(Employee.__dict__)"
   ]
  },
  {
   "cell_type": "markdown",
   "metadata": {},
   "source": [
    "When we access this attribute, the instance first checks if it has the attribute itself. If it doesn't, it looks for it within the class."
   ]
  },
  {
   "cell_type": "markdown",
   "metadata": {},
   "source": [
    "## 5. Modify the raise_amount ONLY for the emp_1 to the 5% and print:\n",
    "- emp_1 raise amount\n",
    "- emp_2 raise amount\n",
    "- Employee raise amount"
   ]
  },
  {
   "cell_type": "code",
   "execution_count": 18,
   "metadata": {},
   "outputs": [],
   "source": [
    "emp_1.raise_amount = 1.05"
   ]
  },
  {
   "cell_type": "code",
   "execution_count": 19,
   "metadata": {},
   "outputs": [
    {
     "name": "stdout",
     "output_type": "stream",
     "text": [
      " The raise amount for emp_1 is: 1.05\n",
      " The raise amount for emp_2 is: 1.08\n",
      " The Employee class raise amount is: 1.08\n"
     ]
    }
   ],
   "source": [
    "print(f\" The raise amount for emp_1 is: {emp_1.raise_amount}\")\n",
    "print(f\" The raise amount for emp_2 is: {emp_2.raise_amount}\")\n",
    "\n",
    "print(f\" The Employee class raise amount is: {Employee.raise_amount}\")"
   ]
  },
  {
   "cell_type": "markdown",
   "metadata": {},
   "source": [
    "## 7. Apply section 4 again "
   ]
  },
  {
   "cell_type": "code",
   "execution_count": 20,
   "metadata": {},
   "outputs": [
    {
     "name": "stdout",
     "output_type": "stream",
     "text": [
      "{'first': 'Martin', 'last': 'Schmidt', 'email': 'martin.schmidt@example.com', 'salary': 54000, 'raise_amount': 1.05}\n"
     ]
    }
   ],
   "source": [
    "print(emp_1.__dict__)"
   ]
  },
  {
   "cell_type": "code",
   "execution_count": 21,
   "metadata": {},
   "outputs": [
    {
     "name": "stdout",
     "output_type": "stream",
     "text": [
      "{'__module__': '__main__', 'raise_amount': 1.08, '__init__': <function Employee.__init__ at 0x7d5221397130>, 'full_name': <function Employee.full_name at 0x7d5220854820>, 'apply_raise': <function Employee.apply_raise at 0x7d5220854280>, '__dict__': <attribute '__dict__' of 'Employee' objects>, '__weakref__': <attribute '__weakref__' of 'Employee' objects>, '__doc__': None}\n"
     ]
    }
   ],
   "source": [
    "print(Employee.__dict__)"
   ]
  },
  {
   "cell_type": "markdown",
   "metadata": {},
   "source": [
    "We can change the value of the attributes independently on each instance"
   ]
  },
  {
   "cell_type": "markdown",
   "metadata": {},
   "source": [
    "## 8. Rewrite the class to add a class variable called num_of_employees. This variable has to increase every time we create a new employee instance. Instance it under emp_1 and emp_2\n",
    "\n"
   ]
  },
  {
   "cell_type": "code",
   "execution_count": 22,
   "metadata": {},
   "outputs": [],
   "source": [
    "class Employee:\n",
    "    raise_amount = 1.08\n",
    "    num_of_employees = 0\n",
    "    # the num_of_employee is used by every instance since it's defined inside of the class and should be the same for all classes\n",
    "    def __init__(self, first, last, salary):\n",
    "        self.first = first\n",
    "        self.last = last\n",
    "        self.email = f\"{first.lower()}.{last.lower()}@example.com\"\n",
    "        self.salary = salary\n",
    "        \n",
    "        Employee.num_of_employees += 1\n",
    "        # every time I create an employee, I'll increase the num_of_employees by 1. \n",
    "    def full_name(self):\n",
    "        return f\"{self.first} {self.last}\"\n",
    "    \n",
    "    def apply_raise(self):\n",
    "        self.salary = int(self.salary * self.raise_amount)\n",
    "        return self.salary\n",
    "\n",
    "emp_1 = Employee(\"Martin\", \"Schmidt\", 50000)\n",
    "emp_2 = Employee(\"Maria\", \"Johnson\", 60000)"
   ]
  },
  {
   "cell_type": "markdown",
   "metadata": {},
   "source": [
    "## 9. Print the num of employees from the class (the current number of employees created so far)"
   ]
  },
  {
   "cell_type": "code",
   "execution_count": 25,
   "metadata": {},
   "outputs": [
    {
     "name": "stdout",
     "output_type": "stream",
     "text": [
      " The number of employees of the class is: 2\n"
     ]
    }
   ],
   "source": [
    "print(f\" The number of employees of the class is: {Employee.num_of_employees}\")"
   ]
  },
  {
   "cell_type": "code",
   "execution_count": null,
   "metadata": {},
   "outputs": [],
   "source": []
  }
 ],
 "metadata": {
  "kernelspec": {
   "display_name": "data-science-katas",
   "language": "python",
   "name": "ds-katas"
  },
  "language_info": {
   "codemirror_mode": {
    "name": "ipython",
    "version": 3
   },
   "file_extension": ".py",
   "mimetype": "text/x-python",
   "name": "python",
   "nbconvert_exporter": "python",
   "pygments_lexer": "ipython3",
   "version": "3.10.12"
  }
 },
 "nbformat": 4,
 "nbformat_minor": 2
}
