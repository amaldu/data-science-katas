{
 "cells": [
  {
   "cell_type": "markdown",
   "id": "a045ac60",
   "metadata": {},
   "source": [
    "### What is a database view? What are some advantages views have over tables?"
   ]
  },
  {
   "cell_type": "markdown",
   "id": "9706c1ed",
   "metadata": {},
   "source": [
    "A view is essentially a virtual table that is defined by a SQL query. It doesn’t store data itself but presents results from underlying tables as if it were a table. Views are great because they simplify complex queries for users, provide a layer of security by exposing only certain columns or rows, and help maintain consistent business logic across the application. They can also act as a reusable abstraction over the schema, making it easier to work with."
   ]
  },
  {
   "cell_type": "markdown",
   "id": "95bf3ba8",
   "metadata": {},
   "source": [
    "### Say you have a database system where most of the queries made were UPDATEs/ INSERTs/DELETEs. How would this affect your decision to create indices? What if the queries made were mostly SELECTs and JOINs instead?"
   ]
  },
  {
   "cell_type": "markdown",
   "id": "afebad59",
   "metadata": {},
   "source": [
    "If most of my queries are writes—like INSERT, UPDATE, or DELETE—I would be careful about creating many indexes because indexes slow down write operations. I would only create essential indexes, like on primary or foreign keys.\n",
    "\n",
    "On the other hand, if the workload is mostly SELECTs or JOINs, I would create more indexes because they significantly speed up read queries. The overhead of maintaining indexes is worth it in read-heavy scenarios."
   ]
  },
  {
   "cell_type": "markdown",
   "id": "d9598911",
   "metadata": {},
   "source": [
    "### What is a primary key? What characteristics does a good primary key have?"
   ]
  },
  {
   "cell_type": "markdown",
   "id": "2d5d6113",
   "metadata": {},
   "source": [
    "A primary key is a column, or a set of columns, that uniquely identifies each row in a table. Every table can have only one primary key. A good primary key is unique, non-null, stable, minimal, and ideally small. Stability is important because changing primary key values can break relationships or indexes. Keeping it simple and small also helps with performance, especially when used in joins."
   ]
  },
  {
   "cell_type": "markdown",
   "id": "09234262",
   "metadata": {},
   "source": [
    "### Advantages and disadvantages of relational databases vs. NoSQL"
   ]
  },
  {
   "cell_type": "markdown",
   "id": "a9f5733e",
   "metadata": {},
   "source": [
    "At a high level, to implement a shuffle operator with MapReduce:\n",
    "\n",
    "Map phase: Assign each record a random key.\n",
    "\n",
    "Shuffle phase: The framework automatically groups records by key, effectively distributing them across reducers.\n",
    "\n",
    "Reduce phase: Ignore the key and output records as they arrive. Because the keys were random, the output dataset is randomly ordered."
   ]
  },
  {
   "cell_type": "markdown",
   "id": "8f04c2eb",
   "metadata": {},
   "source": [
    "### Similarity and difference between WHERE and HAVING"
   ]
  },
  {
   "cell_type": "markdown",
   "id": "205e8657",
   "metadata": {},
   "source": [
    "Similarity: Both filter rows based on a condition.\n",
    "\n",
    "Difference: WHERE filters rows before aggregation, while HAVING filters groups after aggregation. So if you want to filter on a SUM, AVG, COUNT, you use HAVING; for raw rows, use WHERE."
   ]
  },
  {
   "cell_type": "markdown",
   "id": "cb242074",
   "metadata": {},
   "source": [
    "### Foreign key and its relation to primary key"
   ]
  },
  {
   "cell_type": "markdown",
   "id": "4c82c8ce",
   "metadata": {},
   "source": [
    "A foreign key is a column (or set of columns) in one table that references the primary key in another table. It enforces referential integrity, ensuring that values in the foreign key column match existing primary key values in the referenced table. Essentially, it links tables together."
   ]
  },
  {
   "cell_type": "markdown",
   "id": "e1522599",
   "metadata": {},
   "source": [
    "### Clustered index vs. non-clustered index"
   ]
  },
  {
   "cell_type": "markdown",
   "id": "4137f712",
   "metadata": {},
   "source": [
    "A clustered index determines the physical order of data in a table. There can be only one clustered index per table, usually on the primary key.\n",
    "\n",
    "A non-clustered index is a separate structure that contains pointers to the table rows; it doesn’t affect physical order. You can have multiple non-clustered indexes per table.\n",
    "\n",
    "In short: clustered = data sorted on disk, non-clustered = separate lookup structure for faster queries."
   ]
  },
  {
   "cell_type": "markdown",
   "id": "2654db49",
   "metadata": {},
   "source": [
    "### Say you had the entire Facebook social graph (users and their friendships). How would you use MapReduce to find the number of mutual friends for every pair of Facebook users?"
   ]
  },
  {
   "cell_type": "markdown",
   "id": "e4b550ce",
   "metadata": {},
   "source": [
    "To find mutual friends between every pair of Facebook users, I’d use MapReduce like this: In the Map step, for each user, I look at all pairs of their friends and emit the pair as a key with a count of 1. So if Alice is friends with Bob and Carol, I emit (Bob, Carol) → 1. Then, in the Shuffle/Sort phase, all pairs are grouped together. In the Reduce step, I sum the counts for each pair to get the total number of mutual friends. This approach scales horizontally for very large social graphs. Key trade-offs are handling users with huge friend lists, which can produce a lot of pairs, and the fact that this is batch, not real-time, computation."
   ]
  },
  {
   "cell_type": "markdown",
   "id": "c1470845",
   "metadata": {},
   "source": [
    "### Assume you are tasked with designing a large-scale system that tracks a variety of search query strings and their frequencies. How would you design this, and what trade-offs would you need to consider?"
   ]
  },
  {
   "cell_type": "markdown",
   "id": "0ca0b754",
   "metadata": {},
   "source": [
    "For tracking query strings and their frequencies at scale, I’d design a system with distributed ingestion of user queries into sharded counters. Each shard could be a key-value store like Redis, DynamoDB, or Cassandra. For very high traffic, I’d use approximate counting with a Count-Min Sketch to save memory and avoid hot keys, while maintaining near-accurate counts. We can do real-time updates with streaming pipelines like Kafka and Spark Streaming or batch aggregation for analytics. The main trade-offs are accuracy versus memory, real-time versus batch processing, and handling very popular queries to avoid hotspots"
   ]
  }
 ],
 "metadata": {
  "language_info": {
   "name": "python"
  }
 },
 "nbformat": 4,
 "nbformat_minor": 5
}
