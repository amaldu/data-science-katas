{
 "cells": [
  {
   "cell_type": "markdown",
   "metadata": {},
   "source": [
    "# Data Cleaning and Preprocessing - Solutions\n",
    "\n",
    "Handling missing values, type conversions, renaming, replacing values, and removing duplicates."
   ]
  },
  {
   "cell_type": "markdown",
   "metadata": {},
   "source": [
    "## Question 1\n",
    "Check for missing values in the DataFrame using isna() and count the total number of missing values."
   ]
  },
  {
   "cell_type": "code",
   "execution_count": null,
   "metadata": {},
   "outputs": [],
   "source": [
    "import pandas as pd\n",
    "import numpy as np\n",
    "df = pd.DataFrame({'A': [1, 2, np.nan, 4], 'B': [5, np.nan, 7, 8], 'C': [9, 10, 11, np.nan]})\n",
    "print(\"Missing values per column:\")\n",
    "print(df.isna().sum())\n",
    "print(f\"\\nTotal missing values: {df.isna().sum().sum()}\")"
   ]
  },
  {
   "cell_type": "markdown",
   "metadata": {},
   "source": [
    "## Question 2\n",
    "Fill missing values in column 'A' with the mean of that column using fillna()."
   ]
  },
  {
   "cell_type": "code",
   "execution_count": null,
   "metadata": {},
   "outputs": [],
   "source": [
    "df['A'] = df['A'].fillna(df['A'].mean())\n",
    "print(df)"
   ]
  },
  {
   "cell_type": "markdown",
   "metadata": {},
   "source": [
    "## Question 3\n",
    "Drop all rows that contain any missing values using dropna()."
   ]
  },
  {
   "cell_type": "code",
   "execution_count": null,
   "metadata": {},
   "outputs": [],
   "source": [
    "df_clean = df.dropna()\n",
    "print(df_clean)"
   ]
  },
  {
   "cell_type": "markdown",
   "metadata": {},
   "source": [
    "## Question 4\n",
    "Convert the data type of column 'B' from float to integer using astype()."
   ]
  },
  {
   "cell_type": "code",
   "execution_count": null,
   "metadata": {},
   "outputs": [],
   "source": [
    "df_clean = pd.DataFrame({'A': [1, 2, 3, 4], 'B': [5.0, 6.0, 7.0, 8.0]})\n",
    "df_clean['B'] = df_clean['B'].astype(int)\n",
    "print(df_clean.dtypes)\n",
    "print(df_clean)"
   ]
  },
  {
   "cell_type": "markdown",
   "metadata": {},
   "source": [
    "## Question 5\n",
    "Rename columns 'A' and 'B' to 'First' and 'Second' respectively using rename()."
   ]
  },
  {
   "cell_type": "code",
   "execution_count": null,
   "metadata": {},
   "outputs": [],
   "source": [
    "df_renamed = df_clean.rename(columns={'A': 'First', 'B': 'Second'})\n",
    "print(df_renamed)"
   ]
  },
  {
   "cell_type": "markdown",
   "metadata": {},
   "source": [
    "## Question 6\n",
    "Replace all occurrences of the value 5 with 50 in the entire DataFrame using replace()."
   ]
  },
  {
   "cell_type": "code",
   "execution_count": null,
   "metadata": {},
   "outputs": [],
   "source": [
    "df_values = pd.DataFrame({'X': [1, 5, 3], 'Y': [5, 2, 7], 'Z': [8, 5, 9]})\n",
    "df_replaced = df_values.replace(5, 50)\n",
    "print(df_replaced)"
   ]
  },
  {
   "cell_type": "markdown",
   "metadata": {},
   "source": [
    "## Question 7\n",
    "Create a DataFrame with duplicate rows and remove them using drop_duplicates()."
   ]
  },
  {
   "cell_type": "code",
   "execution_count": null,
   "metadata": {},
   "outputs": [],
   "source": [
    "df_duplicates = pd.DataFrame({'A': [1, 2, 2, 3], 'B': [4, 5, 5, 6]})\n",
    "print(\"Original DataFrame:\")\n",
    "print(df_duplicates)\n",
    "df_no_duplicates = df_duplicates.drop_duplicates()\n",
    "print(\"\\nAfter removing duplicates:\")\n",
    "print(df_no_duplicates)"
   ]
  },
  {
   "cell_type": "markdown",
   "metadata": {},
   "source": [
    "## Question 8\n",
    "Fill missing values with forward fill method using fillna(method='ffill')."
   ]
  },
  {
   "cell_type": "code",
   "execution_count": null,
   "metadata": {},
   "outputs": [],
   "source": [
    "df_ffill = pd.DataFrame({'A': [1, np.nan, 3, np.nan, 5]})\n",
    "print(\"Original:\")\n",
    "print(df_ffill)\n",
    "df_filled = df_ffill.fillna(method='ffill')\n",
    "print(\"\\nAfter forward fill:\")\n",
    "print(df_filled)"
   ]
  },
  {
   "cell_type": "markdown",
   "metadata": {},
   "source": [
    "## Question 9\n",
    "Check data types of all columns using dtypes and convert a string column to numeric using pd.to_numeric()."
   ]
  },
  {
   "cell_type": "code",
   "execution_count": null,
   "metadata": {},
   "outputs": [],
   "source": [
    "df_types = pd.DataFrame({'A': ['1', '2', '3'], 'B': [4, 5, 6]})\n",
    "print(\"Original dtypes:\")\n",
    "print(df_types.dtypes)\n",
    "df_types['A'] = pd.to_numeric(df_types['A'])\n",
    "print(\"\\nAfter conversion:\")\n",
    "print(df_types.dtypes)\n",
    "print(df_types)"
   ]
  },
  {
   "cell_type": "markdown",
   "metadata": {},
   "source": [
    "## Question 10\n",
    "Replace missing values in different columns with different strategies: column 'A' with 0, column 'B' with the median."
   ]
  },
  {
   "cell_type": "code",
   "execution_count": null,
   "metadata": {},
   "outputs": [],
   "source": [
    "df_multi_fill = pd.DataFrame({'A': [1, np.nan, 3, np.nan], 'B': [10, 20, np.nan, 40]})\n",
    "print(\"Original:\")\n",
    "print(df_multi_fill)\n",
    "df_multi_fill['A'] = df_multi_fill['A'].fillna(0)\n",
    "df_multi_fill['B'] = df_multi_fill['B'].fillna(df_multi_fill['B'].median())\n",
    "print(\"\\nAfter filling:\")\n",
    "print(df_multi_fill)"
   ]
  }
 ],
 "metadata": {
  "kernelspec": {
   "display_name": "Python 3",
   "language": "python",
   "name": "python3"
  },
  "language_info": {
   "name": "python",
   "version": "3.8.0"
  }
 },
 "nbformat": 4,
 "nbformat_minor": 4
}