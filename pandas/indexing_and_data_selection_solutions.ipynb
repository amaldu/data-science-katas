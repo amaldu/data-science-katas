{
 "cells": [
  {
   "cell_type": "markdown",
   "metadata": {},
   "source": [
    "# Indexing and Data Selection - Solutions\n",
    "\n",
    "Accessing data with .loc[], .iloc[], boolean indexing, slicing, and MultiIndex operations."
   ]
  },
  {
   "cell_type": "markdown",
   "metadata": {},
   "source": [
    "## Question 1\n",
    "Given a DataFrame df, use .loc[] to select the row with index 'B' and column 'Score'."
   ]
  },
  {
   "cell_type": "code",
   "execution_count": null,
   "metadata": {},
   "outputs": [],
   "source": [
    "import pandas as pd\n",
    "df = pd.DataFrame({'Name': ['Alice', 'Bob', 'Charlie'], 'Score': [85, 90, 75]}, \n",
    "                  index=['A', 'B', 'C'])\n",
    "result = df.loc['B', 'Score']\n",
    "print(result)"
   ]
  },
  {
   "cell_type": "markdown",
   "metadata": {},
   "source": [
    "## Question 2\n",
    "Use .iloc[] to select the second row and third column from the DataFrame df."
   ]
  },
  {
   "cell_type": "code",
   "execution_count": null,
   "metadata": {},
   "outputs": [],
   "source": [
    "df = pd.DataFrame({'A': [1, 2, 3], 'B': [4, 5, 6], 'C': [7, 8, 9]})\n",
    "result = df.iloc[1, 2]  # Second row (index 1), third column (index 2)\n",
    "print(result)"
   ]
  },
  {
   "cell_type": "markdown",
   "metadata": {},
   "source": [
    "## Question 3\n",
    "Create a boolean mask to filter rows where the 'Age' column is greater than 25, then apply it to the DataFrame."
   ]
  },
  {
   "cell_type": "code",
   "execution_count": null,
   "metadata": {},
   "outputs": [],
   "source": [
    "df = pd.DataFrame({'Name': ['Alice', 'Bob', 'Charlie', 'Diana'], \n",
    "                   'Age': [23, 30, 35, 28]})\n",
    "mask = df['Age'] > 25\n",
    "filtered_df = df[mask]\n",
    "print(filtered_df)"
   ]
  },
  {
   "cell_type": "markdown",
   "metadata": {},
   "source": [
    "## Question 4\n",
    "Use slicing to select rows 1 to 3 and columns 'Name' to 'Score' from the DataFrame."
   ]
  },
  {
   "cell_type": "code",
   "execution_count": null,
   "metadata": {},
   "outputs": [],
   "source": [
    "df = pd.DataFrame({'Name': ['Alice', 'Bob', 'Charlie', 'Diana'], \n",
    "                   'Age': [23, 30, 35, 28], \n",
    "                   'Score': [85, 90, 75, 88]})\n",
    "result = df.loc[1:3, 'Name':'Score']\n",
    "print(result)"
   ]
  },
  {
   "cell_type": "markdown",
   "metadata": {},
   "source": [
    "## Question 5\n",
    "Select multiple specific columns ['Name', 'Score'] from the DataFrame using bracket notation."
   ]
  },
  {
   "cell_type": "code",
   "execution_count": null,
   "metadata": {},
   "outputs": [],
   "source": [
    "result = df[['Name', 'Score']]\n",
    "print(result)"
   ]
  },
  {
   "cell_type": "markdown",
   "metadata": {},
   "source": [
    "## Question 6\n",
    "Filter the DataFrame to show only rows where Age is between 25 and 35 (inclusive)."
   ]
  },
  {
   "cell_type": "code",
   "execution_count": null,
   "metadata": {},
   "outputs": [],
   "source": [
    "filtered_df = df[(df['Age'] >= 25) & (df['Age'] <= 35)]\n",
    "print(filtered_df)"
   ]
  },
  {
   "cell_type": "markdown",
   "metadata": {},
   "source": [
    "## Question 7\n",
    "Create a MultiIndex DataFrame and select data from the first level of the index."
   ]
  },
  {
   "cell_type": "code",
   "execution_count": null,
   "metadata": {},
   "outputs": [],
   "source": [
    "# Create MultiIndex DataFrame\n",
    "arrays = [['A', 'A', 'B', 'B'], ['X', 'Y', 'X', 'Y']]\n",
    "index = pd.MultiIndex.from_arrays(arrays, names=['first', 'second'])\n",
    "df_multi = pd.DataFrame({'values': [1, 2, 3, 4]}, index=index)\n",
    "print(\"Original DataFrame:\")\n",
    "print(df_multi)\n",
    "print(\"\\nSelecting first level 'A':\")\n",
    "result = df_multi.loc['A']\n",
    "print(result)"
   ]
  },
  {
   "cell_type": "markdown",
   "metadata": {},
   "source": [
    "## Question 8\n",
    "Use boolean indexing to select rows where the Name contains the letter 'a' (case insensitive)."
   ]
  },
  {
   "cell_type": "code",
   "execution_count": null,
   "metadata": {},
   "outputs": [],
   "source": [
    "mask = df['Name'].str.contains('a', case=False)\n",
    "result = df[mask]\n",
    "print(result)"
   ]
  },
  {
   "cell_type": "markdown",
   "metadata": {},
   "source": [
    "## Question 9\n",
    "Select the last 3 rows of the DataFrame using negative indexing with .iloc[]."
   ]
  },
  {
   "cell_type": "code",
   "execution_count": null,
   "metadata": {},
   "outputs": [],
   "source": [
    "result = df.iloc[-3:]\n",
    "print(result)"
   ]
  },
  {
   "cell_type": "markdown",
   "metadata": {},
   "source": [
    "## Question 10\n",
    "Combine multiple conditions to filter rows where Age > 25 AND Score > 80."
   ]
  },
  {
   "cell_type": "code",
   "execution_count": null,
   "metadata": {},
   "outputs": [],
   "source": [
    "filtered_df = df[(df['Age'] > 25) & (df['Score'] > 80)]\n",
    "print(filtered_df)"
   ]
  }
 ],
 "metadata": {
  "kernelspec": {
   "display_name": "Python 3",
   "language": "python",
   "name": "python3"
  },
  "language_info": {
   "name": "python",
   "version": "3.8.0"
  }
 },
 "nbformat": 4,
 "nbformat_minor": 4
}