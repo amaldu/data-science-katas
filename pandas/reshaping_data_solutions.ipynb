{
 "cells": [
  {
   "cell_type": "markdown",
   "metadata": {},
   "source": [
    "# Reshaping Data - Solutions\n\nUsing pivot() and pivot_table(), melt() for wide to long format, stack() and unstack()."
   ]
  },
  {
   "cell_type": "markdown",
   "metadata": {},
   "source": [
    "## Question 1\nCreate a DataFrame and use pivot() to reshape it from long to wide format."
   ]
  },
  {
   "cell_type": "code",
   "execution_count": null,
   "metadata": {},
   "outputs": [],
   "source": [
    "import pandas as pd\nimport numpy as np\n\nlong_data = pd.DataFrame({\n    'Date': ['2023-01', '2023-01', '2023-02', '2023-02'],\n    'Product': ['A', 'B', 'A', 'B'],\n    'Sales': [100, 150, 120, 180]\n})\nprint(\"Long format:\")\nprint(long_data)\n\nwide_data = long_data.pivot(index='Date', columns='Product', values='Sales')\nprint(\"\\nWide format:\")\nprint(wide_data)"
   ]
  },
  {
   "cell_type": "markdown",
   "metadata": {},
   "source": [
    "## Question 2\nUse pivot_table() to create a summary table with aggregation functions."
   ]
  },
  {
   "cell_type": "code",
   "execution_count": null,
   "metadata": {},
   "outputs": [],
   "source": [
    "sales_data = pd.DataFrame({\n    'Region': ['North', 'South', 'North', 'South', 'North', 'South'],\n    'Product': ['A', 'A', 'B', 'B', 'A', 'B'],\n    'Sales': [100, 150, 120, 180, 110, 160],\n    'Quantity': [10, 15, 12, 18, 11, 16]\n})\nprint(\"Original data:\")\nprint(sales_data)\n\npivot_summary = pd.pivot_table(sales_data, \n                              values=['Sales', 'Quantity'], \n                              index='Region', \n                              columns='Product', \n                              aggfunc='mean')\nprint(\"\\nPivot table with aggregation:\")\nprint(pivot_summary)"
   ]
  },
  {
   "cell_type": "markdown",
   "metadata": {},
   "source": [
    "## Question 3\nUse melt() to convert a wide format DataFrame to long format."
   ]
  },
  {
   "cell_type": "code",
   "execution_count": null,
   "metadata": {},
   "outputs": [],
   "source": [
    "wide_df = pd.DataFrame({\n    'Name': ['Alice', 'Bob', 'Charlie'],\n    'Math': [85, 90, 78],\n    'Science': [88, 92, 85],\n    'English': [82, 87, 90]\n})\nprint(\"Wide format:\")\nprint(wide_df)\n\nlong_df = pd.melt(wide_df, id_vars=['Name'], var_name='Subject', value_name='Score')\nprint(\"\\nLong format:\")\nprint(long_df)"
   ]
  },
  {
   "cell_type": "markdown",
   "metadata": {},
   "source": [
    "## Question 4\nUse melt() with id_vars and value_vars parameters to control which columns to melt."
   ]
  },
  {
   "cell_type": "code",
   "execution_count": null,
   "metadata": {},
   "outputs": [],
   "source": [
    "student_data = pd.DataFrame({\n    'Name': ['Alice', 'Bob'],\n    'Age': [20, 21],\n    'Math': [85, 90],\n    'Science': [88, 92],\n    'Sports': ['Soccer', 'Basketball']\n})\nprint(\"Original data:\")\nprint(student_data)\n\nselective_melt = pd.melt(student_data, \n                        id_vars=['Name', 'Age'], \n                        value_vars=['Math', 'Science'],\n                        var_name='Subject', \n                        value_name='Score')\nprint(\"\\nSelective melt:\")\nprint(selective_melt)"
   ]
  },
  {
   "cell_type": "markdown",
   "metadata": {},
   "source": [
    "## Question 5\nCreate a DataFrame with hierarchical index and use stack() to reshape it."
   ]
  },
  {
   "cell_type": "code",
   "execution_count": null,
   "metadata": {},
   "outputs": [],
   "source": [
    "multi_col_df = pd.DataFrame({\n    ('Sales', 'Q1'): [100, 200],\n    ('Sales', 'Q2'): [120, 220],\n    ('Profit', 'Q1'): [20, 40],\n    ('Profit', 'Q2'): [25, 45]\n}, index=['Product A', 'Product B'])\nprint(\"DataFrame with MultiIndex columns:\")\nprint(multi_col_df)\n\nstacked = multi_col_df.stack()\nprint(\"\\nAfter stacking:\")\nprint(stacked)"
   ]
  },
  {
   "cell_type": "markdown",
   "metadata": {},
   "source": [
    "## Question 6\nUse unstack() to pivot the innermost index level to columns."
   ]
  },
  {
   "cell_type": "code",
   "execution_count": null,
   "metadata": {},
   "outputs": [],
   "source": [
    "multi_index_data = pd.DataFrame({\n    'Value': [100, 150, 200, 250]\n}, index=pd.MultiIndex.from_tuples([\n    ('A', 'X'), ('A', 'Y'), ('B', 'X'), ('B', 'Y')\n], names=['Group', 'Category']))\n\nprint(\"Multi-index DataFrame:\")\nprint(multi_index_data)\n\nunstacked = multi_index_data.unstack()\nprint(\"\\nAfter unstacking:\")\nprint(unstacked)"
   ]
  },
  {
   "cell_type": "markdown",
   "metadata": {},
   "source": [
    "## Question 7\nCreate a cross-tabulation using pd.crosstab() between two categorical variables."
   ]
  },
  {
   "cell_type": "code",
   "execution_count": null,
   "metadata": {},
   "outputs": [],
   "source": [
    "survey_data = pd.DataFrame({\n    'Gender': ['M', 'F', 'M', 'F', 'M', 'F', 'M', 'F'],\n    'Satisfaction': ['High', 'High', 'Low', 'High', 'Medium', 'Low', 'High', 'Medium']\n})\nprint(\"Survey data:\")\nprint(survey_data)\n\ncrosstab = pd.crosstab(survey_data['Gender'], survey_data['Satisfaction'])\nprint(\"\\nCross-tabulation:\")\nprint(crosstab)"
   ]
  },
  {
   "cell_type": "markdown",
   "metadata": {},
   "source": [
    "## Question 8\nReshape data using pivot_table() with multiple aggregation functions."
   ]
  },
  {
   "cell_type": "code",
   "execution_count": null,
   "metadata": {},
   "outputs": [],
   "source": [
    "multi_agg_pivot = pd.pivot_table(sales_data, \n                                values='Sales', \n                                index='Region', \n                                columns='Product', \n                                aggfunc=['mean', 'sum'])\nprint(\"Pivot table with multiple aggregations:\")\nprint(multi_agg_pivot)"
   ]
  },
  {
   "cell_type": "markdown",
   "metadata": {},
   "source": [
    "## Question 9\nUse stack() and unstack() together to manipulate a DataFrame's structure."
   ]
  },
  {
   "cell_type": "code",
   "execution_count": null,
   "metadata": {},
   "outputs": [],
   "source": [
    "df_transform = pd.DataFrame({\n    'A': [1, 2],\n    'B': [3, 4],\n    'C': [5, 6]\n}, index=['X', 'Y'])\nprint(\"Original DataFrame:\")\nprint(df_transform)\n\n# Stack then unstack to reorganize\nstacked_then_unstacked = df_transform.stack().unstack(0)\nprint(\"\\nAfter stack() then unstack(0):\")\nprint(stacked_then_unstacked)"
   ]
  },
  {
   "cell_type": "markdown",
   "metadata": {},
   "source": [
    "## Question 10\nHandle missing values when using pivot operations and fill them with a default value."
   ]
  },
  {
   "cell_type": "code",
   "execution_count": null,
   "metadata": {},
   "outputs": [],
   "source": [
    "incomplete_data = pd.DataFrame({\n    'Date': ['2023-01', '2023-01', '2023-02'],\n    'Product': ['A', 'B', 'A'],\n    'Sales': [100, 150, 120]\n})\nprint(\"Incomplete data:\")\nprint(incomplete_data)\n\npivot_with_na = incomplete_data.pivot(index='Date', columns='Product', values='Sales')\nprint(\"\\nPivot with NaN:\")\nprint(pivot_with_na)\n\npivot_filled = incomplete_data.pivot(index='Date', columns='Product', values='Sales').fillna(0)\nprint(\"\\nPivot with NaN filled with 0:\")\nprint(pivot_filled)"
   ]
  }
 ],
 "metadata": {
  "kernelspec": {
   "display_name": "Python 3",
   "language": "python",
   "name": "python3"
  },
  "language_info": {
   "codemirror_mode": {
    "name": "ipython",
    "version": 3
   },
   "file_extension": ".py",
   "name": "python",
   "nbconvert_exporter": "python",
   "pygments_lexer": "ipython3",
   "version": "3.8.5"
  }
 },
 "nbformat": 4,
 "nbformat_minor": 4
}