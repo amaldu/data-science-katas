{
 "cells": [
  {
   "cell_type": "markdown",
   "metadata": {},
   "source": [
    "# Grouping and Aggregation - Solutions\n\nGroupBy operations with aggregation functions, multiple aggregations, and hierarchical groupings."
   ]
  },
  {
   "cell_type": "markdown",
   "metadata": {},
   "source": [
    "## Question 1\nCreate a DataFrame with sales data (Product, Region, Sales, Quantity) and group by Product to calculate the total sales for each product."
   ]
  },
  {
   "cell_type": "code",
   "execution_count": null,
   "metadata": {},
   "outputs": [],
   "source": [
    "import pandas as pd\nimport numpy as np\n\nsales_data = {\n    'Product': ['A', 'B', 'A', 'C', 'B', 'A', 'C', 'B'],\n    'Region': ['North', 'South', 'East', 'West', 'North', 'South', 'East', 'West'],\n    'Sales': [1000, 1500, 800, 1200, 900, 1100, 1300, 1400],\n    'Quantity': [10, 15, 8, 12, 9, 11, 13, 14]\n}\ndf_sales = pd.DataFrame(sales_data)\nprint(df_sales)\n\ntotal_sales_by_product = df_sales.groupby('Product')['Sales'].sum()\nprint(\"\\nTotal sales by product:\")\nprint(total_sales_by_product)"
   ]
  },
  {
   "cell_type": "markdown",
   "metadata": {},
   "source": [
    "## Question 2\nUsing the same sales DataFrame, group by Region and calculate both mean sales and total quantity using agg()."
   ]
  },
  {
   "cell_type": "code",
   "execution_count": null,
   "metadata": {},
   "outputs": [],
   "source": [
    "region_stats = df_sales.groupby('Region').agg({\n    'Sales': 'mean',\n    'Quantity': 'sum'\n})\nprint(region_stats)"
   ]
  },
  {
   "cell_type": "markdown",
   "metadata": {},
   "source": [
    "## Question 3\nGroup the sales data by both Product and Region (hierarchical grouping) and calculate the sum of Sales."
   ]
  },
  {
   "cell_type": "code",
   "execution_count": null,
   "metadata": {},
   "outputs": [],
   "source": [
    "hierarchical_sales = df_sales.groupby(['Product', 'Region'])['Sales'].sum()\nprint(hierarchical_sales)"
   ]
  },
  {
   "cell_type": "markdown",
   "metadata": {},
   "source": [
    "## Question 4\nCreate a DataFrame with employee data (Department, Employee, Salary, Age) and find the employee with the highest salary in each department."
   ]
  },
  {
   "cell_type": "code",
   "execution_count": null,
   "metadata": {},
   "outputs": [],
   "source": [
    "employee_data = {\n    'Department': ['IT', 'HR', 'IT', 'Finance', 'HR', 'IT', 'Finance'],\n    'Employee': ['Alice', 'Bob', 'Charlie', 'David', 'Eve', 'Frank', 'Grace'],\n    'Salary': [70000, 55000, 80000, 65000, 60000, 75000, 70000],\n    'Age': [28, 35, 32, 40, 29, 31, 38]\n}\ndf_employees = pd.DataFrame(employee_data)\nprint(df_employees)\n\nhighest_paid_by_dept = df_employees.loc[df_employees.groupby('Department')['Salary'].idxmax()]\nprint(\"\\nHighest paid employee by department:\")\nprint(highest_paid_by_dept)"
   ]
  },
  {
   "cell_type": "markdown",
   "metadata": {},
   "source": [
    "## Question 5\nUsing the employee DataFrame, group by Department and apply multiple aggregation functions: count of employees, mean salary, and max age."
   ]
  },
  {
   "cell_type": "code",
   "execution_count": null,
   "metadata": {},
   "outputs": [],
   "source": [
    "dept_stats = df_employees.groupby('Department').agg({\n    'Employee': 'count',\n    'Salary': 'mean',\n    'Age': 'max'\n})\nprint(dept_stats)"
   ]
  },
  {
   "cell_type": "markdown",
   "metadata": {},
   "source": [
    "## Question 6\nCreate a custom aggregation function that calculates the range (max - min) and apply it to the Salary column grouped by Department."
   ]
  },
  {
   "cell_type": "code",
   "execution_count": null,
   "metadata": {},
   "outputs": [],
   "source": [
    "def salary_range(x):\n    return x.max() - x.min()\n\nsalary_ranges = df_employees.groupby('Department')['Salary'].agg(salary_range)\nprint(\"Salary range by department:\")\nprint(salary_ranges)"
   ]
  },
  {
   "cell_type": "markdown",
   "metadata": {},
   "source": [
    "## Question 7\nUsing transform() with groupby, add a column showing each employee's salary as a percentage of their department's total salary."
   ]
  },
  {
   "cell_type": "code",
   "execution_count": null,
   "metadata": {},
   "outputs": [],
   "source": [
    "df_employees['Dept_Total_Salary'] = df_employees.groupby('Department')['Salary'].transform('sum')\ndf_employees['Salary_Percentage'] = (df_employees['Salary'] / df_employees['Dept_Total_Salary']) * 100\nprint(df_employees[['Employee', 'Department', 'Salary', 'Salary_Percentage']])"
   ]
  },
  {
   "cell_type": "markdown",
   "metadata": {},
   "source": [
    "## Question 8\nFilter groups to show only departments where the average salary is greater than 60000."
   ]
  },
  {
   "cell_type": "code",
   "execution_count": null,
   "metadata": {},
   "outputs": [],
   "source": [
    "high_salary_depts = df_employees.groupby('Department').filter(lambda x: x['Salary'].mean() > 60000)\nprint(high_salary_depts)"
   ]
  },
  {
   "cell_type": "markdown",
   "metadata": {},
   "source": [
    "## Question 9\nUsing apply() with groupby, create a function that returns the top 2 highest paid employees in each department."
   ]
  },
  {
   "cell_type": "code",
   "execution_count": null,
   "metadata": {},
   "outputs": [],
   "source": [
    "def top_2_employees(group):\n    return group.nlargest(2, 'Salary')\n\ntop_2_by_dept = df_employees.groupby('Department').apply(top_2_employees)\nprint(top_2_by_dept)"
   ]
  },
  {
   "cell_type": "markdown",
   "metadata": {},
   "source": [
    "## Question 10\nCreate a pivot table from the sales data showing Products as rows, Regions as columns, and sum of Sales as values."
   ]
  },
  {
   "cell_type": "code",
   "execution_count": null,
   "metadata": {},
   "outputs": [],
   "source": [
    "pivot_table = df_sales.pivot_table(index='Product', columns='Region', values='Sales', aggfunc='sum')\nprint(pivot_table)"
   ]
  }
 ],
 "metadata": {
  "kernelspec": {
   "display_name": "Python 3",
   "language": "python",
   "name": "python3"
  },
  "language_info": {
   "codemirror_mode": {
    "name": "ipython",
    "version": 3
   },
   "file_extension": ".py",
   "name": "python",
   "nbconvert_exporter": "python",
   "pygments_lexer": "ipython3",
   "version": "3.8.5"
  }
 },
 "nbformat": 4,
 "nbformat_minor": 4
}