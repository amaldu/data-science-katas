{
 "cells": [
  {
   "cell_type": "markdown",
   "metadata": {},
   "source": [
    "# Categorical and Datetime Handling - Solutions\n\nCategorical data types, pd.to_datetime(), and datetime operations with .dt accessor."
   ]
  },
  {
   "cell_type": "markdown",
   "metadata": {},
   "source": [
    "## Question 1\nCreate a DataFrame with a column of grades ['A', 'B', 'C', 'A', 'B'] and convert it to categorical data type. Display the categories and their codes."
   ]
  },
  {
   "cell_type": "code",
   "execution_count": null,
   "metadata": {},
   "outputs": [],
   "source": [
    "import pandas as pd\nimport numpy as np\n\ndf_grades = pd.DataFrame({'Grade': ['A', 'B', 'C', 'A', 'B']})\ndf_grades['Grade'] = df_grades['Grade'].astype('category')\nprint(\"Categories:\", df_grades['Grade'].cat.categories)\nprint(\"Codes:\", df_grades['Grade'].cat.codes.tolist())\nprint(\"\\nDataFrame:\")\nprint(df_grades)"
   ]
  },
  {
   "cell_type": "markdown",
   "metadata": {},
   "source": [
    "## Question 2\nCreate a categorical column with ordered categories for sizes: ['Small', 'Medium', 'Large'] in that order. Add some data and sort by this categorical column."
   ]
  },
  {
   "cell_type": "code",
   "execution_count": null,
   "metadata": {},
   "outputs": [],
   "source": [
    "sizes = ['Large', 'Small', 'Medium', 'Large', 'Small']\nsize_cat = pd.Categorical(sizes, categories=['Small', 'Medium', 'Large'], ordered=True)\ndf_sizes = pd.DataFrame({'Size': size_cat, 'Price': [20, 15, 18, 22, 14]})\nprint(\"Original DataFrame:\")\nprint(df_sizes)\nprint(\"\\nSorted by Size:\")\nprint(df_sizes.sort_values('Size'))"
   ]
  },
  {
   "cell_type": "markdown",
   "metadata": {},
   "source": [
    "## Question 3\nConvert the string dates ['2023-01-15', '2023-02-20', '2023-03-10'] to datetime objects using pd.to_datetime()."
   ]
  },
  {
   "cell_type": "code",
   "execution_count": null,
   "metadata": {},
   "outputs": [],
   "source": [
    "date_strings = ['2023-01-15', '2023-02-20', '2023-03-10']\ndates = pd.to_datetime(date_strings)\nprint(\"Original strings:\", date_strings)\nprint(\"Converted to datetime:\")\nprint(dates)\nprint(\"Data type:\", type(dates[0]))"
   ]
  },
  {
   "cell_type": "markdown",
   "metadata": {},
   "source": [
    "## Question 4\nCreate a DataFrame with a datetime column and extract the year, month, and day of week using the .dt accessor."
   ]
  },
  {
   "cell_type": "code",
   "execution_count": null,
   "metadata": {},
   "outputs": [],
   "source": [
    "df_dates = pd.DataFrame({\n    'Date': pd.to_datetime(['2023-01-15', '2023-02-20', '2023-03-10', '2023-04-05'])\n})\ndf_dates['Year'] = df_dates['Date'].dt.year\ndf_dates['Month'] = df_dates['Date'].dt.month\ndf_dates['DayOfWeek'] = df_dates['Date'].dt.day_name()\nprint(df_dates)"
   ]
  },
  {
   "cell_type": "markdown",
   "metadata": {},
   "source": [
    "## Question 5\nCreate a date range using pd.date_range() for the first 10 days of 2023 with daily frequency."
   ]
  },
  {
   "cell_type": "code",
   "execution_count": null,
   "metadata": {},
   "outputs": [],
   "source": [
    "date_range = pd.date_range(start='2023-01-01', periods=10, freq='D')\nprint(\"First 10 days of 2023:\")\nprint(date_range)"
   ]
  },
  {
   "cell_type": "markdown",
   "metadata": {},
   "source": [
    "## Question 6\nGiven datetime strings in format 'dd/mm/yyyy', convert them to datetime objects and format them as 'yyyy-mm-dd'."
   ]
  },
  {
   "cell_type": "code",
   "execution_count": null,
   "metadata": {},
   "outputs": [],
   "source": [
    "date_strings_dmy = ['15/01/2023', '20/02/2023', '10/03/2023']\ndates_converted = pd.to_datetime(date_strings_dmy, format='%d/%m/%Y')\nformatted_dates = dates_converted.strftime('%Y-%m-%d')\nprint(\"Original format:\", date_strings_dmy)\nprint(\"Converted to yyyy-mm-dd:\")\nprint(formatted_dates.tolist())"
   ]
  },
  {
   "cell_type": "markdown",
   "metadata": {},
   "source": [
    "## Question 7\nCreate a DataFrame with timestamps and filter for dates within a specific month (e.g., March 2023)."
   ]
  },
  {
   "cell_type": "code",
   "execution_count": null,
   "metadata": {},
   "outputs": [],
   "source": [
    "df_timestamps = pd.DataFrame({\n    'Date': pd.date_range('2023-02-15', periods=30, freq='D'),\n    'Value': np.random.randint(1, 100, 30)\n})\nprint(\"Original DataFrame shape:\", df_timestamps.shape)\nprint(\"\\nFirst few rows:\")\nprint(df_timestamps.head())\n\nmarch_data = df_timestamps[df_timestamps['Date'].dt.month == 3]\nprint(\"\\nMarch 2023 data:\")\nprint(march_data)"
   ]
  },
  {
   "cell_type": "markdown",
   "metadata": {},
   "source": [
    "## Question 8\nCalculate the difference in days between two datetime columns in a DataFrame."
   ]
  },
  {
   "cell_type": "code",
   "execution_count": null,
   "metadata": {},
   "outputs": [],
   "source": [
    "df_dates_diff = pd.DataFrame({\n    'Start_Date': pd.to_datetime(['2023-01-01', '2023-02-15', '2023-03-10']),\n    'End_Date': pd.to_datetime(['2023-01-15', '2023-03-01', '2023-04-05'])\n})\ndf_dates_diff['Days_Difference'] = (df_dates_diff['End_Date'] - df_dates_diff['Start_Date']).dt.days\nprint(df_dates_diff)"
   ]
  },
  {
   "cell_type": "markdown",
   "metadata": {},
   "source": [
    "## Question 9\nResample time series data with daily frequency to monthly frequency using mean aggregation."
   ]
  },
  {
   "cell_type": "code",
   "execution_count": null,
   "metadata": {},
   "outputs": [],
   "source": [
    "df_timeseries = pd.DataFrame({\n    'Date': pd.date_range('2023-01-01', periods=90, freq='D'),\n    'Value': np.random.randint(10, 100, 90)\n})\ndf_timeseries.set_index('Date', inplace=True)\nprint(\"Original data (first 5 rows):\")\nprint(df_timeseries.head())\n\nmonthly_avg = df_timeseries.resample('M').mean()\nprint(\"\\nMonthly averages:\")\nprint(monthly_avg)"
   ]
  },
  {
   "cell_type": "markdown",
   "metadata": {},
   "source": [
    "## Question 10\nCreate a categorical column for seasons based on months (Dec-Feb: Winter, Mar-May: Spring, etc.) using datetime data."
   ]
  },
  {
   "cell_type": "code",
   "execution_count": null,
   "metadata": {},
   "outputs": [],
   "source": [
    "df_seasons = pd.DataFrame({\n    'Date': pd.date_range('2023-01-01', periods=12, freq='M')\n})\n\ndef get_season(month):\n    if month in [12, 1, 2]:\n        return 'Winter'\n    elif month in [3, 4, 5]:\n        return 'Spring'\n    elif month in [6, 7, 8]:\n        return 'Summer'\n    else:\n        return 'Fall'\n\ndf_seasons['Season'] = df_seasons['Date'].dt.month.apply(get_season)\ndf_seasons['Season'] = df_seasons['Season'].astype('category')\nprint(df_seasons)\nprint(\"\\nSeason categories:\", df_seasons['Season'].cat.categories.tolist())"
   ]
  }
 ],
 "metadata": {
  "kernelspec": {
   "display_name": "Python 3",
   "language": "python",
   "name": "python3"
  },
  "language_info": {
   "codemirror_mode": {
    "name": "ipython",
    "version": 3
   },
   "file_extension": ".py",
   "name": "python",
   "nbconvert_exporter": "python",
   "pygments_lexer": "ipython3",
   "version": "3.8.5"
  }
 },
 "nbformat": 4,
 "nbformat_minor": 4
}