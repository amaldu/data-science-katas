{
 "cells": [
  {
   "cell_type": "markdown",
   "metadata": {},
   "source": [
    "# Combining and Merging Data - Solutions\n\nUsing concat() for concatenation, merge() for SQL-style joins, and join() for index-based joins."
   ]
  },
  {
   "cell_type": "markdown",
   "metadata": {},
   "source": [
    "## Question 1\nCreate two DataFrames with the same columns and concatenate them vertically using pd.concat()."
   ]
  },
  {
   "cell_type": "code",
   "execution_count": null,
   "metadata": {},
   "outputs": [],
   "source": [
    "import pandas as pd\nimport numpy as np\n\ndf1 = pd.DataFrame({'A': [1, 2, 3], 'B': [4, 5, 6]})\ndf2 = pd.DataFrame({'A': [7, 8, 9], 'B': [10, 11, 12]})\n\nprint(\"DataFrame 1:\")\nprint(df1)\nprint(\"\\nDataFrame 2:\")\nprint(df2)\n\nresult = pd.concat([df1, df2], ignore_index=True)\nprint(\"\\nConcatenated vertically:\")\nprint(result)"
   ]
  },
  {
   "cell_type": "markdown",
   "metadata": {},
   "source": [
    "## Question 2\nCreate two DataFrames with different columns and concatenate them horizontally, handling missing values."
   ]
  },
  {
   "cell_type": "code",
   "execution_count": null,
   "metadata": {},
   "outputs": [],
   "source": [
    "df_left = pd.DataFrame({'A': [1, 2, 3], 'B': [4, 5, 6]})\ndf_right = pd.DataFrame({'C': [7, 8, 9], 'D': [10, 11, 12]})\n\nprint(\"Left DataFrame:\")\nprint(df_left)\nprint(\"\\nRight DataFrame:\")\nprint(df_right)\n\nresult_horizontal = pd.concat([df_left, df_right], axis=1)\nprint(\"\\nConcatenated horizontally:\")\nprint(result_horizontal)"
   ]
  },
  {
   "cell_type": "markdown",
   "metadata": {},
   "source": [
    "## Question 3\nPerform an inner join between two DataFrames using merge() on a common column."
   ]
  },
  {
   "cell_type": "code",
   "execution_count": null,
   "metadata": {},
   "outputs": [],
   "source": [
    "customers = pd.DataFrame({\n    'customer_id': [1, 2, 3, 4],\n    'name': ['Alice', 'Bob', 'Charlie', 'David']\n})\n\norders = pd.DataFrame({\n    'customer_id': [1, 2, 2, 5],\n    'order_amount': [100, 150, 200, 75]\n})\n\nprint(\"Customers:\")\nprint(customers)\nprint(\"\\nOrders:\")\nprint(orders)\n\ninner_join = pd.merge(customers, orders, on='customer_id', how='inner')\nprint(\"\\nInner join:\")\nprint(inner_join)"
   ]
  },
  {
   "cell_type": "markdown",
   "metadata": {},
   "source": [
    "## Question 4\nPerform a left join between two DataFrames, keeping all rows from the left DataFrame."
   ]
  },
  {
   "cell_type": "code",
   "execution_count": null,
   "metadata": {},
   "outputs": [],
   "source": [
    "left_join = pd.merge(customers, orders, on='customer_id', how='left')\nprint(\"Left join (all customers):\")\nprint(left_join)"
   ]
  },
  {
   "cell_type": "markdown",
   "metadata": {},
   "source": [
    "## Question 5\nMerge two DataFrames on multiple columns (composite key)."
   ]
  },
  {
   "cell_type": "code",
   "execution_count": null,
   "metadata": {},
   "outputs": [],
   "source": [
    "sales = pd.DataFrame({\n    'product': ['A', 'B', 'A', 'C'],\n    'region': ['North', 'South', 'North', 'East'],\n    'sales': [100, 150, 120, 90]\n})\n\npricing = pd.DataFrame({\n    'product': ['A', 'B', 'A', 'C'],\n    'region': ['North', 'South', 'South', 'East'],\n    'price': [10, 15, 12, 8]\n})\n\nprint(\"Sales:\")\nprint(sales)\nprint(\"\\nPricing:\")\nprint(pricing)\n\ncomposite_merge = pd.merge(sales, pricing, on=['product', 'region'])\nprint(\"\\nMerged on multiple columns:\")\nprint(composite_merge)"
   ]
  },
  {
   "cell_type": "markdown",
   "metadata": {},
   "source": [
    "## Question 6\nPerform an outer join between two DataFrames, showing all rows from both DataFrames."
   ]
  },
  {
   "cell_type": "code",
   "execution_count": null,
   "metadata": {},
   "outputs": [],
   "source": [
    "outer_join = pd.merge(customers, orders, on='customer_id', how='outer')\nprint(\"Outer join (all customers and orders):\")\nprint(outer_join)"
   ]
  },
  {
   "cell_type": "markdown",
   "metadata": {},
   "source": [
    "## Question 7\nUse join() method to combine two DataFrames based on their indexes."
   ]
  },
  {
   "cell_type": "code",
   "execution_count": null,
   "metadata": {},
   "outputs": [],
   "source": [
    "df_info = pd.DataFrame({\n    'name': ['Alice', 'Bob', 'Charlie']\n}, index=[1, 2, 3])\n\ndf_details = pd.DataFrame({\n    'age': [25, 30, 35],\n    'city': ['NYC', 'LA', 'Chicago']\n}, index=[1, 2, 4])\n\nprint(\"Info DataFrame:\")\nprint(df_info)\nprint(\"\\nDetails DataFrame:\")\nprint(df_details)\n\njoined = df_info.join(df_details, how='left')\nprint(\"\\nJoined on index:\")\nprint(joined)"
   ]
  },
  {
   "cell_type": "markdown",
   "metadata": {},
   "source": [
    "## Question 8\nMerge DataFrames where the join columns have different names using left_on and right_on parameters."
   ]
  },
  {
   "cell_type": "code",
   "execution_count": null,
   "metadata": {},
   "outputs": [],
   "source": [
    "employees = pd.DataFrame({\n    'emp_id': [1, 2, 3],\n    'name': ['Alice', 'Bob', 'Charlie']\n})\n\nsalaries = pd.DataFrame({\n    'employee_id': [1, 2, 4],\n    'salary': [50000, 60000, 55000]\n})\n\nprint(\"Employees:\")\nprint(employees)\nprint(\"\\nSalaries:\")\nprint(salaries)\n\ndifferent_names_merge = pd.merge(employees, salaries, left_on='emp_id', right_on='employee_id')\nprint(\"\\nMerged with different column names:\")\nprint(different_names_merge)"
   ]
  },
  {
   "cell_type": "markdown",
   "metadata": {},
   "source": [
    "## Question 9\nConcatenate multiple DataFrames (more than 2) and add keys to identify the source of each row."
   ]
  },
  {
   "cell_type": "code",
   "execution_count": null,
   "metadata": {},
   "outputs": [],
   "source": [
    "q1_data = pd.DataFrame({'sales': [100, 120, 90]})\nq2_data = pd.DataFrame({'sales': [110, 130, 95]})\nq3_data = pd.DataFrame({'sales': [105, 125, 85]})\n\nprint(\"Q1 Data:\", q1_data.values.flatten())\nprint(\"Q2 Data:\", q2_data.values.flatten())\nprint(\"Q3 Data:\", q3_data.values.flatten())\n\nwith_keys = pd.concat([q1_data, q2_data, q3_data], keys=['Q1', 'Q2', 'Q3'])\nprint(\"\\nConcatenated with keys:\")\nprint(with_keys)"
   ]
  },
  {
   "cell_type": "markdown",
   "metadata": {},
   "source": [
    "## Question 10\nHandle duplicate column names when merging DataFrames by using suffixes."
   ]
  },
  {
   "cell_type": "code",
   "execution_count": null,
   "metadata": {},
   "outputs": [],
   "source": [
    "scores_math = pd.DataFrame({\n    'student': ['Alice', 'Bob', 'Charlie'],\n    'score': [85, 90, 78]\n})\n\nscores_science = pd.DataFrame({\n    'student': ['Alice', 'Bob', 'David'],\n    'score': [88, 92, 85]\n})\n\nprint(\"Math scores:\")\nprint(scores_math)\nprint(\"\\nScience scores:\")\nprint(scores_science)\n\nwith_suffixes = pd.merge(scores_math, scores_science, on='student', suffixes=('_math', '_science'))\nprint(\"\\nMerged with suffixes:\")\nprint(with_suffixes)"
   ]
  }
 ],
 "metadata": {
  "kernelspec": {
   "display_name": "Python 3",
   "language": "python",
   "name": "python3"
  },
  "language_info": {
   "codemirror_mode": {
    "name": "ipython",
    "version": 3
   },
   "file_extension": ".py",
   "name": "python",
   "nbconvert_exporter": "python",
   "pygments_lexer": "ipython3",
   "version": "3.8.5"
  }
 },
 "nbformat": 4,
 "nbformat_minor": 4
}