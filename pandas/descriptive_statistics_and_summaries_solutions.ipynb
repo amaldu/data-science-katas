{
 "cells": [
  {
   "cell_type": "markdown",
   "metadata": {},
   "source": [
    "# Descriptive Statistics and Summaries - Solutions\n\nSummary statistics, correlation analysis, and value_counts() operations."
   ]
  },
  {
   "cell_type": "markdown",
   "metadata": {},
   "source": [
    "## Question 1\nCreate a DataFrame with numerical data and calculate basic descriptive statistics (mean, median, std, min, max)."
   ]
  },
  {
   "cell_type": "code",
   "execution_count": null,
   "metadata": {},
   "outputs": [],
   "source": [
    "import pandas as pd\nimport numpy as np\n\nnp.random.seed(42)\ndf_stats = pd.DataFrame({\n    'Score1': np.random.normal(75, 10, 100),\n    'Score2': np.random.normal(80, 15, 100),\n    'Score3': np.random.normal(70, 12, 100)\n})\nprint(\"Sample data (first 5 rows):\")\nprint(df_stats.head())\n\nprint(\"\\nBasic statistics:\")\nprint(f\"Mean: {df_stats.mean()}\")\nprint(f\"\\nMedian: {df_stats.median()}\")\nprint(f\"\\nStandard deviation: {df_stats.std()}\")\nprint(f\"\\nMinimum: {df_stats.min()}\")\nprint(f\"\\nMaximum: {df_stats.max()}\")"
   ]
  },
  {
   "cell_type": "markdown",
   "metadata": {},
   "source": [
    "## Question 2\nUse describe() method to get a comprehensive statistical summary of a DataFrame."
   ]
  },
  {
   "cell_type": "code",
   "execution_count": null,
   "metadata": {},
   "outputs": [],
   "source": [
    "print(\"Comprehensive statistical summary:\")\nprint(df_stats.describe())"
   ]
  },
  {
   "cell_type": "markdown",
   "metadata": {},
   "source": [
    "## Question 3\nCalculate the correlation matrix between numerical columns in a DataFrame."
   ]
  },
  {
   "cell_type": "code",
   "execution_count": null,
   "metadata": {},
   "outputs": [],
   "source": [
    "correlation_matrix = df_stats.corr()\nprint(\"Correlation matrix:\")\nprint(correlation_matrix)"
   ]
  },
  {
   "cell_type": "markdown",
   "metadata": {},
   "source": [
    "## Question 4\nUse value_counts() to count the frequency of categorical values in a column."
   ]
  },
  {
   "cell_type": "code",
   "execution_count": null,
   "metadata": {},
   "outputs": [],
   "source": [
    "df_categorical = pd.DataFrame({\n    'Grade': ['A', 'B', 'A', 'C', 'B', 'A', 'C', 'B', 'A', 'B'],\n    'Department': ['Math', 'Science', 'Math', 'English', 'Science', 'Math', 'English', 'Science', 'Math', 'Science']\n})\nprint(\"Sample categorical data:\")\nprint(df_categorical)\n\nprint(\"\\nGrade frequencies:\")\nprint(df_categorical['Grade'].value_counts())\n\nprint(\"\\nDepartment frequencies:\")\nprint(df_categorical['Department'].value_counts())"
   ]
  },
  {
   "cell_type": "markdown",
   "metadata": {},
   "source": [
    "## Question 5\nCalculate quantiles (25th, 50th, 75th percentiles) for numerical columns."
   ]
  },
  {
   "cell_type": "code",
   "execution_count": null,
   "metadata": {},
   "outputs": [],
   "source": [
    "quantiles = df_stats.quantile([0.25, 0.5, 0.75])\nprint(\"Quantiles (25th, 50th, 75th percentiles):\")\nprint(quantiles)"
   ]
  },
  {
   "cell_type": "markdown",
   "metadata": {},
   "source": [
    "## Question 6\nFind the mode (most frequent value) in each column of a DataFrame."
   ]
  },
  {
   "cell_type": "code",
   "execution_count": null,
   "metadata": {},
   "outputs": [],
   "source": [
    "print(\"Mode for categorical data:\")\nprint(df_categorical.mode())\n\n# For continuous data, mode might not be very meaningful, but here's how:\nprint(\"\\nMode for numerical data (rounded to 1 decimal):\")\ndf_rounded = df_stats.round(1)\nprint(df_rounded.mode().head(3))"
   ]
  },
  {
   "cell_type": "markdown",
   "metadata": {},
   "source": [
    "## Question 7\nCalculate skewness and kurtosis for numerical columns to understand data distribution."
   ]
  },
  {
   "cell_type": "code",
   "execution_count": null,
   "metadata": {},
   "outputs": [],
   "source": [
    "print(\"Skewness (measure of asymmetry):\")\nprint(df_stats.skew())\n\nprint(\"\\nKurtosis (measure of tail heaviness):\")\nprint(df_stats.kurtosis())"
   ]
  },
  {
   "cell_type": "markdown",
   "metadata": {},
   "source": [
    "## Question 8\nCreate a covariance matrix and compare it with the correlation matrix."
   ]
  },
  {
   "cell_type": "code",
   "execution_count": null,
   "metadata": {},
   "outputs": [],
   "source": [
    "covariance_matrix = df_stats.cov()\nprint(\"Covariance matrix:\")\nprint(covariance_matrix)\n\nprint(\"\\nCorrelation matrix (for comparison):\")\nprint(correlation_matrix)\n\nprint(\"\\nNote: Correlation is standardized covariance (values between -1 and 1)\")"
   ]
  },
  {
   "cell_type": "markdown",
   "metadata": {},
   "source": [
    "## Question 9\nUse nunique() to count the number of unique values in each column."
   ]
  },
  {
   "cell_type": "code",
   "execution_count": null,
   "metadata": {},
   "outputs": [],
   "source": [
    "print(\"Number of unique values in categorical data:\")\nprint(df_categorical.nunique())\n\nprint(\"\\nNumber of unique values in numerical data (rounded):\")\nprint(df_stats.round(1).nunique())"
   ]
  },
  {
   "cell_type": "markdown",
   "metadata": {},
   "source": [
    "## Question 10\nCreate a summary table showing count, mean, and standard deviation grouped by a categorical variable."
   ]
  },
  {
   "cell_type": "code",
   "execution_count": null,
   "metadata": {},
   "outputs": [],
   "source": [
    "# Create combined dataset\ndf_combined = pd.DataFrame({\n    'Category': ['A', 'B', 'A', 'B', 'C', 'A', 'B', 'C', 'A', 'C'],\n    'Value1': [10, 15, 12, 18, 20, 11, 16, 22, 13, 19],\n    'Value2': [25, 30, 28, 35, 40, 27, 32, 38, 29, 36]\n})\nprint(\"Combined dataset:\")\nprint(df_combined)\n\nsummary_by_category = df_combined.groupby('Category').agg({\n    'Value1': ['count', 'mean', 'std'],\n    'Value2': ['count', 'mean', 'std']\n})\nprint(\"\\nSummary statistics by category:\")\nprint(summary_by_category)"
   ]
  }
 ],
 "metadata": {
  "kernelspec": {
   "display_name": "Python 3",
   "language": "python",
   "name": "python3"
  },
  "language_info": {
   "codemirror_mode": {
    "name": "ipython",
    "version": 3
   },
   "file_extension": ".py",
   "name": "python",
   "nbconvert_exporter": "python",
   "pygments_lexer": "ipython3",
   "version": "3.8.5"
  }
 },
 "nbformat": 4,
 "nbformat_minor": 4
}