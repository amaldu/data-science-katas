{
 "cells": [
  {
   "cell_type": "markdown",
   "metadata": {},
   "source": [
    "# Mathematical Operations - Solutions\n",
    "\n",
    "Element-wise operations, aggregations, and axis-based operations."
   ]
  },
  {
   "cell_type": "markdown",
   "metadata": {},
   "source": [
    "## Question 1\n",
    "Create two arrays [1, 2, 3, 4] and [5, 6, 7, 8] and perform element-wise addition, subtraction, multiplication, and division."
   ]
  },
  {
   "cell_type": "code",
   "execution_count": null,
   "metadata": {},
   "outputs": [],
   "source": [
    "import numpy as np\n",
    "\n",
    "arr1 = np.array([1, 2, 3, 4])\n",
    "arr2 = np.array([5, 6, 7, 8])\n",
    "\n",
    "addition = arr1 + arr2\n",
    "subtraction = arr2 - arr1\n",
    "multiplication = arr1 * arr2\n",
    "division = arr2 / arr1\n",
    "\n",
    "print(f\"Array 1: {arr1}\")\n",
    "print(f\"Array 2: {arr2}\")\n",
    "print(f\"Addition: {addition}\")\n",
    "print(f\"Subtraction: {subtraction}\")\n",
    "print(f\"Multiplication: {multiplication}\")\n",
    "print(f\"Division: {division}\")"
   ]
  },
  {
   "cell_type": "markdown",
   "metadata": {},
   "source": [
    "## Question 2\n",
    "Create an array [2, 4, 6, 8] and calculate its square and square root."
   ]
  },
  {
   "cell_type": "code",
   "execution_count": null,
   "metadata": {},
   "outputs": [],
   "source": [
    "arr = np.array([2, 4, 6, 8])\n",
    "square = arr ** 2\n",
    "square_root = np.sqrt(arr)\n",
    "\n",
    "print(f\"Original array: {arr}\")\n",
    "print(f\"Square: {square}\")\n",
    "print(f\"Square root: {square_root}\")"
   ]
  },
  {
   "cell_type": "markdown",
   "metadata": {},
   "source": [
    "## Question 3\n",
    "Create a 2D array and calculate the sum of all elements using sum()."
   ]
  },
  {
   "cell_type": "code",
   "execution_count": null,
   "metadata": {},
   "outputs": [],
   "source": [
    "import numpy as np\n",
    "arr = np.array([[1, 2, 3], [4, 5, 6], [7, 8, 9]])\n",
    "total_sum = arr.sum()\n",
    "\n",
    "print(f\"2D Array:\\n{arr}\")\n",
    "print(f\"Sum of all elements: {total_sum}\")"
   ]
  },
  {
   "cell_type": "markdown",
   "metadata": {},
   "source": [
    "## Question 4\n",
    "Calculate the mean, standard deviation, minimum, and maximum of the array [10, 20, 30, 40, 50]."
   ]
  },
  {
   "cell_type": "code",
   "execution_count": null,
   "metadata": {},
   "outputs": [],
   "source": [
    "arr = np.array([10, 20, 30, 40, 50])\n",
    "mean = arr.mean()\n",
    "std = arr.std()\n",
    "minimum = arr.min()\n",
    "maximum = arr.max()\n",
    "\n",
    "print(f\"Array: {arr}\")\n",
    "print(f\"Mean: {mean}\")\n",
    "print(f\"Standard deviation: {std}\")\n",
    "print(f\"Minimum: {minimum}\")\n",
    "print(f\"Maximum: {maximum}\")"
   ]
  },
  {
   "cell_type": "markdown",
   "metadata": {},
   "source": [
    "## Question 5\n",
    "Find the indices of the maximum and minimum elements in an array using argmax() and argmin()."
   ]
  },
  {
   "cell_type": "code",
   "execution_count": null,
   "metadata": {},
   "outputs": [],
   "source": [
    "import numpy as np\n",
    "arr = np.array([3, 7, 1, 9, 2, 8])\n",
    "max_index = arr.argmax()\n",
    "min_index = arr.argmin()\n",
    "\n",
    "print(f\"Array: {arr}\")\n",
    "print(f\"Index of maximum element: {max_index} (value: {arr[max_index]})\")\n",
    "print(f\"Index of minimum element: {min_index} (value: {arr[min_index]})\")"
   ]
  },
  {
   "cell_type": "markdown",
   "metadata": {},
   "source": [
    "## Question 6\n",
    "Create a 3x4 array and calculate the sum along axis 0 and axis 1."
   ]
  },
  {
   "cell_type": "code",
   "execution_count": null,
   "metadata": {},
   "outputs": [],
   "source": [
    "arr = np.arange(12).reshape(3, 4)\n",
    "sum_axis0 = arr.sum(axis=0)  # Sum along rows (columns remain)\n",
    "sum_axis1 = arr.sum(axis=1)  # Sum along columns (rows remain)\n",
    "\n",
    "print(f\"3x4 Array:\\n{arr}\")\n",
    "print(f\"Sum along axis 0 (columns): {sum_axis0}\")\n",
    "print(f\"Sum along axis 1 (rows): {sum_axis1}\")"
   ]
  },
  {
   "cell_type": "markdown",
   "metadata": {},
   "source": [
    "## Question 7\n",
    "Create a 2D array and calculate the mean along each row and each column."
   ]
  },
  {
   "cell_type": "code",
   "execution_count": null,
   "metadata": {},
   "outputs": [],
   "source": [
    "arr = np.array([[1, 2, 3, 4], [5, 6, 7, 8], [9, 10, 11, 12]])\n",
    "mean_rows = arr.mean(axis=1)    # Mean of each row\n",
    "mean_columns = arr.mean(axis=0) # Mean of each column\n",
    "\n",
    "print(f\"2D Array:\\n{arr}\")\n",
    "print(f\"Mean of each row: {mean_rows}\")\n",
    "print(f\"Mean of each column: {mean_columns}\")"
   ]
  },
  {
   "cell_type": "markdown",
   "metadata": {},
   "source": [
    "## Question 8\n",
    "Demonstrate broadcasting by adding a scalar 10 to a 2D array."
   ]
  },
  {
   "cell_type": "code",
   "execution_count": null,
   "metadata": {},
   "outputs": [],
   "source": [
    "arr = np.array([[1, 2, 3], [4, 5, 6]])\n",
    "result = arr + 10\n",
    "\n",
    "print(f\"Original array:\\n{arr}\")\n",
    "print(f\"After adding 10:\\n{result}\")\n",
    "print(f\"Broadcasting allows scalar to be added to each element\")"
   ]
  },
  {
   "cell_type": "markdown",
   "metadata": {},
   "source": [
    "## Question 9\n",
    "Create two arrays with different shapes that can be broadcasted together and perform multiplication."
   ]
  },
  {
   "cell_type": "code",
   "execution_count": null,
   "metadata": {},
   "outputs": [],
   "source": [
    "arr1 = np.array([[1, 2, 3], [4, 5, 6]])  # Shape: (2, 3)\n",
    "arr2 = np.array([10, 20, 30])            # Shape: (3,)\n",
    "result = arr1 * arr2\n",
    "\n",
    "print(f\"Array 1 (2x3):\\n{arr1}\")\n",
    "print(f\"Array 2 (1x3): {arr2}\")\n",
    "print(f\"Broadcasted multiplication:\\n{result}\")\n",
    "print(f\"Shape compatibility: (2,3) * (3,) -> (2,3)\")"
   ]
  },
  {
   "cell_type": "markdown",
   "metadata": {},
   "source": [
    "## Question 10\n",
    "Calculate cumulative sum and cumulative product of an array [1, 2, 3, 4, 5]."
   ]
  },
  {
   "cell_type": "code",
   "execution_count": null,
   "metadata": {},
   "outputs": [],
   "source": [
    "arr = np.array([1, 2, 3, 4, 5])\n",
    "cumsum = arr.cumsum()\n",
    "cumprod = arr.cumprod()\n",
    "\n",
    "print(f\"Original array: {arr}\")\n",
    "print(f\"Cumulative sum: {cumsum}\")\n",
    "print(f\"Cumulative product: {cumprod}\")"
   ]
  }
 ],
 "metadata": {
  "kernelspec": {
   "display_name": "Python 3",
   "language": "python",
   "name": "python3"
  },
  "language_info": {
   "codemirror_mode": {
    "name": "ipython",
    "version": 3
   },
   "file_extension": ".py",
   "name": "python",
   "nbconvert_exporter": "python",
   "pygments_lexer": "ipython3",
   "version": "3.8.5"
  }
 },
 "nbformat": 4,
 "nbformat_minor": 4
}