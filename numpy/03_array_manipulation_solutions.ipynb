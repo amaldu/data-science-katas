{
 "cells": [
  {
   "cell_type": "markdown",
   "metadata": {},
   "source": [
    "# Array Manipulation - Solutions\n",
    "\n",
    "Reshaping, transposing, stacking, and splitting arrays."
   ]
  },
  {
   "cell_type": "markdown",
   "metadata": {},
   "source": [
    "## Question 1\n",
    "Create a 1D array with 12 elements and reshape it to a 3x4 array using reshape()."
   ]
  },
  {
   "cell_type": "code",
   "execution_count": null,
   "metadata": {},
   "outputs": [],
   "source": [
    "import numpy as np\n",
    "\n",
    "arr_1d = np.arange(12)\n",
    "arr_2d = arr_1d.reshape(3, 4)\n",
    "print(f\"Original 1D array: {arr_1d}\")\n",
    "print(f\"Reshaped 3x4 array:\\n{arr_2d}\")"
   ]
  },
  {
   "cell_type": "markdown",
   "metadata": {},
   "source": [
    "## Question 2\n",
    "Create a 2x3 array and convert it to a 1D array using both ravel() and flatten(), then show the difference."
   ]
  },
  {
   "cell_type": "code",
   "execution_count": null,
   "metadata": {},
   "outputs": [],
   "source": [
    "arr_2d = np.array([[1, 2, 3], [4, 5, 6]])\n",
    "ravel_result = arr_2d.ravel()\n",
    "flatten_result = arr_2d.flatten()\n",
    "\n",
    "print(f\"Original array:\\n{arr_2d}\")\n",
    "print(f\"Ravel result: {ravel_result}\")\n",
    "print(f\"Flatten result: {flatten_result}\")\n",
    "\n",
    "# Show the difference: ravel returns a view when possible, flatten always returns a copy\n",
    "ravel_result[0] = 999\n",
    "print(f\"After modifying ravel result, original array:\\n{arr_2d}\")\n",
    "print(f\"Ravel shares memory: {np.shares_memory(arr_2d, ravel_result)}\")\n",
    "print(f\"Flatten shares memory: {np.shares_memory(arr_2d, flatten_result)}\")"
   ]
  },
  {
   "cell_type": "markdown",
   "metadata": {},
   "source": [
    "## Question 3\n",
    "Create a 3x4 array and transpose it using both .T attribute and transpose() method."
   ]
  },
  {
   "cell_type": "code",
   "execution_count": null,
   "metadata": {},
   "outputs": [],
   "source": [
    "arr = np.arange(12).reshape(3, 4)\n",
    "transpose_T = arr.T\n",
    "transpose_method = arr.transpose()\n",
    "\n",
    "print(f\"Original 3x4 array:\\n{arr}\")\n",
    "print(f\"Transposed using .T:\\n{transpose_T}\")\n",
    "print(f\"Transposed using transpose():\\n{transpose_method}\")\n",
    "print(f\"Both methods give same result: {np.array_equal(transpose_T, transpose_method)}\")"
   ]
  },
  {
   "cell_type": "markdown",
   "metadata": {},
   "source": [
    "## Question 4\n",
    "Create two arrays [1, 2, 3] and [4, 5, 6], then stack them horizontally using hstack()."
   ]
  },
  {
   "cell_type": "code",
   "execution_count": null,
   "metadata": {},
   "outputs": [],
   "source": [
    "arr1 = np.array([1, 2, 3])\n",
    "arr2 = np.array([4, 5, 6])\n",
    "hstacked = np.hstack([arr1, arr2])\n",
    "\n",
    "print(f\"Array 1: {arr1}\")\n",
    "print(f\"Array 2: {arr2}\")\n",
    "print(f\"Horizontally stacked: {hstacked}\")"
   ]
  },
  {
   "cell_type": "markdown",
   "metadata": {},
   "source": [
    "## Question 5\n",
    "Create two 1D arrays and stack them vertically using vstack()."
   ]
  },
  {
   "cell_type": "code",
   "execution_count": null,
   "metadata": {},
   "outputs": [],
   "source": [
    "arr1 = np.array([1, 2, 3])\n",
    "arr2 = np.array([4, 5, 6])\n",
    "vstacked = np.vstack([arr1, arr2])\n",
    "\n",
    "print(f\"Array 1: {arr1}\")\n",
    "print(f\"Array 2: {arr2}\")\n",
    "print(f\"Vertically stacked:\\n{vstacked}\")"
   ]
  },
  {
   "cell_type": "markdown",
   "metadata": {},
   "source": [
    "## Question 6\n",
    "Use concatenate() to join two arrays along axis 0 and axis 1."
   ]
  },
  {
   "cell_type": "code",
   "execution_count": null,
   "metadata": {},
   "outputs": [],
   "source": [
    "import numpy as np\n",
    "arr1 = np.array([[1, 2], [3, 4]])\n",
    "arr2 = np.array([[5, 6], [7, 8]])\n",
    "\n",
    "concat_axis0 = np.concatenate([arr1, arr2], axis=0)\n",
    "concat_axis1 = np.concatenate([arr1, arr2], axis=1)\n",
    "\n",
    "print(f\"Array 1:\\n{arr1}\")\n",
    "print(f\"Array 2:\\n{arr2}\")\n",
    "print(f\"Concatenated along axis 0:\\n{concat_axis0}\")\n",
    "print(f\"Concatenated along axis 1:\\n{concat_axis1}\")"
   ]
  },
  {
   "cell_type": "markdown",
   "metadata": {},
   "source": [
    "## Question 7\n",
    "Create two 2D arrays and use stack() to combine them along a new axis (axis=0)."
   ]
  },
  {
   "cell_type": "code",
   "execution_count": null,
   "metadata": {},
   "outputs": [],
   "source": [
    "arr1 = np.array([[1, 2], [3, 4]])\n",
    "arr2 = np.array([[5, 6], [7, 8]])\n",
    "stacked = np.stack([arr1, arr2], axis=0)\n",
    "\n",
    "print(f\"Array 1:\\n{arr1}\")\n",
    "print(f\"Array 2:\\n{arr2}\")\n",
    "print(f\"Stacked along new axis 0:\\n{stacked}\")\n",
    "print(f\"Stacked array shape: {stacked.shape}\")"
   ]
  },
  {
   "cell_type": "markdown",
   "metadata": {},
   "source": [
    "## Question 8\n",
    "Create a 1D array [1, 2, 3, 4, 5, 6] and split it into 3 equal parts using split()."
   ]
  },
  {
   "cell_type": "code",
   "execution_count": null,
   "metadata": {},
   "outputs": [],
   "source": [
    "arr = np.array([1, 2, 3, 4, 5, 6])\n",
    "split_arrays = np.split(arr, 3)\n",
    "\n",
    "print(f\"Original array: {arr}\")\n",
    "print(f\"Split into 3 parts:\")\n",
    "for i, sub_arr in enumerate(split_arrays):\n",
    "    print(f\"Part {i+1}: {sub_arr}\")"
   ]
  },
  {
   "cell_type": "markdown",
   "metadata": {},
   "source": [
    "## Question 9\n",
    "Create a 4x6 array and split it horizontally into 2 equal parts using hsplit()."
   ]
  },
  {
   "cell_type": "code",
   "execution_count": null,
   "metadata": {},
   "outputs": [],
   "source": [
    "arr = np.arange(24).reshape(4, 6)\n",
    "hsplit_arrays = np.hsplit(arr, 2)\n",
    "\n",
    "print(f\"Original 4x6 array:\\n{arr}\")\n",
    "print(f\"Horizontally split into 2 parts:\")\n",
    "for i, sub_arr in enumerate(hsplit_arrays):\n",
    "    print(f\"Part {i+1}:\\n{sub_arr}\")"
   ]
  },
  {
   "cell_type": "markdown",
   "metadata": {},
   "source": [
    "## Question 10\n",
    "Create a 6x4 array and split it vertically into 3 equal parts using vsplit()."
   ]
  },
  {
   "cell_type": "code",
   "execution_count": null,
   "metadata": {},
   "outputs": [],
   "source": [
    "arr = np.arange(24).reshape(6, 4)\n",
    "vsplit_arrays = np.vsplit(arr, 3)\n",
    "\n",
    "print(f\"Original 6x4 array:\\n{arr}\")\n",
    "print(f\"Vertically split into 3 parts:\")\n",
    "for i, sub_arr in enumerate(vsplit_arrays):\n",
    "    print(f\"Part {i+1}:\\n{sub_arr}\")"
   ]
  }
 ],
 "metadata": {
  "kernelspec": {
   "display_name": "Python 3",
   "language": "python",
   "name": "python3"
  },
  "language_info": {
   "codemirror_mode": {
    "name": "ipython",
    "version": 3
   },
   "file_extension": ".py",
   "name": "python",
   "nbconvert_exporter": "python",
   "pygments_lexer": "ipython3",
   "version": "3.8.5"
  }
 },
 "nbformat": 4,
 "nbformat_minor": 4
}