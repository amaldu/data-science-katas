{
 "cells": [
  {
   "cell_type": "markdown",
   "metadata": {},
   "source": [
    "# Random Number Generation - Solutions\n",
    "\n",
    "Generating random numbers, distributions, and sampling."
   ]
  },
  {
   "cell_type": "markdown",
   "metadata": {},
   "source": [
    "## Question 1\n",
    "Generate a 3x3 array of random numbers between 0 and 1 using np.random.rand()."
   ]
  },
  {
   "cell_type": "code",
   "execution_count": null,
   "metadata": {},
   "outputs": [],
   "source": [
    "import numpy as np\n",
    "\n",
    "random_array = np.random.rand(3, 3)\n",
    "print(f\"3x3 random array:\\n{random_array}\")\n",
    "print(f\"Shape: {random_array.shape}\")\n",
    "print(f\"Min value: {random_array.min():.4f}\")\n",
    "print(f\"Max value: {random_array.max():.4f}\")"
   ]
  },
  {
   "cell_type": "markdown",
   "metadata": {},
   "source": [
    "## Question 2\n",
    "Generate 10 random numbers from a standard normal distribution using np.random.randn()."
   ]
  },
  {
   "cell_type": "code",
   "execution_count": null,
   "metadata": {},
   "outputs": [],
   "source": [
    "normal_numbers = np.random.randn(10)\n",
    "print(f\"10 standard normal random numbers: {normal_numbers}\")\n",
    "print(f\"Mean: {normal_numbers.mean():.4f}\")\n",
    "print(f\"Standard deviation: {normal_numbers.std():.4f}\")"
   ]
  },
  {
   "cell_type": "markdown",
   "metadata": {},
   "source": [
    "## Question 3\n",
    "Generate 5 random integers between 1 and 10 (inclusive) using np.random.randint()."
   ]
  },
  {
   "cell_type": "code",
   "execution_count": null,
   "metadata": {},
   "outputs": [],
   "source": [
    "random_ints = np.random.randint(1, 11, size=5)  # 11 is exclusive, so max value is 10\n",
    "print(f\"5 random integers between 1-10: {random_ints}\")\n",
    "print(f\"Min: {random_ints.min()}, Max: {random_ints.max()}\")"
   ]
  },
  {
   "cell_type": "markdown",
   "metadata": {},
   "source": [
    "## Question 4\n",
    "Set a random seed and generate the same sequence of random numbers twice to demonstrate reproducibility."
   ]
  },
  {
   "cell_type": "code",
   "execution_count": null,
   "metadata": {},
   "outputs": [],
   "source": [
    "# First generation with seed\n",
    "np.random.seed(42)\n",
    "first_sequence = np.random.rand(5)\n",
    "print(f\"First sequence: {first_sequence}\")\n",
    "\n",
    "# Second generation with same seed\n",
    "np.random.seed(42)\n",
    "second_sequence = np.random.rand(5)\n",
    "print(f\"Second sequence: {second_sequence}\")\n",
    "\n",
    "print(f\"Sequences are identical: {np.array_equal(first_sequence, second_sequence)}\")"
   ]
  },
  {
   "cell_type": "markdown",
   "metadata": {},
   "source": [
    "## Question 5\n",
    "Generate 1000 samples from a normal distribution with mean=5 and std=2 using np.random.normal()."
   ]
  },
  {
   "cell_type": "code",
   "execution_count": null,
   "metadata": {},
   "outputs": [],
   "source": [
    "normal_samples = np.random.normal(loc=5, scale=2, size=1000)\n",
    "print(f\"Generated {len(normal_samples)} samples\")\n",
    "print(f\"Sample mean: {normal_samples.mean():.4f} (target: 5.0)\")\n",
    "print(f\"Sample std: {normal_samples.std():.4f} (target: 2.0)\")\n",
    "print(f\"Min: {normal_samples.min():.2f}, Max: {normal_samples.max():.2f}\")"
   ]
  },
  {
   "cell_type": "markdown",
   "metadata": {},
   "source": [
    "## Question 6\n",
    "Generate 100 samples from a uniform distribution between 5 and 15 using np.random.uniform()."
   ]
  },
  {
   "cell_type": "code",
   "execution_count": null,
   "metadata": {},
   "outputs": [],
   "source": [
    "uniform_samples = np.random.uniform(low=5, high=15, size=100)\n",
    "print(f\"Generated {len(uniform_samples)} uniform samples\")\n",
    "print(f\"Sample mean: {uniform_samples.mean():.4f} (expected: ~10.0)\")\n",
    "print(f\"Min: {uniform_samples.min():.2f}, Max: {uniform_samples.max():.2f}\")\n",
    "print(f\"All values in range [5, 15]: {(uniform_samples >= 5).all() and (uniform_samples < 15).all()}\")"
   ]
  },
  {
   "cell_type": "markdown",
   "metadata": {},
   "source": [
    "## Question 7\n",
    "Generate 50 samples from a binomial distribution with n=20 and p=0.3 using np.random.binomial()."
   ]
  },
  {
   "cell_type": "code",
   "execution_count": null,
   "metadata": {},
   "outputs": [],
   "source": [
    "binomial_samples = np.random.binomial(n=20, p=0.3, size=50)\n",
    "print(f\"50 binomial samples (n=20, p=0.3): {binomial_samples}\")\n",
    "print(f\"Sample mean: {binomial_samples.mean():.2f} (expected: {20 * 0.3})\")\n",
    "print(f\"Min: {binomial_samples.min()}, Max: {binomial_samples.max()}\")\n",
    "print(f\"Range: [0, {20}] (theoretical)\")"
   ]
  },
  {
   "cell_type": "markdown",
   "metadata": {},
   "source": [
    "## Question 8\n",
    "Use np.random.choice() to randomly select 5 elements from an array [10, 20, 30, 40, 50] with replacement."
   ]
  },
  {
   "cell_type": "code",
   "execution_count": null,
   "metadata": {},
   "outputs": [],
   "source": [
    "arr = np.array([10, 20, 30, 40, 50])\n",
    "choices_with_replacement = np.random.choice(arr, size=5, replace=True)\n",
    "\n",
    "print(f\"Original array: {arr}\")\n",
    "print(f\"5 choices with replacement: {choices_with_replacement}\")\n",
    "print(f\"Unique values in choices: {np.unique(choices_with_replacement)}\")"
   ]
  },
  {
   "cell_type": "markdown",
   "metadata": {},
   "source": [
    "## Question 9\n",
    "Use np.random.choice() to randomly select 3 elements without replacement from the same array."
   ]
  },
  {
   "cell_type": "code",
   "execution_count": null,
   "metadata": {},
   "outputs": [],
   "source": [
    "import numpy as np\n",
    "arr = np.array([10, 20, 30, 40, 50])\n",
    "choices_without_replacement = np.random.choice(arr, size=3, replace=False)\n",
    "\n",
    "print(f\"Original array: {arr}\")\n",
    "print(f\"3 choices without replacement: {choices_without_replacement}\")\n",
    "print(f\"All values are unique: {len(choices_without_replacement) == len(np.unique(choices_without_replacement))}\")"
   ]
  },
  {
   "cell_type": "markdown",
   "metadata": {},
   "source": [
    "## Question 10\n",
    "Shuffle an array [1, 2, 3, 4, 5] in place using np.random.shuffle() and create a shuffled copy using np.random.permutation()."
   ]
  },
  {
   "cell_type": "code",
   "execution_count": null,
   "metadata": {},
   "outputs": [],
   "source": [
    "# Original array\n",
    "original = np.array([1, 2, 3, 4, 5])\n",
    "print(f\"Original array: {original}\")\n",
    "\n",
    "# Shuffle in place\n",
    "in_place_array = original.copy()\n",
    "np.random.shuffle(in_place_array)\n",
    "print(f\"After shuffle (in-place): {in_place_array}\")\n",
    "\n",
    "# Create shuffled copy\n",
    "shuffled_copy = np.random.permutation(original)\n",
    "print(f\"Shuffled copy: {shuffled_copy}\")\n",
    "print(f\"Original unchanged: {original}\")\n",
    "\n",
    "# Verify all contain same elements\n",
    "print(f\"All contain same elements: {np.array_equal(np.sort(original), np.sort(in_place_array)) and np.array_equal(np.sort(original), np.sort(shuffled_copy))}\")"
   ]
  }
 ],
 "metadata": {
  "kernelspec": {
   "display_name": "Python 3",
   "language": "python",
   "name": "python3"
  },
  "language_info": {
   "codemirror_mode": {
    "name": "ipython",
    "version": 3
   },
   "file_extension": ".py",
   "name": "python",
   "nbconvert_exporter": "python",
   "pygments_lexer": "ipython3",
   "version": "3.8.5"
  }
 },
 "nbformat": 4,
 "nbformat_minor": 4
}