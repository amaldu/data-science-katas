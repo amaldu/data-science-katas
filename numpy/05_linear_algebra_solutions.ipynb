{
 "cells": [
  {
   "cell_type": "markdown",
   "metadata": {},
   "source": [
    "# Linear Algebra - Solutions\n",
    "\n",
    "Matrix operations, linear systems, and eigenvalue problems."
   ]
  },
  {
   "cell_type": "markdown",
   "metadata": {},
   "source": [
    "## Question 1\n",
    "Create two 2x2 matrices and perform matrix multiplication using the @ operator."
   ]
  },
  {
   "cell_type": "code",
   "execution_count": null,
   "metadata": {},
   "outputs": [],
   "source": [
    "import numpy as np\n",
    "\n",
    "A = np.array([[1, 2], [3, 4]])\n",
    "B = np.array([[5, 6], [7, 8]])\n",
    "result = A @ B\n",
    "\n",
    "print(f\"Matrix A:\\n{A}\")\n",
    "print(f\"Matrix B:\\n{B}\")\n",
    "print(f\"A @ B:\\n{result}\")"
   ]
  },
  {
   "cell_type": "markdown",
   "metadata": {},
   "source": [
    "## Question 2\n",
    "Perform matrix multiplication using np.dot() and np.matmul() and verify they give the same result."
   ]
  },
  {
   "cell_type": "code",
   "execution_count": null,
   "metadata": {},
   "outputs": [],
   "source": [
    "import numpy as np\n",
    "A = np.array([[1, 2], [3, 4]])\n",
    "B = np.array([[5, 6], [7, 8]])\n",
    "\n",
    "dot_result = np.dot(A, B)\n",
    "matmul_result = np.matmul(A, B)\n",
    "at_result = A @ B\n",
    "\n",
    "print(f\"np.dot result:\\n{dot_result}\")\n",
    "print(f\"np.matmul result:\\n{matmul_result}\")\n",
    "print(f\"@ operator result:\\n{at_result}\")\n",
    "print(f\"All methods give same result: {np.array_equal(dot_result, matmul_result) and np.array_equal(matmul_result, at_result)}\")"
   ]
  },
  {
   "cell_type": "markdown",
   "metadata": {},
   "source": [
    "## Question 3\n",
    "Create a 3x3 matrix and calculate its transpose using .T and verify with transpose()."
   ]
  },
  {
   "cell_type": "code",
   "execution_count": null,
   "metadata": {},
   "outputs": [],
   "source": [
    "matrix = np.array([[1, 2, 3], [4, 5, 6], [7, 8, 9]])\n",
    "transpose_T = matrix.T\n",
    "transpose_method = matrix.transpose()\n",
    "\n",
    "print(f\"Original matrix:\\n{matrix}\")\n",
    "print(f\"Transpose using .T:\\n{transpose_T}\")\n",
    "print(f\"Transpose using transpose():\\n{transpose_method}\")\n",
    "print(f\"Both methods give same result: {np.array_equal(transpose_T, transpose_method)}\")"
   ]
  },
  {
   "cell_type": "markdown",
   "metadata": {},
   "source": [
    "## Question 4\n",
    "Calculate the inverse of a 2x2 matrix using np.linalg.inv()."
   ]
  },
  {
   "cell_type": "code",
   "execution_count": null,
   "metadata": {},
   "outputs": [],
   "source": [
    "import numpy as np\n",
    "matrix = np.array([[4, 2], [1, 3]])\n",
    "inverse = np.linalg.inv(matrix)\n",
    "\n",
    "print(f\"Original matrix:\\n{matrix}\")\n",
    "print(f\"Inverse matrix:\\n{inverse}\")\n",
    "\n",
    "# Verify: A * A^(-1) = I\n",
    "identity_check = matrix @ inverse\n",
    "print(f\"Matrix * Inverse (should be identity):\\n{identity_check}\")\n",
    "print(f\"Is close to identity: {np.allclose(identity_check, np.eye(2))}\")"
   ]
  },
  {
   "cell_type": "markdown",
   "metadata": {},
   "source": [
    "## Question 5\n",
    "Calculate the determinant of a 3x3 matrix using np.linalg.det()."
   ]
  },
  {
   "cell_type": "code",
   "execution_count": null,
   "metadata": {},
   "outputs": [],
   "source": [
    "matrix = np.array([[1, 2, 3], [4, 5, 6], [7, 8, 10]])\n",
    "determinant = np.linalg.det(matrix)\n",
    "\n",
    "print(f\"Matrix:\\n{matrix}\")\n",
    "print(f\"Determinant: {determinant}\")\n",
    "print(f\"Matrix is {'invertible' if determinant != 0 else 'not invertible'}\")"
   ]
  },
  {
   "cell_type": "markdown",
   "metadata": {},
   "source": [
    "## Question 6\n",
    "Solve the linear system Ax = b using np.linalg.solve()."
   ]
  },
  {
   "cell_type": "code",
   "execution_count": null,
   "metadata": {},
   "outputs": [],
   "source": [
    "import numpy as np\n",
    "# System: 2x + 3y = 7, x + 4y = 10\n",
    "A = np.array([[2, 3], [1, 4]])\n",
    "b = np.array([7, 10])\n",
    "solution = np.linalg.solve(A, b)\n",
    "\n",
    "print(f\"Coefficient matrix A:\\n{A}\")\n",
    "print(f\"Constants vector b: {b}\")\n",
    "print(f\"Solution: x = {solution[0]}, y = {solution[1]}\")\n",
    "\n",
    "# Verify solution\n",
    "verification = A @ solution\n",
    "print(f\"Verification A @ x = {verification}\")\n",
    "print(f\"Should equal b = {b}\")\n",
    "print(f\"Solution is correct: {np.allclose(verification, b)}\")"
   ]
  },
  {
   "cell_type": "markdown",
   "metadata": {},
   "source": [
    "## Question 7\n",
    "Calculate eigenvalues and eigenvectors of a 2x2 matrix using np.linalg.eig()."
   ]
  },
  {
   "cell_type": "code",
   "execution_count": null,
   "metadata": {},
   "outputs": [],
   "source": [
    "matrix = np.array([[4, 2], [1, 3]])\n",
    "eigenvalues, eigenvectors = np.linalg.eig(matrix)\n",
    "\n",
    "print(f\"Matrix:\\n{matrix}\")\n",
    "print(f\"Eigenvalues: {eigenvalues}\")\n",
    "print(f\"Eigenvectors:\\n{eigenvectors}\")\n",
    "\n",
    "# Verify: A * v = λ * v for first eigenvalue/eigenvector\n",
    "λ1, v1 = eigenvalues[0], eigenvectors[:, 0]\n",
    "left_side = matrix @ v1\n",
    "right_side = λ1 * v1\n",
    "print(f\"\\nVerification for first eigenvalue:\")\n",
    "print(f\"A * v1 = {left_side}\")\n",
    "print(f\"λ1 * v1 = {right_side}\")\n",
    "print(f\"Equal: {np.allclose(left_side, right_side)}\")"
   ]
  },
  {
   "cell_type": "markdown",
   "metadata": {},
   "source": [
    "## Question 8\n",
    "Calculate the norm of a vector using np.linalg.norm() with different ord parameters."
   ]
  },
  {
   "cell_type": "code",
   "execution_count": null,
   "metadata": {},
   "outputs": [],
   "source": [
    "import numpy as np\n",
    "vector = np.array([3, 4, 5])\n",
    "\n",
    "l1_norm = np.linalg.norm(vector, ord=1)\n",
    "l2_norm = np.linalg.norm(vector, ord=2)  # Default (Euclidean)\n",
    "l2_norm_default = np.linalg.norm(vector)\n",
    "linf_norm = np.linalg.norm(vector, ord=np.inf)\n",
    "\n",
    "print(f\"Vector: {vector}\")\n",
    "print(f\"L1 norm (Manhattan): {l1_norm}\")\n",
    "print(f\"L2 norm (Euclidean): {l2_norm}\")\n",
    "print(f\"L2 norm (default): {l2_norm_default}\")\n",
    "print(f\"L∞ norm (Maximum): {linf_norm}\")"
   ]
  },
  {
   "cell_type": "markdown",
   "metadata": {},
   "source": [
    "## Question 9\n",
    "Perform QR decomposition of a matrix using np.linalg.qr()."
   ]
  },
  {
   "cell_type": "code",
   "execution_count": null,
   "metadata": {},
   "outputs": [],
   "source": [
    "matrix = np.array([[1, 2], [3, 4], [5, 6]])\n",
    "Q, R = np.linalg.qr(matrix)\n",
    "\n",
    "print(f\"Original matrix:\\n{matrix}\")\n",
    "print(f\"Q (orthogonal matrix):\\n{Q}\")\n",
    "print(f\"R (upper triangular matrix):\\n{R}\")\n",
    "\n",
    "# Verify: Q * R = A\n",
    "reconstruction = Q @ R\n",
    "print(f\"Q @ R (should equal original):\\n{reconstruction}\")\n",
    "print(f\"Reconstruction is correct: {np.allclose(matrix, reconstruction)}\")"
   ]
  },
  {
   "cell_type": "markdown",
   "metadata": {},
   "source": [
    "## Question 10\n",
    "Calculate the rank of a matrix using np.linalg.matrix_rank()."
   ]
  },
  {
   "cell_type": "code",
   "execution_count": null,
   "metadata": {},
   "outputs": [],
   "source": [
    "import numpy as np\n",
    "matrix = np.array([[1, 2, 3], [4, 5, 6], [7, 8, 9]])\n",
    "rank = np.linalg.matrix_rank(matrix)\n",
    "\n",
    "print(f\"Matrix:\\n{matrix}\")\n",
    "print(f\"Rank: {rank}\")\n",
    "print(f\"Matrix shape: {matrix.shape}\")\n",
    "print(f\"Matrix is {'full rank' if rank == min(matrix.shape) else 'rank deficient'}\")\n",
    "\n",
    "# Compare with a full rank matrix\n",
    "full_rank_matrix = np.array([[1, 2, 3], [4, 5, 6], [7, 8, 10]])\n",
    "full_rank = np.linalg.matrix_rank(full_rank_matrix)\n",
    "print(f\"\\nFull rank matrix:\\n{full_rank_matrix}\")\n",
    "print(f\"Its rank: {full_rank}\")"
   ]
  }
 ],
 "metadata": {
  "kernelspec": {
   "display_name": "Python 3",
   "language": "python",
   "name": "python3"
  },
  "language_info": {
   "codemirror_mode": {
    "name": "ipython",
    "version": 3
   },
   "file_extension": ".py",
   "name": "python",
   "nbconvert_exporter": "python",
   "pygments_lexer": "ipython3",
   "version": "3.8.5"
  }
 },
 "nbformat": 4,
 "nbformat_minor": 4
}