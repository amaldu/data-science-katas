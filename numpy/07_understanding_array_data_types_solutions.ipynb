{
 "cells": [
  {
   "cell_type": "markdown",
   "metadata": {},
   "source": [
    "# Understanding Array Data Types - Solutions\n",
    "\n",
    "Data type specification, conversions, and performance considerations."
   ]
  },
  {
   "cell_type": "markdown",
   "metadata": {},
   "source": [
    "## Question 1\n",
    "Create arrays with different data types (int32, float64, bool) and examine their dtype attribute."
   ]
  },
  {
   "cell_type": "code",
   "execution_count": null,
   "metadata": {},
   "outputs": [],
   "source": [
    "import numpy as np\n",
    "\n",
    "int_array = np.array([1, 2, 3, 4, 5], dtype=np.int32)\n",
    "float_array = np.array([1.1, 2.2, 3.3, 4.4, 5.5], dtype=np.float64)\n",
    "bool_array = np.array([True, False, True, False, True], dtype=bool)\n",
    "\n",
    "print(f\"Integer array: {int_array}\")\n",
    "print(f\"  dtype: {int_array.dtype}\")\n",
    "print(f\"  itemsize: {int_array.itemsize} bytes\")\n",
    "\n",
    "print(f\"\\nFloat array: {float_array}\")\n",
    "print(f\"  dtype: {float_array.dtype}\")\n",
    "print(f\"  itemsize: {float_array.itemsize} bytes\")\n",
    "\n",
    "print(f\"\\nBoolean array: {bool_array}\")\n",
    "print(f\"  dtype: {bool_array.dtype}\")\n",
    "print(f\"  itemsize: {bool_array.itemsize} bytes\")"
   ]
  },
  {
   "cell_type": "markdown",
   "metadata": {},
   "source": [
    "## Question 2\n",
    "Create an array of integers and convert it to float using astype() method."
   ]
  },
  {
   "cell_type": "code",
   "execution_count": null,
   "metadata": {},
   "outputs": [],
   "source": [
    "import numpy as np\n",
    "int_array = np.array([1, 2, 3, 4, 5])\n",
    "float_array = int_array.astype(np.float64)\n",
    "\n",
    "print(f\"Original integer array: {int_array}\")\n",
    "print(f\"  dtype: {int_array.dtype}\")\n",
    "\n",
    "print(f\"Converted float array: {float_array}\")\n",
    "print(f\"  dtype: {float_array.dtype}\")\n",
    "\n",
    "print(f\"\\nOriginal array unchanged: {int_array}\")\n",
    "print(f\"astype() creates a copy, not in-place conversion\")"
   ]
  },
  {
   "cell_type": "markdown",
   "metadata": {},
   "source": [
    "## Question 3\n",
    "Create a float array and convert it to integer, observing what happens to decimal parts."
   ]
  },
  {
   "cell_type": "code",
   "execution_count": null,
   "metadata": {},
   "outputs": [],
   "source": [
    "float_array = np.array([1.7, 2.3, 3.9, 4.1, 5.8])\n",
    "int_array = float_array.astype(int)\n",
    "\n",
    "print(f\"Original float array: {float_array}\")\n",
    "print(f\"  dtype: {float_array.dtype}\")\n",
    "\n",
    "print(f\"Converted integer array: {int_array}\")\n",
    "print(f\"  dtype: {int_array.dtype}\")\n",
    "\n",
    "print(f\"\\nNote: Decimal parts are truncated (not rounded)\")\n",
    "print(f\"1.7 → 1, 2.3 → 2, 3.9 → 3, etc.\")"
   ]
  },
  {
   "cell_type": "markdown",
   "metadata": {},
   "source": [
    "## Question 4\n",
    "Create an array with explicit dtype specification during creation using np.array() with dtype parameter."
   ]
  },
  {
   "cell_type": "code",
   "execution_count": null,
   "metadata": {},
   "outputs": [],
   "source": [
    "# Different ways to specify dtype\n",
    "arr1 = np.array([1, 2, 3], dtype=np.float32)\n",
    "arr2 = np.array([1, 2, 3], dtype='float32')\n",
    "arr3 = np.array([1, 2, 3], dtype='f4')  # 4-byte float\n",
    "arr4 = np.array([1.0, 2.0, 3.0], dtype=int)\n",
    "\n",
    "print(f\"Array 1 (np.float32): {arr1}, dtype: {arr1.dtype}\")\n",
    "print(f\"Array 2 ('float32'): {arr2}, dtype: {arr2.dtype}\")\n",
    "print(f\"Array 3 ('f4'): {arr3}, dtype: {arr3.dtype}\")\n",
    "print(f\"Array 4 (float to int): {arr4}, dtype: {arr4.dtype}\")\n",
    "\n",
    "print(f\"\\nAll float32 arrays are equivalent: {np.array_equal(arr1, arr2) and np.array_equal(arr2, arr3)}\")"
   ]
  },
  {
   "cell_type": "markdown",
   "metadata": {},
   "source": [
    "## Question 5\n",
    "Compare memory usage of int8, int32, and int64 arrays with the same values."
   ]
  },
  {
   "cell_type": "code",
   "execution_count": null,
   "metadata": {},
   "outputs": [],
   "source": [
    "import numpy as np\n",
    "values = [1, 2, 3, 4, 5] * 100  # 500 elements\n",
    "\n",
    "arr_int8 = np.array(values, dtype=np.int8)\n",
    "arr_int32 = np.array(values, dtype=np.int32)\n",
    "arr_int64 = np.array(values, dtype=np.int64)\n",
    "\n",
    "print(f\"Array size: {len(values)} elements\")\n",
    "print(f\"\\nint8 array:\")\n",
    "print(f\"  dtype: {arr_int8.dtype}\")\n",
    "print(f\"  itemsize: {arr_int8.itemsize} bytes per element\")\n",
    "print(f\"  total memory: {arr_int8.nbytes} bytes\")\n",
    "\n",
    "print(f\"\\nint32 array:\")\n",
    "print(f\"  dtype: {arr_int32.dtype}\")\n",
    "print(f\"  itemsize: {arr_int32.itemsize} bytes per element\")\n",
    "print(f\"  total memory: {arr_int32.nbytes} bytes\")\n",
    "\n",
    "print(f\"\\nint64 array:\")\n",
    "print(f\"  dtype: {arr_int64.dtype}\")\n",
    "print(f\"  itemsize: {arr_int64.itemsize} bytes per element\")\n",
    "print(f\"  total memory: {arr_int64.nbytes} bytes\")\n",
    "\n",
    "print(f\"\\nMemory ratio (int64:int32:int8) = {arr_int64.nbytes}:{arr_int32.nbytes}:{arr_int8.nbytes} = 8:4:1\")"
   ]
  },
  {
   "cell_type": "markdown",
   "metadata": {},
   "source": [
    "## Question 6\n",
    "Create a string array and examine its dtype and itemsize."
   ]
  },
  {
   "cell_type": "code",
   "execution_count": null,
   "metadata": {},
   "outputs": [],
   "source": [
    "string_array = np.array(['hello', 'world', 'numpy', 'arrays'])\n",
    "fixed_string_array = np.array(['hello', 'world', 'numpy', 'arrays'], dtype='U10')\n",
    "\n",
    "print(f\"String array: {string_array}\")\n",
    "print(f\"  dtype: {string_array.dtype}\")\n",
    "print(f\"  itemsize: {string_array.itemsize} bytes per element\")\n",
    "\n",
    "print(f\"\\nFixed-size string array: {fixed_string_array}\")\n",
    "print(f\"  dtype: {fixed_string_array.dtype}\")\n",
    "print(f\"  itemsize: {fixed_string_array.itemsize} bytes per element\")\n",
    "\n",
    "print(f\"\\nNote: 'U' means Unicode string, number indicates max characters\")\n",
    "print(f\"Each Unicode character takes 4 bytes (UTF-32 encoding)\")"
   ]
  },
  {
   "cell_type": "markdown",
   "metadata": {},
   "source": [
    "## Question 7\n",
    "Demonstrate numeric precision differences between float32 and float64."
   ]
  },
  {
   "cell_type": "code",
   "execution_count": null,
   "metadata": {},
   "outputs": [],
   "source": [
    "# Large number that will show precision differences\n",
    "value = 1.23456789012345678901234567890\n",
    "\n",
    "float32_val = np.float32(value)\n",
    "float64_val = np.float64(value)\n",
    "\n",
    "print(f\"Original value: {value}\")\n",
    "print(f\"float32 value:  {float32_val}\")\n",
    "print(f\"float64 value:  {float64_val}\")\n",
    "\n",
    "# Show precision limits\n",
    "print(f\"\\nPrecision demonstration:\")\n",
    "arr32 = np.array([1.0, 1.0 + 1e-7, 1.0 + 1e-8], dtype=np.float32)\n",
    "arr64 = np.array([1.0, 1.0 + 1e-7, 1.0 + 1e-8], dtype=np.float64)\n",
    "\n",
    "print(f\"float32: {arr32}\")\n",
    "print(f\"float64: {arr64}\")\n",
    "\n",
    "print(f\"\\nfloat32 can distinguish 1e-7 but not 1e-8 from 1.0\")\n",
    "print(f\"float64 can distinguish both\")"
   ]
  },
  {
   "cell_type": "markdown",
   "metadata": {},
   "source": [
    "## Question 8\n",
    "Create a boolean array and convert it to integers, then back to boolean."
   ]
  },
  {
   "cell_type": "code",
   "execution_count": null,
   "metadata": {},
   "outputs": [],
   "source": [
    "bool_array = np.array([True, False, True, False, True])\n",
    "int_from_bool = bool_array.astype(int)\n",
    "bool_from_int = int_from_bool.astype(bool)\n",
    "\n",
    "print(f\"Original boolean array: {bool_array}\")\n",
    "print(f\"  dtype: {bool_array.dtype}\")\n",
    "\n",
    "print(f\"Converted to integer: {int_from_bool}\")\n",
    "print(f\"  dtype: {int_from_bool.dtype}\")\n",
    "\n",
    "print(f\"Converted back to boolean: {bool_from_int}\")\n",
    "print(f\"  dtype: {bool_from_int.dtype}\")\n",
    "\n",
    "print(f\"\\nRound-trip successful: {np.array_equal(bool_array, bool_from_int)}\")\n",
    "\n",
    "# Demonstrate integer to boolean conversion rules\n",
    "int_array = np.array([0, 1, 2, -1, 0])\n",
    "bool_from_various_ints = int_array.astype(bool)\n",
    "print(f\"\\nVarious integers: {int_array}\")\n",
    "print(f\"As booleans: {bool_from_various_ints}\")\n",
    "print(f\"Rule: 0 → False, any non-zero → True\")"
   ]
  },
  {
   "cell_type": "markdown",
   "metadata": {},
   "source": [
    "## Question 9\n",
    "Use np.iinfo() and np.finfo() to examine the limits of integer and float data types."
   ]
  },
  {
   "cell_type": "code",
   "execution_count": null,
   "metadata": {},
   "outputs": [],
   "source": [
    "# Integer type information\n",
    "print(\"Integer type limits:\")\n",
    "for dtype in [np.int8, np.int16, np.int32, np.int64]:\n",
    "    info = np.iinfo(dtype)\n",
    "    print(f\"{dtype.__name__}: min={info.min}, max={info.max}\")\n",
    "\n",
    "print(\"\\nUnsigned integer type limits:\")\n",
    "for dtype in [np.uint8, np.uint16, np.uint32, np.uint64]:\n",
    "    info = np.iinfo(dtype)\n",
    "    print(f\"{dtype.__name__}: min={info.min}, max={info.max}\")\n",
    "\n",
    "# Float type information\n",
    "print(\"\\nFloat type information:\")\n",
    "for dtype in [np.float32, np.float64]:\n",
    "    info = np.finfo(dtype)\n",
    "    print(f\"{dtype.__name__}:\")\n",
    "    print(f\"  precision: {info.precision} decimal digits\")\n",
    "    print(f\"  tiny: {info.tiny} (smallest positive normal number)\")\n",
    "    print(f\"  max: {info.max}\")\n",
    "    print(f\"  eps: {info.eps} (machine epsilon)\")"
   ]
  },
  {
   "cell_type": "markdown",
   "metadata": {},
   "source": [
    "## Question 10\n",
    "Create a complex number array and examine its dtype and component access."
   ]
  },
  {
   "cell_type": "code",
   "execution_count": null,
   "metadata": {},
   "outputs": [],
   "source": [
    "complex_array = np.array([1+2j, 3+4j, 5-6j, 0+1j, 2+0j])\n",
    "\n",
    "print(f\"Complex array: {complex_array}\")\n",
    "print(f\"  dtype: {complex_array.dtype}\")\n",
    "print(f\"  itemsize: {complex_array.itemsize} bytes per element\")\n",
    "\n",
    "print(f\"\\nReal parts: {complex_array.real}\")\n",
    "print(f\"  dtype: {complex_array.real.dtype}\")\n",
    "\n",
    "print(f\"Imaginary parts: {complex_array.imag}\")\n",
    "print(f\"  dtype: {complex_array.imag.dtype}\")\n",
    "\n",
    "print(f\"\\nMagnitude (absolute value): {np.abs(complex_array)}\")\n",
    "print(f\"Phase (angle): {np.angle(complex_array)}\")\n",
    "\n",
    "# Create with explicit complex dtype\n",
    "complex64_array = np.array([1+2j, 3+4j], dtype=np.complex64)\n",
    "print(f\"\\ncomplex64 array: {complex64_array}\")\n",
    "print(f\"  dtype: {complex64_array.dtype}\")\n",
    "print(f\"  itemsize: {complex64_array.itemsize} bytes (32 bits each for real and imag)\")"
   ]
  }
 ],
 "metadata": {
  "kernelspec": {
   "display_name": "Python 3",
   "language": "python",
   "name": "python3"
  },
  "language_info": {
   "codemirror_mode": {
    "name": "ipython",
    "version": 3
   },
   "file_extension": ".py",
   "name": "python",
   "nbconvert_exporter": "python",
   "pygments_lexer": "ipython3",
   "version": "3.8.5"
  }
 },
 "nbformat": 4,
 "nbformat_minor": 4
}