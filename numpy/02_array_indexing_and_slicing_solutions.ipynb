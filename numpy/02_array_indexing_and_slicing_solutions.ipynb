{
 "cells": [
  {
   "cell_type": "markdown",
   "metadata": {},
   "source": [
    "# Array Indexing and Slicing - Solutions\n",
    "\n",
    "Accessing elements, slicing, boolean indexing, and fancy indexing."
   ]
  },
  {
   "cell_type": "markdown",
   "metadata": {},
   "source": [
    "## Question 1\n",
    "Create a 1D array with values 10, 20, 30, 40, 50 and access the element at index 2."
   ]
  },
  {
   "cell_type": "code",
   "execution_count": null,
   "metadata": {},
   "outputs": [],
   "source": [
    "import numpy as np\n",
    "\n",
    "arr = np.array([10, 20, 30, 40, 50])\n",
    "element = arr[2]\n",
    "print(f\"Element at index 2: {element}\")"
   ]
  },
  {
   "cell_type": "markdown",
   "metadata": {},
   "source": [
    "## Question 2\n",
    "Create a 3x3 array with values 1-9 and access the element in row 1, column 2."
   ]
  },
  {
   "cell_type": "code",
   "execution_count": null,
   "metadata": {},
   "outputs": [],
   "source": [
    "arr_2d = np.arange(1, 10).reshape(3, 3)\n",
    "print(f\"Array:\\n{arr_2d}\")\n",
    "element = arr_2d[1, 2]\n",
    "print(f\"Element at row 1, column 2: {element}\")"
   ]
  },
  {
   "cell_type": "markdown",
   "metadata": {},
   "source": [
    "## Question 3\n",
    "From an array [5, 10, 15, 20, 25, 30], extract elements from index 1 to 4 (exclusive) using slicing."
   ]
  },
  {
   "cell_type": "code",
   "execution_count": null,
   "metadata": {},
   "outputs": [],
   "source": [
    "arr = np.array([5, 10, 15, 20, 25, 30])\n",
    "sliced = arr[1:4]\n",
    "print(f\"Original array: {arr}\")\n",
    "print(f\"Sliced array: {sliced}\")"
   ]
  },
  {
   "cell_type": "markdown",
   "metadata": {},
   "source": [
    "## Question 4\n",
    "Create a 4x4 array and extract the first two rows and first three columns using slicing."
   ]
  },
  {
   "cell_type": "code",
   "execution_count": null,
   "metadata": {},
   "outputs": [],
   "source": [
    "arr_4x4 = np.arange(1, 17).reshape(4, 4)\n",
    "print(f\"Original 4x4 array:\\n{arr_4x4}\")\n",
    "subset = arr_4x4[:2, :3]\n",
    "print(f\"First 2 rows, first 3 columns:\\n{subset}\")"
   ]
  },
  {
   "cell_type": "markdown",
   "metadata": {},
   "source": [
    "## Question 5\n",
    "From an array [1, 2, 3, 4, 5, 6, 7, 8], extract every second element using step slicing."
   ]
  },
  {
   "cell_type": "code",
   "execution_count": null,
   "metadata": {},
   "outputs": [],
   "source": [
    "arr = np.array([1, 2, 3, 4, 5, 6, 7, 8])\n",
    "every_second = arr[::2]\n",
    "print(f\"Original array: {arr}\")\n",
    "print(f\"Every second element: {every_second}\")"
   ]
  },
  {
   "cell_type": "markdown",
   "metadata": {},
   "source": [
    "## Question 6\n",
    "Create an array [2, 5, 8, 3, 9, 1] and use boolean indexing to extract elements greater than 5."
   ]
  },
  {
   "cell_type": "code",
   "execution_count": null,
   "metadata": {},
   "outputs": [],
   "source": [
    "arr = np.array([2, 5, 8, 3, 9, 1])\n",
    "mask = arr > 5\n",
    "greater_than_5 = arr[mask]\n",
    "print(f\"Original array: {arr}\")\n",
    "print(f\"Boolean mask: {mask}\")\n",
    "print(f\"Elements > 5: {greater_than_5}\")"
   ]
  },
  {
   "cell_type": "markdown",
   "metadata": {},
   "source": [
    "## Question 7\n",
    "Create a 2D array and use boolean indexing to find all elements that are even."
   ]
  },
  {
   "cell_type": "code",
   "execution_count": null,
   "metadata": {},
   "outputs": [],
   "source": [
    "import numpy as np\n",
    "arr = np.array([[1, 2, 3], [4, 5, 6], [7, 8, 9]])\n",
    "even_mask = arr % 2 == 0\n",
    "even_elements = arr[even_mask]\n",
    "print(f\"Original array:\\n{arr}\")\n",
    "print(f\"Even mask:\\n{even_mask}\")\n",
    "print(f\"Even elements: {even_elements}\")"
   ]
  },
  {
   "cell_type": "markdown",
   "metadata": {},
   "source": [
    "## Question 8\n",
    "Use fancy indexing to select elements at indices [0, 2, 4] from the array [10, 20, 30, 40, 50]."
   ]
  },
  {
   "cell_type": "code",
   "execution_count": null,
   "metadata": {},
   "outputs": [],
   "source": [
    "arr = np.array([10, 20, 30, 40, 50])\n",
    "indices = [0, 2, 4]\n",
    "selected = arr[indices]\n",
    "print(f\"Original array: {arr}\")\n",
    "print(f\"Selected indices: {indices}\")\n",
    "print(f\"Selected elements: {selected}\")"
   ]
  },
  {
   "cell_type": "markdown",
   "metadata": {},
   "source": [
    "## Question 9\n",
    "Create a 3x3 array and use fancy indexing to select rows [0, 2] and columns [1, 2]."
   ]
  },
  {
   "cell_type": "code",
   "execution_count": null,
   "metadata": {},
   "outputs": [],
   "source": [
    "arr_3x3 = np.arange(1, 10).reshape(3, 3)\n",
    "print(f\"Original 3x3 array:\\n{arr_3x3}\")\n",
    "selected = arr_3x3[[0, 2]][:, [1, 2]]\n",
    "print(f\"Rows [0, 2], Columns [1, 2]:\\n{selected}\")"
   ]
  },
  {
   "cell_type": "markdown",
   "metadata": {},
   "source": [
    "## Question 10\n",
    "Create an array and use negative indexing to access the last element and the second-to-last element."
   ]
  },
  {
   "cell_type": "code",
   "execution_count": null,
   "metadata": {},
   "outputs": [],
   "source": [
    "arr = np.array([10, 20, 30, 40, 50, 60, 70])\n",
    "last = arr[-1]\n",
    "second_last = arr[-2]\n",
    "print(f\"Original array: {arr}\")\n",
    "print(f\"Last element: {last}\")\n",
    "print(f\"Second-to-last element: {second_last}\")"
   ]
  }
 ],
 "metadata": {
  "kernelspec": {
   "display_name": "Python 3",
   "language": "python",
   "name": "python3"
  },
  "language_info": {
   "codemirror_mode": {
    "name": "ipython",
    "version": 3
   },
   "file_extension": ".py",
   "name": "python",
   "nbconvert_exporter": "python",
   "pygments_lexer": "ipython3",
   "version": "3.8.5"
  }
 },
 "nbformat": 4,
 "nbformat_minor": 4
}