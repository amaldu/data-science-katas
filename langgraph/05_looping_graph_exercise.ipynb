{
 "cells": [
  {
   "cell_type": "markdown",
   "id": "9f529bb4",
   "metadata": {},
   "source": [
    "Make the following graph. You need to implement an automatic higher or lower game\n",
    "\n",
    "Set the bounds to between 1 to 20. The graph has to keep guessing (max number of guesses is 7) where if the guess is correct, then it stops but if not we keep looping until we hit the max limit. \n",
    "\n",
    "Each time a number is guessed, the hint node should say higher or lower and the graph should account for this information and guess the next guess accordingly\n",
    "\n",
    "input: {\"player_name\": \"student\", \"guesses\": [], \"attempts\": 0, \"lower_bound\": 1, \"upper_bound\":20}"
   ]
  },
  {
   "cell_type": "code",
   "execution_count": 11,
   "id": "12568bf5",
   "metadata": {},
   "outputs": [
    {
     "data": {
      "image/png": "[encoded data removed]",
      "text/plain": [
       "<IPython.core.display.Image object>"
      ]
     },
     "metadata": {},
     "output_type": "display_data"
    }
   ],
   "source": [
    "from IPython.display import Image, display\n",
    "\n",
    "display(Image(filename='imgs/05_graph_exercise.png'))"
   ]
  },
  {
   "cell_type": "code",
   "execution_count": 12,
   "id": "c0a3c5d7",
   "metadata": {},
   "outputs": [],
   "source": [
    "from typing import TypedDict, List\n",
    "from langgraph.graph import StateGraph, START, END\n",
    "import random\n",
    "import logging\n",
    "\n",
    "logging.basicConfig(level=logging.INFO, format='%(asctime)s - %(name)s - %(levelname)s - %(message)s')\n",
    "logger = logging.getLogger(__name__)"
   ]
  },
  {
   "cell_type": "code",
   "execution_count": 13,
   "id": "6ce48196",
   "metadata": {},
   "outputs": [],
   "source": [
    "class AgentState(TypedDict):\n",
    "    player_name: str\n",
    "    guesses: List[str]\n",
    "    target_number: int\n",
    "    attempts: str\n",
    "    lower_bound: int\n",
    "    upper_bound: int\n"
   ]
  },
  {
   "cell_type": "code",
   "execution_count": 14,
   "id": "e55aafba",
   "metadata": {},
   "outputs": [],
   "source": [
    "def setup_node(state:AgentState) -> AgentState:\n",
    "    \"\"\"\n",
    "    This node sets up the information about the player\n",
    "    \"\"\"\n",
    "    try:\n",
    "        state[\"player_name\"] = f\"Hi, {state['player_name']} welcome to the guessing game! I'm thinking of a number between {state['lower_bound']} and {state['upper_bound']}\"\n",
    "        print(state[\"player_name\"])\n",
    "        print(\"-\"*50)\n",
    "        state[\"target_number\"] = random.randint(state[\"lower_bound\"], state[\"upper_bound\"])\n",
    "        return state\n",
    "\n",
    "    except Exception as e:\n",
    "            logger.error(f\"Error in assistant node: {e}\")\n"
   ]
  },
  {
   "cell_type": "code",
   "execution_count": 15,
   "id": "95d385be",
   "metadata": {},
   "outputs": [],
   "source": [
    "def guess_node(state:AgentState) -> AgentState:\n",
    "    \"\"\"\n",
    "    This node generates a random number from 1 to 20\n",
    "    \"\"\"  \n",
    "    try:\n",
    "        state[\"guesses\"].append(random.randint(state[\"lower_bound\"], state[\"upper_bound\"]))\n",
    "        state[\"attempts\"] += 1\n",
    "        print(f\"Attempt {state['attempts']}: Guessing {state['guesses'][-1]} (Current range: {state['lower_bound']}-{state['upper_bound']})\")\n",
    "        return state\n",
    "\n",
    "    except Exception as e:\n",
    "        logger.error(f\"Error in assistant node: {e}\")"
   ]
  },
  {
   "cell_type": "code",
   "execution_count": 16,
   "id": "6ba08b36",
   "metadata": {},
   "outputs": [],
   "source": [
    "\n",
    "def hint_node(state:AgentState) -> AgentState:\n",
    "    \"\"\"\n",
    "    This node gives you a hint\n",
    "    \"\"\"\n",
    "    try:\n",
    "        if state[\"guesses\"][-1] < state[\"target_number\"]:\n",
    "            print(f\"{state['guesses'][-1]} is too low, try again!\")\n",
    "            print(\"-\"*50)\n",
    "            state[\"lower_bound\"] = state[\"guesses\"][-1]\n",
    "            return state\n",
    "        \n",
    "        elif state[\"guesses\"][-1] > state[\"target_number\"]:\n",
    "            print(f\"{state['guesses'][-1]} is too high, try again!\")\n",
    "            print(\"-\"*50)\n",
    "            state[\"upper_bound\"] = state[\"guesses\"][-1]\n",
    "            return state\n",
    "\n",
    "        else:\n",
    "            print(f\"Congratulations! You guessed the right number!\")\n",
    "\n",
    "        return state\n",
    "\n",
    "    except Exception as e:\n",
    "        logger.error(f\"Error in assistant node: {e}\")\n"
   ]
  },
  {
   "cell_type": "code",
   "execution_count": 17,
   "id": "3d67b1e6",
   "metadata": {},
   "outputs": [],
   "source": [
    "\n",
    "\n",
    "def should_continue(state:AgentState) -> AgentState:\n",
    "    \"\"\"\n",
    "    This node decides if we should continue trying\n",
    "    \"\"\"\n",
    "    try:\n",
    "        if state[\"guesses\"][-1] == state[\"target_number\"]:\n",
    "            return \"end\"\n",
    "\n",
    "        elif state[\"attempts\"] < 7:\n",
    "            print(f\"We continue trying...\")\n",
    "            return \"continue\"\n",
    "        else:\n",
    "            return \"end\"\n",
    "    except Exception as e:\n",
    "            logger.error(f\"Error in assistant node: {e}\")"
   ]
  },
  {
   "cell_type": "code",
   "execution_count": 18,
   "id": "97cb67d9",
   "metadata": {},
   "outputs": [],
   "source": [
    "graph = StateGraph(AgentState)\n",
    "\n",
    "graph.add_node(\"setup\", setup_node)\n",
    "graph.add_node(\"guess\", guess_node)\n",
    "graph.add_node(\"hint_node\", hint_node)\n",
    "\n",
    "graph.add_edge(\"setup\", \"guess\")\n",
    "graph.add_edge(\"guess\", \"hint_node\")\n",
    "\n",
    "graph.add_conditional_edges(\n",
    "    \"hint_node\", \n",
    "    should_continue,\n",
    "    {\n",
    "        \"continue\": \"guess\",\n",
    "        \"end\" : END\n",
    "\n",
    "\n",
    "    }\n",
    ")\n",
    "\n",
    "graph.set_entry_point(\"setup\")\n",
    "\n",
    "app = graph.compile()"
   ]
  },
  {
   "cell_type": "code",
   "execution_count": 19,
   "id": "d907f5ae",
   "metadata": {},
   "outputs": [
    {
     "data": {
      "image/png": "[encoded data removed]",
      "text/plain": [
       "<IPython.core.display.Image object>"
      ]
     },
     "metadata": {},
     "output_type": "display_data"
    }
   ],
   "source": [
    "# display the graph created\n",
    "\n",
    "from IPython.display import Image, display\n",
    "display(Image(app.get_graph().draw_mermaid_png()))"
   ]
  },
  {
   "cell_type": "code",
   "execution_count": 20,
   "id": "a093f9ac",
   "metadata": {},
   "outputs": [
    {
     "name": "stdout",
     "output_type": "stream",
     "text": [
      "Hi, student welcome to the guessing game! I'm thinking of a number between 1 and 20\n",
      "--------------------------------------------------\n",
      "Attempt 1: Guessing 10 (Current range: 1-20)\n",
      "10 is too low, try again!\n",
      "--------------------------------------------------\n",
      "We continue trying...\n",
      "Attempt 2: Guessing 12 (Current range: 10-20)\n",
      "12 is too low, try again!\n",
      "--------------------------------------------------\n",
      "We continue trying...\n",
      "Attempt 3: Guessing 13 (Current range: 12-20)\n",
      "13 is too low, try again!\n",
      "--------------------------------------------------\n",
      "We continue trying...\n",
      "Attempt 4: Guessing 15 (Current range: 13-20)\n",
      "15 is too high, try again!\n",
      "--------------------------------------------------\n",
      "We continue trying...\n",
      "Attempt 5: Guessing 15 (Current range: 13-15)\n",
      "15 is too high, try again!\n",
      "--------------------------------------------------\n",
      "We continue trying...\n",
      "Attempt 6: Guessing 14 (Current range: 13-15)\n",
      "Congratulations! You guessed the right number!\n"
     ]
    }
   ],
   "source": [
    "results = app.invoke({\"player_name\": \"student\", \"guesses\": [], \"attempts\": 0, \"lower_bound\": 1, \"upper_bound\":20})"
   ]
  },
  {
   "cell_type": "markdown",
   "id": "ea6e5be9",
   "metadata": {},
   "source": []
  }
 ],
 "metadata": {
  "kernelspec": {
   "display_name": "data-science-katas",
   "language": "python",
   "name": "ds-katas"
  },
  "language_info": {
   "codemirror_mode": {
    "name": "ipython",
    "version": 3
   },
   "file_extension": ".py",
   "mimetype": "text/x-python",
   "name": "python",
   "nbconvert_exporter": "python",
   "pygments_lexer": "ipython3",
   "version": "3.10.12"
  }
 },
 "nbformat": 4,
 "nbformat_minor": 5
}
